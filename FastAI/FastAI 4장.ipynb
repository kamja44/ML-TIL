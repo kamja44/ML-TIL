{
 "cells": [
  {
   "cell_type": "code",
   "execution_count": 1,
   "id": "8d6b9722",
   "metadata": {},
   "outputs": [],
   "source": [
    "from fastai.vision.all import *"
   ]
  },
  {
   "cell_type": "code",
   "execution_count": 2,
   "id": "71d10679",
   "metadata": {},
   "outputs": [],
   "source": [
    "path = untar_data(URLs.MNIST_SAMPLE)"
   ]
  },
  {
   "cell_type": "code",
   "execution_count": 3,
   "id": "99713468",
   "metadata": {},
   "outputs": [
    {
     "data": {
      "text/plain": [
       "(#3) [Path('C:/Users/YES/.fastai/data/mnist_sample/labels.csv'),Path('C:/Users/YES/.fastai/data/mnist_sample/train'),Path('C:/Users/YES/.fastai/data/mnist_sample/valid')]"
      ]
     },
     "execution_count": 3,
     "metadata": {},
     "output_type": "execute_result"
    }
   ],
   "source": [
    "path.ls()"
   ]
  },
  {
   "cell_type": "code",
   "execution_count": 4,
   "id": "bc4c8a0b",
   "metadata": {},
   "outputs": [
    {
     "data": {
      "text/plain": [
       "(#2) [Path('C:/Users/YES/.fastai/data/mnist_sample/train/3'),Path('C:/Users/YES/.fastai/data/mnist_sample/train/7')]"
      ]
     },
     "execution_count": 4,
     "metadata": {},
     "output_type": "execute_result"
    }
   ],
   "source": [
    "(path/\"train\").ls()"
   ]
  },
  {
   "cell_type": "code",
   "execution_count": 5,
   "id": "091577a3",
   "metadata": {},
   "outputs": [],
   "source": [
    "threes = (path/\"train\"/\"3\").ls().sorted()"
   ]
  },
  {
   "cell_type": "code",
   "execution_count": 6,
   "id": "d73c209e",
   "metadata": {},
   "outputs": [],
   "source": [
    "sevens = (path/\"train\"/\"7\").ls().sorted()"
   ]
  },
  {
   "cell_type": "code",
   "execution_count": 7,
   "id": "97d700d7",
   "metadata": {},
   "outputs": [
    {
     "data": {
      "text/plain": [
       "(#6131) [Path('C:/Users/YES/.fastai/data/mnist_sample/train/3/10.png'),Path('C:/Users/YES/.fastai/data/mnist_sample/train/3/10000.png'),Path('C:/Users/YES/.fastai/data/mnist_sample/train/3/10011.png'),Path('C:/Users/YES/.fastai/data/mnist_sample/train/3/10031.png'),Path('C:/Users/YES/.fastai/data/mnist_sample/train/3/10034.png'),Path('C:/Users/YES/.fastai/data/mnist_sample/train/3/10042.png'),Path('C:/Users/YES/.fastai/data/mnist_sample/train/3/10052.png'),Path('C:/Users/YES/.fastai/data/mnist_sample/train/3/1007.png'),Path('C:/Users/YES/.fastai/data/mnist_sample/train/3/10074.png'),Path('C:/Users/YES/.fastai/data/mnist_sample/train/3/10091.png')...]"
      ]
     },
     "execution_count": 7,
     "metadata": {},
     "output_type": "execute_result"
    }
   ],
   "source": [
    "threes"
   ]
  },
  {
   "cell_type": "code",
   "execution_count": 8,
   "id": "a07548b8",
   "metadata": {},
   "outputs": [
    {
     "data": {
      "image/png": "[encoded data removed]",
      "text/plain": [
       "<PIL.PngImagePlugin.PngImageFile image mode=L size=28x28>"
      ]
     },
     "execution_count": 8,
     "metadata": {},
     "output_type": "execute_result"
    }
   ],
   "source": [
    "im3_path = threes[1]\n",
    "im3 = Image.open(im3_path)\n",
    "im3"
   ]
  },
  {
   "cell_type": "code",
   "execution_count": 9,
   "id": "26c61afc",
   "metadata": {},
   "outputs": [
    {
     "data": {
      "text/plain": [
       "array([[  0,   0,   0,   0,   0,   0],\n",
       "       [  0,   0,   0,   0,   0,  29],\n",
       "       [  0,   0,   0,  48, 166, 224],\n",
       "       [  0,  93, 244, 249, 253, 187],\n",
       "       [  0, 107, 253, 253, 230,  48],\n",
       "       [  0,   3,  20,  20,  15,   0]], dtype=uint8)"
      ]
     },
     "execution_count": 9,
     "metadata": {},
     "output_type": "execute_result"
    }
   ],
   "source": [
    "array(im3)[4:10, 4:10] # numpy"
   ]
  },
  {
   "cell_type": "code",
   "execution_count": 10,
   "id": "4c402658",
   "metadata": {},
   "outputs": [
    {
     "data": {
      "text/plain": [
       "tensor([[  0,   0,   0,   0,   0,   0],\n",
       "        [  0,   0,   0,   0,   0,  29],\n",
       "        [  0,   0,   0,  48, 166, 224],\n",
       "        [  0,  93, 244, 249, 253, 187],\n",
       "        [  0, 107, 253, 253, 230,  48],\n",
       "        [  0,   3,  20,  20,  15,   0]], dtype=torch.uint8)"
      ]
     },
     "execution_count": 10,
     "metadata": {},
     "output_type": "execute_result"
    }
   ],
   "source": [
    "tensor(im3)[4:10, 4:10] # tensor"
   ]
  },
  {
   "cell_type": "code",
   "execution_count": 11,
   "id": "0de980f0",
   "metadata": {},
   "outputs": [
    {
     "data": {
      "text/html": [
       "<style type=\"text/css\">\n",
       "#T_b8433_row0_col0, #T_b8433_row0_col1, #T_b8433_row0_col2, #T_b8433_row0_col3, #T_b8433_row0_col4, #T_b8433_row0_col5, #T_b8433_row0_col6, #T_b8433_row0_col7, #T_b8433_row0_col8, #T_b8433_row0_col9, #T_b8433_row0_col10, #T_b8433_row0_col11, #T_b8433_row0_col12, #T_b8433_row0_col13, #T_b8433_row0_col14, #T_b8433_row0_col15, #T_b8433_row0_col16, #T_b8433_row0_col17, #T_b8433_row1_col0, #T_b8433_row1_col1, #T_b8433_row1_col2, #T_b8433_row1_col3, #T_b8433_row1_col4, #T_b8433_row1_col15, #T_b8433_row1_col16, #T_b8433_row1_col17, #T_b8433_row2_col0, #T_b8433_row2_col1, #T_b8433_row2_col2, #T_b8433_row2_col15, #T_b8433_row2_col16, #T_b8433_row2_col17, #T_b8433_row3_col0, #T_b8433_row3_col15, #T_b8433_row3_col16, #T_b8433_row3_col17, #T_b8433_row4_col0, #T_b8433_row4_col6, #T_b8433_row4_col7, #T_b8433_row4_col8, #T_b8433_row4_col9, #T_b8433_row4_col10, #T_b8433_row4_col15, #T_b8433_row4_col16, #T_b8433_row4_col17, #T_b8433_row5_col0, #T_b8433_row5_col5, #T_b8433_row5_col6, #T_b8433_row5_col7, #T_b8433_row5_col8, #T_b8433_row5_col9, #T_b8433_row5_col15, #T_b8433_row5_col16, #T_b8433_row5_col17, #T_b8433_row6_col0, #T_b8433_row6_col1, #T_b8433_row6_col2, #T_b8433_row6_col3, #T_b8433_row6_col4, #T_b8433_row6_col5, #T_b8433_row6_col6, #T_b8433_row6_col7, #T_b8433_row6_col8, #T_b8433_row6_col9, #T_b8433_row6_col14, #T_b8433_row6_col15, #T_b8433_row6_col16, #T_b8433_row6_col17, #T_b8433_row7_col0, #T_b8433_row7_col1, #T_b8433_row7_col2, #T_b8433_row7_col3, #T_b8433_row7_col4, #T_b8433_row7_col5, #T_b8433_row7_col6, #T_b8433_row7_col13, #T_b8433_row7_col14, #T_b8433_row7_col15, #T_b8433_row7_col16, #T_b8433_row7_col17, #T_b8433_row8_col0, #T_b8433_row8_col1, #T_b8433_row8_col2, #T_b8433_row8_col3, #T_b8433_row8_col4, #T_b8433_row8_col13, #T_b8433_row8_col14, #T_b8433_row8_col15, #T_b8433_row8_col16, #T_b8433_row8_col17, #T_b8433_row9_col0, #T_b8433_row9_col1, #T_b8433_row9_col2, #T_b8433_row9_col3, #T_b8433_row9_col4, #T_b8433_row9_col16, #T_b8433_row9_col17, #T_b8433_row10_col0, #T_b8433_row10_col1, #T_b8433_row10_col2, #T_b8433_row10_col3, #T_b8433_row10_col4, #T_b8433_row10_col5, #T_b8433_row10_col6, #T_b8433_row10_col17 {\n",
       "  font-size: 6pt;\n",
       "  background-color: #ffffff;\n",
       "  color: #000000;\n",
       "}\n",
       "#T_b8433_row1_col5 {\n",
       "  font-size: 6pt;\n",
       "  background-color: #efefef;\n",
       "  color: #000000;\n",
       "}\n",
       "#T_b8433_row1_col6, #T_b8433_row1_col13 {\n",
       "  font-size: 6pt;\n",
       "  background-color: #7c7c7c;\n",
       "  color: #f1f1f1;\n",
       "}\n",
       "#T_b8433_row1_col7 {\n",
       "  font-size: 6pt;\n",
       "  background-color: #4a4a4a;\n",
       "  color: #f1f1f1;\n",
       "}\n",
       "#T_b8433_row1_col8, #T_b8433_row1_col9, #T_b8433_row1_col10, #T_b8433_row2_col5, #T_b8433_row2_col6, #T_b8433_row2_col7, #T_b8433_row2_col11, #T_b8433_row2_col12, #T_b8433_row2_col13, #T_b8433_row3_col4, #T_b8433_row3_col12, #T_b8433_row3_col13, #T_b8433_row4_col1, #T_b8433_row4_col2, #T_b8433_row4_col3, #T_b8433_row4_col12, #T_b8433_row4_col13, #T_b8433_row5_col12, #T_b8433_row6_col11, #T_b8433_row9_col11, #T_b8433_row10_col11, #T_b8433_row10_col12, #T_b8433_row10_col13, #T_b8433_row10_col14, #T_b8433_row10_col15, #T_b8433_row10_col16 {\n",
       "  font-size: 6pt;\n",
       "  background-color: #000000;\n",
       "  color: #f1f1f1;\n",
       "}\n",
       "#T_b8433_row1_col11 {\n",
       "  font-size: 6pt;\n",
       "  background-color: #606060;\n",
       "  color: #f1f1f1;\n",
       "}\n",
       "#T_b8433_row1_col12 {\n",
       "  font-size: 6pt;\n",
       "  background-color: #4d4d4d;\n",
       "  color: #f1f1f1;\n",
       "}\n",
       "#T_b8433_row1_col14 {\n",
       "  font-size: 6pt;\n",
       "  background-color: #bbbbbb;\n",
       "  color: #000000;\n",
       "}\n",
       "#T_b8433_row2_col3 {\n",
       "  font-size: 6pt;\n",
       "  background-color: #e4e4e4;\n",
       "  color: #000000;\n",
       "}\n",
       "#T_b8433_row2_col4, #T_b8433_row8_col6 {\n",
       "  font-size: 6pt;\n",
       "  background-color: #6b6b6b;\n",
       "  color: #f1f1f1;\n",
       "}\n",
       "#T_b8433_row2_col8, #T_b8433_row2_col14, #T_b8433_row3_col14 {\n",
       "  font-size: 6pt;\n",
       "  background-color: #171717;\n",
       "  color: #f1f1f1;\n",
       "}\n",
       "#T_b8433_row2_col9, #T_b8433_row3_col11 {\n",
       "  font-size: 6pt;\n",
       "  background-color: #4b4b4b;\n",
       "  color: #f1f1f1;\n",
       "}\n",
       "#T_b8433_row2_col10, #T_b8433_row7_col10, #T_b8433_row8_col8, #T_b8433_row8_col10, #T_b8433_row9_col8, #T_b8433_row9_col10 {\n",
       "  font-size: 6pt;\n",
       "  background-color: #010101;\n",
       "  color: #f1f1f1;\n",
       "}\n",
       "#T_b8433_row3_col1 {\n",
       "  font-size: 6pt;\n",
       "  background-color: #272727;\n",
       "  color: #f1f1f1;\n",
       "}\n",
       "#T_b8433_row3_col2 {\n",
       "  font-size: 6pt;\n",
       "  background-color: #0a0a0a;\n",
       "  color: #f1f1f1;\n",
       "}\n",
       "#T_b8433_row3_col3 {\n",
       "  font-size: 6pt;\n",
       "  background-color: #050505;\n",
       "  color: #f1f1f1;\n",
       "}\n",
       "#T_b8433_row3_col5 {\n",
       "  font-size: 6pt;\n",
       "  background-color: #333333;\n",
       "  color: #f1f1f1;\n",
       "}\n",
       "#T_b8433_row3_col6 {\n",
       "  font-size: 6pt;\n",
       "  background-color: #e6e6e6;\n",
       "  color: #000000;\n",
       "}\n",
       "#T_b8433_row3_col7, #T_b8433_row3_col10 {\n",
       "  font-size: 6pt;\n",
       "  background-color: #fafafa;\n",
       "  color: #000000;\n",
       "}\n",
       "#T_b8433_row3_col8 {\n",
       "  font-size: 6pt;\n",
       "  background-color: #fbfbfb;\n",
       "  color: #000000;\n",
       "}\n",
       "#T_b8433_row3_col9 {\n",
       "  font-size: 6pt;\n",
       "  background-color: #fdfdfd;\n",
       "  color: #000000;\n",
       "}\n",
       "#T_b8433_row4_col4 {\n",
       "  font-size: 6pt;\n",
       "  background-color: #1b1b1b;\n",
       "  color: #f1f1f1;\n",
       "}\n",
       "#T_b8433_row4_col5 {\n",
       "  font-size: 6pt;\n",
       "  background-color: #e0e0e0;\n",
       "  color: #000000;\n",
       "}\n",
       "#T_b8433_row4_col11 {\n",
       "  font-size: 6pt;\n",
       "  background-color: #4e4e4e;\n",
       "  color: #f1f1f1;\n",
       "}\n",
       "#T_b8433_row4_col14 {\n",
       "  font-size: 6pt;\n",
       "  background-color: #767676;\n",
       "  color: #f1f1f1;\n",
       "}\n",
       "#T_b8433_row5_col1 {\n",
       "  font-size: 6pt;\n",
       "  background-color: #fcfcfc;\n",
       "  color: #000000;\n",
       "}\n",
       "#T_b8433_row5_col2, #T_b8433_row5_col3 {\n",
       "  font-size: 6pt;\n",
       "  background-color: #f6f6f6;\n",
       "  color: #000000;\n",
       "}\n",
       "#T_b8433_row5_col4, #T_b8433_row7_col7 {\n",
       "  font-size: 6pt;\n",
       "  background-color: #f8f8f8;\n",
       "  color: #000000;\n",
       "}\n",
       "#T_b8433_row5_col10, #T_b8433_row10_col7 {\n",
       "  font-size: 6pt;\n",
       "  background-color: #e8e8e8;\n",
       "  color: #000000;\n",
       "}\n",
       "#T_b8433_row5_col11 {\n",
       "  font-size: 6pt;\n",
       "  background-color: #222222;\n",
       "  color: #f1f1f1;\n",
       "}\n",
       "#T_b8433_row5_col13, #T_b8433_row6_col12 {\n",
       "  font-size: 6pt;\n",
       "  background-color: #090909;\n",
       "  color: #f1f1f1;\n",
       "}\n",
       "#T_b8433_row5_col14 {\n",
       "  font-size: 6pt;\n",
       "  background-color: #d0d0d0;\n",
       "  color: #000000;\n",
       "}\n",
       "#T_b8433_row6_col10, #T_b8433_row7_col11, #T_b8433_row9_col6 {\n",
       "  font-size: 6pt;\n",
       "  background-color: #060606;\n",
       "  color: #f1f1f1;\n",
       "}\n",
       "#T_b8433_row6_col13 {\n",
       "  font-size: 6pt;\n",
       "  background-color: #979797;\n",
       "  color: #f1f1f1;\n",
       "}\n",
       "#T_b8433_row7_col8 {\n",
       "  font-size: 6pt;\n",
       "  background-color: #b6b6b6;\n",
       "  color: #000000;\n",
       "}\n",
       "#T_b8433_row7_col9 {\n",
       "  font-size: 6pt;\n",
       "  background-color: #252525;\n",
       "  color: #f1f1f1;\n",
       "}\n",
       "#T_b8433_row7_col12 {\n",
       "  font-size: 6pt;\n",
       "  background-color: #999999;\n",
       "  color: #f1f1f1;\n",
       "}\n",
       "#T_b8433_row8_col5 {\n",
       "  font-size: 6pt;\n",
       "  background-color: #f9f9f9;\n",
       "  color: #000000;\n",
       "}\n",
       "#T_b8433_row8_col7 {\n",
       "  font-size: 6pt;\n",
       "  background-color: #101010;\n",
       "  color: #f1f1f1;\n",
       "}\n",
       "#T_b8433_row8_col9, #T_b8433_row9_col9 {\n",
       "  font-size: 6pt;\n",
       "  background-color: #020202;\n",
       "  color: #f1f1f1;\n",
       "}\n",
       "#T_b8433_row8_col11 {\n",
       "  font-size: 6pt;\n",
       "  background-color: #545454;\n",
       "  color: #f1f1f1;\n",
       "}\n",
       "#T_b8433_row8_col12 {\n",
       "  font-size: 6pt;\n",
       "  background-color: #f1f1f1;\n",
       "  color: #000000;\n",
       "}\n",
       "#T_b8433_row9_col5 {\n",
       "  font-size: 6pt;\n",
       "  background-color: #f7f7f7;\n",
       "  color: #000000;\n",
       "}\n",
       "#T_b8433_row9_col7 {\n",
       "  font-size: 6pt;\n",
       "  background-color: #030303;\n",
       "  color: #f1f1f1;\n",
       "}\n",
       "#T_b8433_row9_col12 {\n",
       "  font-size: 6pt;\n",
       "  background-color: #181818;\n",
       "  color: #f1f1f1;\n",
       "}\n",
       "#T_b8433_row9_col13 {\n",
       "  font-size: 6pt;\n",
       "  background-color: #303030;\n",
       "  color: #f1f1f1;\n",
       "}\n",
       "#T_b8433_row9_col14 {\n",
       "  font-size: 6pt;\n",
       "  background-color: #a9a9a9;\n",
       "  color: #f1f1f1;\n",
       "}\n",
       "#T_b8433_row9_col15 {\n",
       "  font-size: 6pt;\n",
       "  background-color: #fefefe;\n",
       "  color: #000000;\n",
       "}\n",
       "#T_b8433_row10_col8, #T_b8433_row10_col9 {\n",
       "  font-size: 6pt;\n",
       "  background-color: #bababa;\n",
       "  color: #000000;\n",
       "}\n",
       "#T_b8433_row10_col10 {\n",
       "  font-size: 6pt;\n",
       "  background-color: #393939;\n",
       "  color: #f1f1f1;\n",
       "}\n",
       "</style>\n",
       "<table id=\"T_b8433\">\n",
       "  <thead>\n",
       "    <tr>\n",
       "      <th class=\"blank level0\" >&nbsp;</th>\n",
       "      <th id=\"T_b8433_level0_col0\" class=\"col_heading level0 col0\" >0</th>\n",
       "      <th id=\"T_b8433_level0_col1\" class=\"col_heading level0 col1\" >1</th>\n",
       "      <th id=\"T_b8433_level0_col2\" class=\"col_heading level0 col2\" >2</th>\n",
       "      <th id=\"T_b8433_level0_col3\" class=\"col_heading level0 col3\" >3</th>\n",
       "      <th id=\"T_b8433_level0_col4\" class=\"col_heading level0 col4\" >4</th>\n",
       "      <th id=\"T_b8433_level0_col5\" class=\"col_heading level0 col5\" >5</th>\n",
       "      <th id=\"T_b8433_level0_col6\" class=\"col_heading level0 col6\" >6</th>\n",
       "      <th id=\"T_b8433_level0_col7\" class=\"col_heading level0 col7\" >7</th>\n",
       "      <th id=\"T_b8433_level0_col8\" class=\"col_heading level0 col8\" >8</th>\n",
       "      <th id=\"T_b8433_level0_col9\" class=\"col_heading level0 col9\" >9</th>\n",
       "      <th id=\"T_b8433_level0_col10\" class=\"col_heading level0 col10\" >10</th>\n",
       "      <th id=\"T_b8433_level0_col11\" class=\"col_heading level0 col11\" >11</th>\n",
       "      <th id=\"T_b8433_level0_col12\" class=\"col_heading level0 col12\" >12</th>\n",
       "      <th id=\"T_b8433_level0_col13\" class=\"col_heading level0 col13\" >13</th>\n",
       "      <th id=\"T_b8433_level0_col14\" class=\"col_heading level0 col14\" >14</th>\n",
       "      <th id=\"T_b8433_level0_col15\" class=\"col_heading level0 col15\" >15</th>\n",
       "      <th id=\"T_b8433_level0_col16\" class=\"col_heading level0 col16\" >16</th>\n",
       "      <th id=\"T_b8433_level0_col17\" class=\"col_heading level0 col17\" >17</th>\n",
       "    </tr>\n",
       "  </thead>\n",
       "  <tbody>\n",
       "    <tr>\n",
       "      <th id=\"T_b8433_level0_row0\" class=\"row_heading level0 row0\" >0</th>\n",
       "      <td id=\"T_b8433_row0_col0\" class=\"data row0 col0\" >0</td>\n",
       "      <td id=\"T_b8433_row0_col1\" class=\"data row0 col1\" >0</td>\n",
       "      <td id=\"T_b8433_row0_col2\" class=\"data row0 col2\" >0</td>\n",
       "      <td id=\"T_b8433_row0_col3\" class=\"data row0 col3\" >0</td>\n",
       "      <td id=\"T_b8433_row0_col4\" class=\"data row0 col4\" >0</td>\n",
       "      <td id=\"T_b8433_row0_col5\" class=\"data row0 col5\" >0</td>\n",
       "      <td id=\"T_b8433_row0_col6\" class=\"data row0 col6\" >0</td>\n",
       "      <td id=\"T_b8433_row0_col7\" class=\"data row0 col7\" >0</td>\n",
       "      <td id=\"T_b8433_row0_col8\" class=\"data row0 col8\" >0</td>\n",
       "      <td id=\"T_b8433_row0_col9\" class=\"data row0 col9\" >0</td>\n",
       "      <td id=\"T_b8433_row0_col10\" class=\"data row0 col10\" >0</td>\n",
       "      <td id=\"T_b8433_row0_col11\" class=\"data row0 col11\" >0</td>\n",
       "      <td id=\"T_b8433_row0_col12\" class=\"data row0 col12\" >0</td>\n",
       "      <td id=\"T_b8433_row0_col13\" class=\"data row0 col13\" >0</td>\n",
       "      <td id=\"T_b8433_row0_col14\" class=\"data row0 col14\" >0</td>\n",
       "      <td id=\"T_b8433_row0_col15\" class=\"data row0 col15\" >0</td>\n",
       "      <td id=\"T_b8433_row0_col16\" class=\"data row0 col16\" >0</td>\n",
       "      <td id=\"T_b8433_row0_col17\" class=\"data row0 col17\" >0</td>\n",
       "    </tr>\n",
       "    <tr>\n",
       "      <th id=\"T_b8433_level0_row1\" class=\"row_heading level0 row1\" >1</th>\n",
       "      <td id=\"T_b8433_row1_col0\" class=\"data row1 col0\" >0</td>\n",
       "      <td id=\"T_b8433_row1_col1\" class=\"data row1 col1\" >0</td>\n",
       "      <td id=\"T_b8433_row1_col2\" class=\"data row1 col2\" >0</td>\n",
       "      <td id=\"T_b8433_row1_col3\" class=\"data row1 col3\" >0</td>\n",
       "      <td id=\"T_b8433_row1_col4\" class=\"data row1 col4\" >0</td>\n",
       "      <td id=\"T_b8433_row1_col5\" class=\"data row1 col5\" >29</td>\n",
       "      <td id=\"T_b8433_row1_col6\" class=\"data row1 col6\" >150</td>\n",
       "      <td id=\"T_b8433_row1_col7\" class=\"data row1 col7\" >195</td>\n",
       "      <td id=\"T_b8433_row1_col8\" class=\"data row1 col8\" >254</td>\n",
       "      <td id=\"T_b8433_row1_col9\" class=\"data row1 col9\" >255</td>\n",
       "      <td id=\"T_b8433_row1_col10\" class=\"data row1 col10\" >254</td>\n",
       "      <td id=\"T_b8433_row1_col11\" class=\"data row1 col11\" >176</td>\n",
       "      <td id=\"T_b8433_row1_col12\" class=\"data row1 col12\" >193</td>\n",
       "      <td id=\"T_b8433_row1_col13\" class=\"data row1 col13\" >150</td>\n",
       "      <td id=\"T_b8433_row1_col14\" class=\"data row1 col14\" >96</td>\n",
       "      <td id=\"T_b8433_row1_col15\" class=\"data row1 col15\" >0</td>\n",
       "      <td id=\"T_b8433_row1_col16\" class=\"data row1 col16\" >0</td>\n",
       "      <td id=\"T_b8433_row1_col17\" class=\"data row1 col17\" >0</td>\n",
       "    </tr>\n",
       "    <tr>\n",
       "      <th id=\"T_b8433_level0_row2\" class=\"row_heading level0 row2\" >2</th>\n",
       "      <td id=\"T_b8433_row2_col0\" class=\"data row2 col0\" >0</td>\n",
       "      <td id=\"T_b8433_row2_col1\" class=\"data row2 col1\" >0</td>\n",
       "      <td id=\"T_b8433_row2_col2\" class=\"data row2 col2\" >0</td>\n",
       "      <td id=\"T_b8433_row2_col3\" class=\"data row2 col3\" >48</td>\n",
       "      <td id=\"T_b8433_row2_col4\" class=\"data row2 col4\" >166</td>\n",
       "      <td id=\"T_b8433_row2_col5\" class=\"data row2 col5\" >224</td>\n",
       "      <td id=\"T_b8433_row2_col6\" class=\"data row2 col6\" >253</td>\n",
       "      <td id=\"T_b8433_row2_col7\" class=\"data row2 col7\" >253</td>\n",
       "      <td id=\"T_b8433_row2_col8\" class=\"data row2 col8\" >234</td>\n",
       "      <td id=\"T_b8433_row2_col9\" class=\"data row2 col9\" >196</td>\n",
       "      <td id=\"T_b8433_row2_col10\" class=\"data row2 col10\" >253</td>\n",
       "      <td id=\"T_b8433_row2_col11\" class=\"data row2 col11\" >253</td>\n",
       "      <td id=\"T_b8433_row2_col12\" class=\"data row2 col12\" >253</td>\n",
       "      <td id=\"T_b8433_row2_col13\" class=\"data row2 col13\" >253</td>\n",
       "      <td id=\"T_b8433_row2_col14\" class=\"data row2 col14\" >233</td>\n",
       "      <td id=\"T_b8433_row2_col15\" class=\"data row2 col15\" >0</td>\n",
       "      <td id=\"T_b8433_row2_col16\" class=\"data row2 col16\" >0</td>\n",
       "      <td id=\"T_b8433_row2_col17\" class=\"data row2 col17\" >0</td>\n",
       "    </tr>\n",
       "    <tr>\n",
       "      <th id=\"T_b8433_level0_row3\" class=\"row_heading level0 row3\" >3</th>\n",
       "      <td id=\"T_b8433_row3_col0\" class=\"data row3 col0\" >0</td>\n",
       "      <td id=\"T_b8433_row3_col1\" class=\"data row3 col1\" >93</td>\n",
       "      <td id=\"T_b8433_row3_col2\" class=\"data row3 col2\" >244</td>\n",
       "      <td id=\"T_b8433_row3_col3\" class=\"data row3 col3\" >249</td>\n",
       "      <td id=\"T_b8433_row3_col4\" class=\"data row3 col4\" >253</td>\n",
       "      <td id=\"T_b8433_row3_col5\" class=\"data row3 col5\" >187</td>\n",
       "      <td id=\"T_b8433_row3_col6\" class=\"data row3 col6\" >46</td>\n",
       "      <td id=\"T_b8433_row3_col7\" class=\"data row3 col7\" >10</td>\n",
       "      <td id=\"T_b8433_row3_col8\" class=\"data row3 col8\" >8</td>\n",
       "      <td id=\"T_b8433_row3_col9\" class=\"data row3 col9\" >4</td>\n",
       "      <td id=\"T_b8433_row3_col10\" class=\"data row3 col10\" >10</td>\n",
       "      <td id=\"T_b8433_row3_col11\" class=\"data row3 col11\" >194</td>\n",
       "      <td id=\"T_b8433_row3_col12\" class=\"data row3 col12\" >253</td>\n",
       "      <td id=\"T_b8433_row3_col13\" class=\"data row3 col13\" >253</td>\n",
       "      <td id=\"T_b8433_row3_col14\" class=\"data row3 col14\" >233</td>\n",
       "      <td id=\"T_b8433_row3_col15\" class=\"data row3 col15\" >0</td>\n",
       "      <td id=\"T_b8433_row3_col16\" class=\"data row3 col16\" >0</td>\n",
       "      <td id=\"T_b8433_row3_col17\" class=\"data row3 col17\" >0</td>\n",
       "    </tr>\n",
       "    <tr>\n",
       "      <th id=\"T_b8433_level0_row4\" class=\"row_heading level0 row4\" >4</th>\n",
       "      <td id=\"T_b8433_row4_col0\" class=\"data row4 col0\" >0</td>\n",
       "      <td id=\"T_b8433_row4_col1\" class=\"data row4 col1\" >107</td>\n",
       "      <td id=\"T_b8433_row4_col2\" class=\"data row4 col2\" >253</td>\n",
       "      <td id=\"T_b8433_row4_col3\" class=\"data row4 col3\" >253</td>\n",
       "      <td id=\"T_b8433_row4_col4\" class=\"data row4 col4\" >230</td>\n",
       "      <td id=\"T_b8433_row4_col5\" class=\"data row4 col5\" >48</td>\n",
       "      <td id=\"T_b8433_row4_col6\" class=\"data row4 col6\" >0</td>\n",
       "      <td id=\"T_b8433_row4_col7\" class=\"data row4 col7\" >0</td>\n",
       "      <td id=\"T_b8433_row4_col8\" class=\"data row4 col8\" >0</td>\n",
       "      <td id=\"T_b8433_row4_col9\" class=\"data row4 col9\" >0</td>\n",
       "      <td id=\"T_b8433_row4_col10\" class=\"data row4 col10\" >0</td>\n",
       "      <td id=\"T_b8433_row4_col11\" class=\"data row4 col11\" >192</td>\n",
       "      <td id=\"T_b8433_row4_col12\" class=\"data row4 col12\" >253</td>\n",
       "      <td id=\"T_b8433_row4_col13\" class=\"data row4 col13\" >253</td>\n",
       "      <td id=\"T_b8433_row4_col14\" class=\"data row4 col14\" >156</td>\n",
       "      <td id=\"T_b8433_row4_col15\" class=\"data row4 col15\" >0</td>\n",
       "      <td id=\"T_b8433_row4_col16\" class=\"data row4 col16\" >0</td>\n",
       "      <td id=\"T_b8433_row4_col17\" class=\"data row4 col17\" >0</td>\n",
       "    </tr>\n",
       "    <tr>\n",
       "      <th id=\"T_b8433_level0_row5\" class=\"row_heading level0 row5\" >5</th>\n",
       "      <td id=\"T_b8433_row5_col0\" class=\"data row5 col0\" >0</td>\n",
       "      <td id=\"T_b8433_row5_col1\" class=\"data row5 col1\" >3</td>\n",
       "      <td id=\"T_b8433_row5_col2\" class=\"data row5 col2\" >20</td>\n",
       "      <td id=\"T_b8433_row5_col3\" class=\"data row5 col3\" >20</td>\n",
       "      <td id=\"T_b8433_row5_col4\" class=\"data row5 col4\" >15</td>\n",
       "      <td id=\"T_b8433_row5_col5\" class=\"data row5 col5\" >0</td>\n",
       "      <td id=\"T_b8433_row5_col6\" class=\"data row5 col6\" >0</td>\n",
       "      <td id=\"T_b8433_row5_col7\" class=\"data row5 col7\" >0</td>\n",
       "      <td id=\"T_b8433_row5_col8\" class=\"data row5 col8\" >0</td>\n",
       "      <td id=\"T_b8433_row5_col9\" class=\"data row5 col9\" >0</td>\n",
       "      <td id=\"T_b8433_row5_col10\" class=\"data row5 col10\" >43</td>\n",
       "      <td id=\"T_b8433_row5_col11\" class=\"data row5 col11\" >224</td>\n",
       "      <td id=\"T_b8433_row5_col12\" class=\"data row5 col12\" >253</td>\n",
       "      <td id=\"T_b8433_row5_col13\" class=\"data row5 col13\" >245</td>\n",
       "      <td id=\"T_b8433_row5_col14\" class=\"data row5 col14\" >74</td>\n",
       "      <td id=\"T_b8433_row5_col15\" class=\"data row5 col15\" >0</td>\n",
       "      <td id=\"T_b8433_row5_col16\" class=\"data row5 col16\" >0</td>\n",
       "      <td id=\"T_b8433_row5_col17\" class=\"data row5 col17\" >0</td>\n",
       "    </tr>\n",
       "    <tr>\n",
       "      <th id=\"T_b8433_level0_row6\" class=\"row_heading level0 row6\" >6</th>\n",
       "      <td id=\"T_b8433_row6_col0\" class=\"data row6 col0\" >0</td>\n",
       "      <td id=\"T_b8433_row6_col1\" class=\"data row6 col1\" >0</td>\n",
       "      <td id=\"T_b8433_row6_col2\" class=\"data row6 col2\" >0</td>\n",
       "      <td id=\"T_b8433_row6_col3\" class=\"data row6 col3\" >0</td>\n",
       "      <td id=\"T_b8433_row6_col4\" class=\"data row6 col4\" >0</td>\n",
       "      <td id=\"T_b8433_row6_col5\" class=\"data row6 col5\" >0</td>\n",
       "      <td id=\"T_b8433_row6_col6\" class=\"data row6 col6\" >0</td>\n",
       "      <td id=\"T_b8433_row6_col7\" class=\"data row6 col7\" >0</td>\n",
       "      <td id=\"T_b8433_row6_col8\" class=\"data row6 col8\" >0</td>\n",
       "      <td id=\"T_b8433_row6_col9\" class=\"data row6 col9\" >0</td>\n",
       "      <td id=\"T_b8433_row6_col10\" class=\"data row6 col10\" >249</td>\n",
       "      <td id=\"T_b8433_row6_col11\" class=\"data row6 col11\" >253</td>\n",
       "      <td id=\"T_b8433_row6_col12\" class=\"data row6 col12\" >245</td>\n",
       "      <td id=\"T_b8433_row6_col13\" class=\"data row6 col13\" >126</td>\n",
       "      <td id=\"T_b8433_row6_col14\" class=\"data row6 col14\" >0</td>\n",
       "      <td id=\"T_b8433_row6_col15\" class=\"data row6 col15\" >0</td>\n",
       "      <td id=\"T_b8433_row6_col16\" class=\"data row6 col16\" >0</td>\n",
       "      <td id=\"T_b8433_row6_col17\" class=\"data row6 col17\" >0</td>\n",
       "    </tr>\n",
       "    <tr>\n",
       "      <th id=\"T_b8433_level0_row7\" class=\"row_heading level0 row7\" >7</th>\n",
       "      <td id=\"T_b8433_row7_col0\" class=\"data row7 col0\" >0</td>\n",
       "      <td id=\"T_b8433_row7_col1\" class=\"data row7 col1\" >0</td>\n",
       "      <td id=\"T_b8433_row7_col2\" class=\"data row7 col2\" >0</td>\n",
       "      <td id=\"T_b8433_row7_col3\" class=\"data row7 col3\" >0</td>\n",
       "      <td id=\"T_b8433_row7_col4\" class=\"data row7 col4\" >0</td>\n",
       "      <td id=\"T_b8433_row7_col5\" class=\"data row7 col5\" >0</td>\n",
       "      <td id=\"T_b8433_row7_col6\" class=\"data row7 col6\" >0</td>\n",
       "      <td id=\"T_b8433_row7_col7\" class=\"data row7 col7\" >14</td>\n",
       "      <td id=\"T_b8433_row7_col8\" class=\"data row7 col8\" >101</td>\n",
       "      <td id=\"T_b8433_row7_col9\" class=\"data row7 col9\" >223</td>\n",
       "      <td id=\"T_b8433_row7_col10\" class=\"data row7 col10\" >253</td>\n",
       "      <td id=\"T_b8433_row7_col11\" class=\"data row7 col11\" >248</td>\n",
       "      <td id=\"T_b8433_row7_col12\" class=\"data row7 col12\" >124</td>\n",
       "      <td id=\"T_b8433_row7_col13\" class=\"data row7 col13\" >0</td>\n",
       "      <td id=\"T_b8433_row7_col14\" class=\"data row7 col14\" >0</td>\n",
       "      <td id=\"T_b8433_row7_col15\" class=\"data row7 col15\" >0</td>\n",
       "      <td id=\"T_b8433_row7_col16\" class=\"data row7 col16\" >0</td>\n",
       "      <td id=\"T_b8433_row7_col17\" class=\"data row7 col17\" >0</td>\n",
       "    </tr>\n",
       "    <tr>\n",
       "      <th id=\"T_b8433_level0_row8\" class=\"row_heading level0 row8\" >8</th>\n",
       "      <td id=\"T_b8433_row8_col0\" class=\"data row8 col0\" >0</td>\n",
       "      <td id=\"T_b8433_row8_col1\" class=\"data row8 col1\" >0</td>\n",
       "      <td id=\"T_b8433_row8_col2\" class=\"data row8 col2\" >0</td>\n",
       "      <td id=\"T_b8433_row8_col3\" class=\"data row8 col3\" >0</td>\n",
       "      <td id=\"T_b8433_row8_col4\" class=\"data row8 col4\" >0</td>\n",
       "      <td id=\"T_b8433_row8_col5\" class=\"data row8 col5\" >11</td>\n",
       "      <td id=\"T_b8433_row8_col6\" class=\"data row8 col6\" >166</td>\n",
       "      <td id=\"T_b8433_row8_col7\" class=\"data row8 col7\" >239</td>\n",
       "      <td id=\"T_b8433_row8_col8\" class=\"data row8 col8\" >253</td>\n",
       "      <td id=\"T_b8433_row8_col9\" class=\"data row8 col9\" >253</td>\n",
       "      <td id=\"T_b8433_row8_col10\" class=\"data row8 col10\" >253</td>\n",
       "      <td id=\"T_b8433_row8_col11\" class=\"data row8 col11\" >187</td>\n",
       "      <td id=\"T_b8433_row8_col12\" class=\"data row8 col12\" >30</td>\n",
       "      <td id=\"T_b8433_row8_col13\" class=\"data row8 col13\" >0</td>\n",
       "      <td id=\"T_b8433_row8_col14\" class=\"data row8 col14\" >0</td>\n",
       "      <td id=\"T_b8433_row8_col15\" class=\"data row8 col15\" >0</td>\n",
       "      <td id=\"T_b8433_row8_col16\" class=\"data row8 col16\" >0</td>\n",
       "      <td id=\"T_b8433_row8_col17\" class=\"data row8 col17\" >0</td>\n",
       "    </tr>\n",
       "    <tr>\n",
       "      <th id=\"T_b8433_level0_row9\" class=\"row_heading level0 row9\" >9</th>\n",
       "      <td id=\"T_b8433_row9_col0\" class=\"data row9 col0\" >0</td>\n",
       "      <td id=\"T_b8433_row9_col1\" class=\"data row9 col1\" >0</td>\n",
       "      <td id=\"T_b8433_row9_col2\" class=\"data row9 col2\" >0</td>\n",
       "      <td id=\"T_b8433_row9_col3\" class=\"data row9 col3\" >0</td>\n",
       "      <td id=\"T_b8433_row9_col4\" class=\"data row9 col4\" >0</td>\n",
       "      <td id=\"T_b8433_row9_col5\" class=\"data row9 col5\" >16</td>\n",
       "      <td id=\"T_b8433_row9_col6\" class=\"data row9 col6\" >248</td>\n",
       "      <td id=\"T_b8433_row9_col7\" class=\"data row9 col7\" >250</td>\n",
       "      <td id=\"T_b8433_row9_col8\" class=\"data row9 col8\" >253</td>\n",
       "      <td id=\"T_b8433_row9_col9\" class=\"data row9 col9\" >253</td>\n",
       "      <td id=\"T_b8433_row9_col10\" class=\"data row9 col10\" >253</td>\n",
       "      <td id=\"T_b8433_row9_col11\" class=\"data row9 col11\" >253</td>\n",
       "      <td id=\"T_b8433_row9_col12\" class=\"data row9 col12\" >232</td>\n",
       "      <td id=\"T_b8433_row9_col13\" class=\"data row9 col13\" >213</td>\n",
       "      <td id=\"T_b8433_row9_col14\" class=\"data row9 col14\" >111</td>\n",
       "      <td id=\"T_b8433_row9_col15\" class=\"data row9 col15\" >2</td>\n",
       "      <td id=\"T_b8433_row9_col16\" class=\"data row9 col16\" >0</td>\n",
       "      <td id=\"T_b8433_row9_col17\" class=\"data row9 col17\" >0</td>\n",
       "    </tr>\n",
       "    <tr>\n",
       "      <th id=\"T_b8433_level0_row10\" class=\"row_heading level0 row10\" >10</th>\n",
       "      <td id=\"T_b8433_row10_col0\" class=\"data row10 col0\" >0</td>\n",
       "      <td id=\"T_b8433_row10_col1\" class=\"data row10 col1\" >0</td>\n",
       "      <td id=\"T_b8433_row10_col2\" class=\"data row10 col2\" >0</td>\n",
       "      <td id=\"T_b8433_row10_col3\" class=\"data row10 col3\" >0</td>\n",
       "      <td id=\"T_b8433_row10_col4\" class=\"data row10 col4\" >0</td>\n",
       "      <td id=\"T_b8433_row10_col5\" class=\"data row10 col5\" >0</td>\n",
       "      <td id=\"T_b8433_row10_col6\" class=\"data row10 col6\" >0</td>\n",
       "      <td id=\"T_b8433_row10_col7\" class=\"data row10 col7\" >43</td>\n",
       "      <td id=\"T_b8433_row10_col8\" class=\"data row10 col8\" >98</td>\n",
       "      <td id=\"T_b8433_row10_col9\" class=\"data row10 col9\" >98</td>\n",
       "      <td id=\"T_b8433_row10_col10\" class=\"data row10 col10\" >208</td>\n",
       "      <td id=\"T_b8433_row10_col11\" class=\"data row10 col11\" >253</td>\n",
       "      <td id=\"T_b8433_row10_col12\" class=\"data row10 col12\" >253</td>\n",
       "      <td id=\"T_b8433_row10_col13\" class=\"data row10 col13\" >253</td>\n",
       "      <td id=\"T_b8433_row10_col14\" class=\"data row10 col14\" >253</td>\n",
       "      <td id=\"T_b8433_row10_col15\" class=\"data row10 col15\" >187</td>\n",
       "      <td id=\"T_b8433_row10_col16\" class=\"data row10 col16\" >22</td>\n",
       "      <td id=\"T_b8433_row10_col17\" class=\"data row10 col17\" >0</td>\n",
       "    </tr>\n",
       "  </tbody>\n",
       "</table>\n"
      ],
      "text/plain": [
       "<pandas.io.formats.style.Styler at 0x2070bed4c40>"
      ]
     },
     "execution_count": 11,
     "metadata": {},
     "output_type": "execute_result"
    }
   ],
   "source": [
    "im3_t = tensor(im3)\n",
    "df = pd.DataFrame(im3_t[4:15, 4:22])\n",
    "df.style.set_properties(**{\"font-size\": \"6pt\"}).background_gradient(\"Greys\")"
   ]
  },
  {
   "cell_type": "code",
   "execution_count": 12,
   "id": "c2c948ee",
   "metadata": {},
   "outputs": [
    {
     "data": {
      "text/plain": [
       "(6131, 6265)"
      ]
     },
     "execution_count": 12,
     "metadata": {},
     "output_type": "execute_result"
    }
   ],
   "source": [
    "seven_tensors = [tensor(Image.open(o)) for o in sevens]\n",
    "three_tensors = [tensor(Image.open(o)) for o in threes]\n",
    "len(three_tensors), len(seven_tensors)"
   ]
  },
  {
   "cell_type": "code",
   "execution_count": 13,
   "id": "2aa5269d",
   "metadata": {},
   "outputs": [
    {
     "data": {
      "text/plain": [
       "<Axes: >"
      ]
     },
     "execution_count": 13,
     "metadata": {},
     "output_type": "execute_result"
    },
    {
     "data": {
      "image/png": "[encoded data removed]",
      "text/plain": [
       "<Figure size 100x100 with 1 Axes>"
      ]
     },
     "metadata": {},
     "output_type": "display_data"
    }
   ],
   "source": [
    "show_image(three_tensors[1])"
   ]
  },
  {
   "cell_type": "code",
   "execution_count": 14,
   "id": "a23ce975",
   "metadata": {},
   "outputs": [
    {
     "data": {
      "text/plain": [
       "torch.Size([6131, 28, 28])"
      ]
     },
     "execution_count": 14,
     "metadata": {},
     "output_type": "execute_result"
    }
   ],
   "source": [
    "stacked_sevens = torch.stack(seven_tensors).float()/255\n",
    "stacked_threes = torch.stack(three_tensors).float()/255\n",
    "stacked_threes.shape"
   ]
  },
  {
   "cell_type": "code",
   "execution_count": 15,
   "id": "6467b395",
   "metadata": {},
   "outputs": [
    {
     "data": {
      "text/plain": [
       "3"
      ]
     },
     "execution_count": 15,
     "metadata": {},
     "output_type": "execute_result"
    }
   ],
   "source": [
    "len(stacked_threes.shape)"
   ]
  },
  {
   "cell_type": "code",
   "execution_count": 16,
   "id": "8a9e16a2",
   "metadata": {},
   "outputs": [
    {
     "data": {
      "text/plain": [
       "3"
      ]
     },
     "execution_count": 16,
     "metadata": {},
     "output_type": "execute_result"
    }
   ],
   "source": [
    "stacked_threes.ndim"
   ]
  },
  {
   "cell_type": "code",
   "execution_count": 17,
   "id": "1426bae5",
   "metadata": {},
   "outputs": [
    {
     "data": {
      "image/png": "[encoded data removed]",
      "text/plain": [
       "<Figure size 100x100 with 1 Axes>"
      ]
     },
     "metadata": {},
     "output_type": "display_data"
    }
   ],
   "source": [
    "mean3 = stacked_threes.mean(0)\n",
    "show_image(mean3);"
   ]
  },
  {
   "cell_type": "code",
   "execution_count": 18,
   "id": "a48f53a1",
   "metadata": {},
   "outputs": [
    {
     "data": {
      "image/png": "[encoded data removed]",
      "text/plain": [
       "<Figure size 100x100 with 1 Axes>"
      ]
     },
     "metadata": {},
     "output_type": "display_data"
    }
   ],
   "source": [
    "mean7 = stacked_sevens.mean(0)\n",
    "show_image(mean7);"
   ]
  },
  {
   "cell_type": "code",
   "execution_count": 19,
   "id": "0efd992f",
   "metadata": {},
   "outputs": [
    {
     "data": {
      "image/png": "[encoded data removed]",
      "text/plain": [
       "<Figure size 100x100 with 1 Axes>"
      ]
     },
     "metadata": {},
     "output_type": "display_data"
    }
   ],
   "source": [
    "a_3 = stacked_threes[1]\n",
    "show_image(a_3);"
   ]
  },
  {
   "cell_type": "code",
   "execution_count": 20,
   "id": "3c3d11aa",
   "metadata": {},
   "outputs": [
    {
     "data": {
      "text/plain": [
       "(tensor(0.1114), tensor(0.2021))"
      ]
     },
     "execution_count": 20,
     "metadata": {},
     "output_type": "execute_result"
    }
   ],
   "source": [
    "dist_3_abs = (a_3 - mean3).abs().mean()\n",
    "dist_3_sqr = ((a_3 - mean3)**2).mean().sqrt()\n",
    "dist_3_abs, dist_3_sqr"
   ]
  },
  {
   "cell_type": "code",
   "execution_count": 21,
   "id": "aed8d14c",
   "metadata": {},
   "outputs": [
    {
     "data": {
      "text/plain": [
       "(tensor(0.1586), tensor(0.3021))"
      ]
     },
     "execution_count": 21,
     "metadata": {},
     "output_type": "execute_result"
    }
   ],
   "source": [
    "dist_7_abs = (a_3 - mean7).abs().mean()\n",
    "dist_7_sqr = ((a_3 - mean7)**2).mean().sqrt()\n",
    "dist_7_abs, dist_7_sqr"
   ]
  },
  {
   "cell_type": "code",
   "execution_count": 22,
   "id": "ae30d344",
   "metadata": {},
   "outputs": [
    {
     "data": {
      "text/plain": [
       "(tensor(0.1586), tensor(0.3021))"
      ]
     },
     "execution_count": 22,
     "metadata": {},
     "output_type": "execute_result"
    }
   ],
   "source": [
    "F.l1_loss(a_3.float(), mean7), F.mse_loss(a_3,mean7).sqrt()"
   ]
  },
  {
   "cell_type": "code",
   "execution_count": 23,
   "id": "b189e55d",
   "metadata": {},
   "outputs": [
    {
     "name": "stdout",
     "output_type": "stream",
     "text": [
      "[[1 2 3]\n",
      " [4 5 6]]\n",
      "tensor([[1, 2, 3],\n",
      "        [4, 5, 6]])\n"
     ]
    }
   ],
   "source": [
    "data = [[1, 2, 3], [4, 5, 6]]\n",
    "arr = array(data)\n",
    "tns = tensor(data)\n",
    "\n",
    "print(arr) # 넘파이\n",
    "print(tns) # 파이토치"
   ]
  },
  {
   "cell_type": "code",
   "execution_count": 24,
   "id": "11ab3f46",
   "metadata": {},
   "outputs": [
    {
     "data": {
      "text/plain": [
       "tensor([4, 5, 6])"
      ]
     },
     "execution_count": 24,
     "metadata": {},
     "output_type": "execute_result"
    }
   ],
   "source": [
    "tns[1]"
   ]
  },
  {
   "cell_type": "code",
   "execution_count": 25,
   "id": "f6d3f771",
   "metadata": {},
   "outputs": [
    {
     "data": {
      "text/plain": [
       "tensor([2, 5])"
      ]
     },
     "execution_count": 25,
     "metadata": {},
     "output_type": "execute_result"
    }
   ],
   "source": [
    "tns[:,1]"
   ]
  },
  {
   "cell_type": "code",
   "execution_count": 26,
   "id": "53f7b291",
   "metadata": {},
   "outputs": [
    {
     "data": {
      "text/plain": [
       "tensor([5, 6])"
      ]
     },
     "execution_count": 26,
     "metadata": {},
     "output_type": "execute_result"
    }
   ],
   "source": [
    "tns[1, 1:3]"
   ]
  },
  {
   "cell_type": "code",
   "execution_count": 27,
   "id": "1a5cf0ac",
   "metadata": {},
   "outputs": [
    {
     "data": {
      "text/plain": [
       "tensor([[1, 2, 3],\n",
       "        [4, 5, 6]])"
      ]
     },
     "execution_count": 27,
     "metadata": {},
     "output_type": "execute_result"
    }
   ],
   "source": [
    "tns"
   ]
  },
  {
   "cell_type": "code",
   "execution_count": 28,
   "id": "8158b536",
   "metadata": {},
   "outputs": [
    {
     "data": {
      "text/plain": [
       "tensor([[2, 3, 4],\n",
       "        [5, 6, 7]])"
      ]
     },
     "execution_count": 28,
     "metadata": {},
     "output_type": "execute_result"
    }
   ],
   "source": [
    "tns+1"
   ]
  },
  {
   "cell_type": "code",
   "execution_count": 29,
   "id": "36dddd2a",
   "metadata": {},
   "outputs": [
    {
     "data": {
      "text/plain": [
       "'torch.LongTensor'"
      ]
     },
     "execution_count": 29,
     "metadata": {},
     "output_type": "execute_result"
    }
   ],
   "source": [
    "tns.type()"
   ]
  },
  {
   "cell_type": "code",
   "execution_count": 30,
   "id": "ba3d21b3",
   "metadata": {},
   "outputs": [
    {
     "data": {
      "text/plain": [
       "tensor([[1.5000, 3.0000, 4.5000],\n",
       "        [6.0000, 7.5000, 9.0000]])"
      ]
     },
     "execution_count": 30,
     "metadata": {},
     "output_type": "execute_result"
    }
   ],
   "source": [
    "tns*1.5"
   ]
  },
  {
   "cell_type": "code",
   "execution_count": 31,
   "id": "e125567b",
   "metadata": {},
   "outputs": [
    {
     "data": {
      "text/plain": [
       "(torch.Size([1010, 28, 28]), torch.Size([1028, 28, 28]))"
      ]
     },
     "execution_count": 31,
     "metadata": {},
     "output_type": "execute_result"
    }
   ],
   "source": [
    "valid_3_tens = torch.stack([tensor(Image.open(o)) for o in (path/\"valid\"/\"3\").ls()])\n",
    "valid_3_tens = valid_3_tens.float()/255\n",
    "valid_7_tens = torch.stack([tensor(Image.open(o)) for o in (path/\"valid\"/\"7\").ls()])\n",
    "valid_7_tens = valid_7_tens.float()/255\n",
    "valid_3_tens.shape, valid_7_tens.shape"
   ]
  },
  {
   "cell_type": "code",
   "execution_count": 32,
   "id": "06a69b88",
   "metadata": {},
   "outputs": [
    {
     "data": {
      "text/plain": [
       "tensor(0.1114)"
      ]
     },
     "execution_count": 32,
     "metadata": {},
     "output_type": "execute_result"
    }
   ],
   "source": [
    "def mnist_distance(a,b) : return (a-b).abs().mean((-1, -2))\n",
    "mnist_distance(a_3, mean3)"
   ]
  },
  {
   "cell_type": "code",
   "execution_count": 33,
   "id": "023c8edf",
   "metadata": {},
   "outputs": [
    {
     "data": {
      "text/plain": [
       "(tensor([0.1280, 0.1623, 0.1242,  ..., 0.1508, 0.1263, 0.1260]),\n",
       " torch.Size([1010]))"
      ]
     },
     "execution_count": 33,
     "metadata": {},
     "output_type": "execute_result"
    }
   ],
   "source": [
    "valid_3_dist = mnist_distance(valid_3_tens, mean3)\n",
    "valid_3_dist, valid_3_dist.shape"
   ]
  },
  {
   "cell_type": "code",
   "execution_count": 34,
   "id": "bea98506",
   "metadata": {},
   "outputs": [
    {
     "data": {
      "text/plain": [
       "tensor([2, 3, 4])"
      ]
     },
     "execution_count": 34,
     "metadata": {},
     "output_type": "execute_result"
    }
   ],
   "source": [
    "tensor([1, 2, 3]) + tensor(1)"
   ]
  },
  {
   "cell_type": "code",
   "execution_count": 35,
   "id": "5dc0ea8c",
   "metadata": {},
   "outputs": [
    {
     "data": {
      "text/plain": [
       "torch.Size([1010, 28, 28])"
      ]
     },
     "execution_count": 35,
     "metadata": {},
     "output_type": "execute_result"
    }
   ],
   "source": [
    "(valid_3_tens-mean3).shape"
   ]
  },
  {
   "cell_type": "code",
   "execution_count": 36,
   "id": "eef7defc",
   "metadata": {},
   "outputs": [],
   "source": [
    "def is_3(x): return mnist_distance(x, mean3) < mnist_distance(x, mean7)"
   ]
  },
  {
   "cell_type": "code",
   "execution_count": 37,
   "id": "93717ad7",
   "metadata": {},
   "outputs": [
    {
     "data": {
      "text/plain": [
       "(tensor(True), tensor(1.))"
      ]
     },
     "execution_count": 37,
     "metadata": {},
     "output_type": "execute_result"
    }
   ],
   "source": [
    "is_3(a_3), is_3(a_3).float()"
   ]
  },
  {
   "cell_type": "code",
   "execution_count": 38,
   "id": "0c766c15",
   "metadata": {},
   "outputs": [
    {
     "data": {
      "text/plain": [
       "tensor([ True,  True,  True,  ..., False,  True,  True])"
      ]
     },
     "execution_count": 38,
     "metadata": {},
     "output_type": "execute_result"
    }
   ],
   "source": [
    "is_3(valid_3_tens)"
   ]
  },
  {
   "cell_type": "code",
   "execution_count": 39,
   "id": "925bdaed",
   "metadata": {},
   "outputs": [
    {
     "data": {
      "text/plain": [
       "(tensor(0.9168), tensor(0.9854), tensor(0.9511))"
      ]
     },
     "execution_count": 39,
     "metadata": {},
     "output_type": "execute_result"
    }
   ],
   "source": [
    "accuracy_3s = is_3(valid_3_tens).float().mean()\n",
    "accuracy_7s = (1-is_3(valid_7_tens).float()).mean()\n",
    "accuracy_3s, accuracy_7s, (accuracy_3s+accuracy_7s)/2"
   ]
  },
  {
   "cell_type": "code",
   "execution_count": 40,
   "id": "f7ab1014",
   "metadata": {},
   "outputs": [],
   "source": [
    "xt = tensor(3.).requires_grad_()"
   ]
  },
  {
   "cell_type": "code",
   "execution_count": 41,
   "id": "08a79220",
   "metadata": {},
   "outputs": [],
   "source": [
    "def f(x):\n",
    "    return (x**2).sum()\n",
    "yt = f(xt)"
   ]
  },
  {
   "cell_type": "code",
   "execution_count": 42,
   "id": "fa5b0cc8",
   "metadata": {},
   "outputs": [
    {
     "data": {
      "text/plain": [
       "tensor(9., grad_fn=<SumBackward0>)"
      ]
     },
     "execution_count": 42,
     "metadata": {},
     "output_type": "execute_result"
    }
   ],
   "source": [
    "yt"
   ]
  },
  {
   "cell_type": "code",
   "execution_count": 43,
   "id": "8e36a01d",
   "metadata": {},
   "outputs": [],
   "source": [
    "yt.backward()"
   ]
  },
  {
   "cell_type": "code",
   "execution_count": 44,
   "id": "194051f2",
   "metadata": {},
   "outputs": [
    {
     "data": {
      "text/plain": [
       "tensor(6.)"
      ]
     },
     "execution_count": 44,
     "metadata": {},
     "output_type": "execute_result"
    }
   ],
   "source": [
    "xt.grad"
   ]
  },
  {
   "cell_type": "code",
   "execution_count": 45,
   "id": "ab81feae",
   "metadata": {},
   "outputs": [],
   "source": [
    "xt = tensor([3., 4., 10.]).requires_grad_()"
   ]
  },
  {
   "cell_type": "code",
   "execution_count": 46,
   "id": "3dc8343e",
   "metadata": {},
   "outputs": [
    {
     "data": {
      "text/plain": [
       "tensor([ 3.,  4., 10.], requires_grad=True)"
      ]
     },
     "execution_count": 46,
     "metadata": {},
     "output_type": "execute_result"
    }
   ],
   "source": [
    "xt"
   ]
  },
  {
   "cell_type": "code",
   "execution_count": 47,
   "id": "bdd4451c",
   "metadata": {},
   "outputs": [
    {
     "data": {
      "text/plain": [
       "tensor(125., grad_fn=<SumBackward0>)"
      ]
     },
     "execution_count": 47,
     "metadata": {},
     "output_type": "execute_result"
    }
   ],
   "source": [
    "def f(x) : return (x**2).sum()\n",
    "yt = f(xt)\n",
    "yt"
   ]
  },
  {
   "cell_type": "code",
   "execution_count": 48,
   "id": "a54ec8e1",
   "metadata": {},
   "outputs": [
    {
     "data": {
      "text/plain": [
       "tensor([ 6.,  8., 20.])"
      ]
     },
     "execution_count": 48,
     "metadata": {},
     "output_type": "execute_result"
    }
   ],
   "source": [
    "yt.backward()\n",
    "xt.grad"
   ]
  },
  {
   "cell_type": "code",
   "execution_count": 49,
   "id": "2e37bb2f",
   "metadata": {},
   "outputs": [
    {
     "data": {
      "text/plain": [
       "tensor([ 0.,  1.,  2.,  3.,  4.,  5.,  6.,  7.,  8.,  9., 10., 11., 12., 13.,\n",
       "        14., 15., 16., 17., 18., 19.])"
      ]
     },
     "execution_count": 49,
     "metadata": {},
     "output_type": "execute_result"
    }
   ],
   "source": [
    "time = torch.arange(0, 20).float();\n",
    "time"
   ]
  },
  {
   "cell_type": "code",
   "execution_count": 50,
   "id": "83e761cb",
   "metadata": {},
   "outputs": [
    {
     "data": {
      "image/png": "[encoded data removed]",
      "text/plain": [
       "<Figure size 640x480 with 1 Axes>"
      ]
     },
     "metadata": {},
     "output_type": "display_data"
    }
   ],
   "source": [
    "speed = torch.randn(20)*3 + 0.75*(time-9.5)**2 + 1\n",
    "plt.scatter(time, speed);"
   ]
  },
  {
   "cell_type": "code",
   "execution_count": 51,
   "id": "42eb75bb",
   "metadata": {},
   "outputs": [],
   "source": [
    "def f(t, params):\n",
    "    a, b, c = params\n",
    "    return a*(t**2) + (b*t)+c"
   ]
  },
  {
   "cell_type": "code",
   "execution_count": 52,
   "id": "85a471bf",
   "metadata": {},
   "outputs": [],
   "source": [
    "def mse(preds, targets):\n",
    "    return ((preds-targets)**2).mean()"
   ]
  },
  {
   "cell_type": "code",
   "execution_count": 53,
   "id": "8d960d32",
   "metadata": {},
   "outputs": [],
   "source": [
    "params = torch.randn(3).requires_grad_()"
   ]
  },
  {
   "cell_type": "code",
   "execution_count": 54,
   "id": "7944a642",
   "metadata": {},
   "outputs": [],
   "source": [
    "preds = f(time, params)"
   ]
  },
  {
   "cell_type": "code",
   "execution_count": 55,
   "id": "2d4fc0a0",
   "metadata": {},
   "outputs": [],
   "source": [
    "def show_preds(preds, ax=None):\n",
    "    if ax is None: \n",
    "        ax=plt.subplots()[1]\n",
    "    ax.scatter(time, speed)\n",
    "    ax.scatter(time, to_np(preds), color=\"red\")\n",
    "    ax.set_ylim(-300, 100)"
   ]
  },
  {
   "cell_type": "code",
   "execution_count": 56,
   "id": "dca93ac6",
   "metadata": {},
   "outputs": [
    {
     "data": {
      "image/png": "[encoded data removed]",
      "text/plain": [
       "<Figure size 640x480 with 1 Axes>"
      ]
     },
     "metadata": {},
     "output_type": "display_data"
    }
   ],
   "source": [
    "show_preds(preds)"
   ]
  },
  {
   "cell_type": "code",
   "execution_count": 57,
   "id": "f51a43b8",
   "metadata": {},
   "outputs": [
    {
     "data": {
      "text/plain": [
       "tensor(21059.2539, grad_fn=<MeanBackward0>)"
      ]
     },
     "execution_count": 57,
     "metadata": {},
     "output_type": "execute_result"
    }
   ],
   "source": [
    "loss = mse(preds, speed)\n",
    "loss"
   ]
  },
  {
   "cell_type": "code",
   "execution_count": 58,
   "id": "434d98f5",
   "metadata": {},
   "outputs": [
    {
     "data": {
      "text/plain": [
       "tensor([47904.2266,  3081.6841,   193.1555])"
      ]
     },
     "execution_count": 58,
     "metadata": {},
     "output_type": "execute_result"
    }
   ],
   "source": [
    "loss.backward()\n",
    "params.grad"
   ]
  },
  {
   "cell_type": "code",
   "execution_count": 59,
   "id": "c2e06b2d",
   "metadata": {},
   "outputs": [
    {
     "data": {
      "text/plain": [
       "tensor([0.4790, 0.0308, 0.0019])"
      ]
     },
     "execution_count": 59,
     "metadata": {},
     "output_type": "execute_result"
    }
   ],
   "source": [
    "params.grad*1e-5"
   ]
  },
  {
   "cell_type": "code",
   "execution_count": 60,
   "id": "7c9d4a8d",
   "metadata": {},
   "outputs": [
    {
     "data": {
      "text/plain": [
       "tensor([0.9644, 0.4942, 0.0137], requires_grad=True)"
      ]
     },
     "execution_count": 60,
     "metadata": {},
     "output_type": "execute_result"
    }
   ],
   "source": [
    "params"
   ]
  },
  {
   "cell_type": "code",
   "execution_count": 61,
   "id": "596f5a48",
   "metadata": {},
   "outputs": [],
   "source": [
    "lr = 1e-5\n",
    "params.data -= lr * params.grad.data\n",
    "params.grad = None"
   ]
  },
  {
   "cell_type": "code",
   "execution_count": 62,
   "id": "c42cbfae",
   "metadata": {},
   "outputs": [
    {
     "data": {
      "text/plain": [
       "tensor(4525.4810, grad_fn=<MeanBackward0>)"
      ]
     },
     "execution_count": 62,
     "metadata": {},
     "output_type": "execute_result"
    }
   ],
   "source": [
    "preds = f(time, params)\n",
    "mse(preds, speed)"
   ]
  },
  {
   "cell_type": "code",
   "execution_count": 63,
   "id": "3e911ede",
   "metadata": {},
   "outputs": [
    {
     "data": {
      "image/png": "[encoded data removed]",
      "text/plain": [
       "<Figure size 640x480 with 1 Axes>"
      ]
     },
     "metadata": {},
     "output_type": "display_data"
    }
   ],
   "source": [
    "show_preds(preds)"
   ]
  },
  {
   "cell_type": "code",
   "execution_count": 64,
   "id": "62507944",
   "metadata": {},
   "outputs": [],
   "source": [
    "def apply_step(params, prn=True):\n",
    "    preds = f(time, params)\n",
    "    loss = mse(preds, speed)\n",
    "    loss.backward()\n",
    "    params.data -= lr * params.grad.data\n",
    "    params.grad = None\n",
    "    if prn: print(loss.item())\n",
    "    return preds"
   ]
  },
  {
   "cell_type": "code",
   "execution_count": 65,
   "id": "6e3e4e53",
   "metadata": {},
   "outputs": [
    {
     "name": "stdout",
     "output_type": "stream",
     "text": [
      "4525.48095703125\n",
      "1396.785888671875\n",
      "804.7380981445312\n",
      "692.7017211914062\n",
      "671.4981689453125\n",
      "667.4829711914062\n",
      "666.7203369140625\n",
      "666.5730590820312\n",
      "666.5422973632812\n",
      "666.5336303710938\n"
     ]
    }
   ],
   "source": [
    "for i in range(10): apply_step(params)"
   ]
  },
  {
   "cell_type": "code",
   "execution_count": 66,
   "id": "d6438423",
   "metadata": {},
   "outputs": [
    {
     "data": {
      "image/png": "[encoded data removed]",
      "text/plain": [
       "<Figure size 1200x300 with 4 Axes>"
      ]
     },
     "metadata": {},
     "output_type": "display_data"
    }
   ],
   "source": [
    "_, axs = plt.subplots(1, 4, figsize=(12,3))\n",
    "for ax in axs: show_preds(apply_step(params, False), ax)\n",
    "plt.tight_layout()"
   ]
  },
  {
   "cell_type": "code",
   "execution_count": 67,
   "id": "dee919c7",
   "metadata": {},
   "outputs": [],
   "source": [
    "train_x = torch.cat([stacked_threes, stacked_sevens]).view(-1, 28*28)"
   ]
  },
  {
   "cell_type": "code",
   "execution_count": 68,
   "id": "1e194739",
   "metadata": {},
   "outputs": [
    {
     "data": {
      "text/plain": [
       "(torch.Size([12396, 784]), torch.Size([12396, 1]))"
      ]
     },
     "execution_count": 68,
     "metadata": {},
     "output_type": "execute_result"
    }
   ],
   "source": [
    "train_y = tensor([1]*len(threes) + [0]*len(sevens)).unsqueeze(1)\n",
    "train_x.shape, train_y.shape"
   ]
  },
  {
   "cell_type": "code",
   "execution_count": 69,
   "id": "389ecff8",
   "metadata": {},
   "outputs": [
    {
     "data": {
      "text/plain": [
       "(torch.Size([784]), tensor([1]))"
      ]
     },
     "execution_count": 69,
     "metadata": {},
     "output_type": "execute_result"
    }
   ],
   "source": [
    "dset = list(zip(train_x, train_y))\n",
    "x, y = dset[0]\n",
    "x.shape, y"
   ]
  },
  {
   "cell_type": "code",
   "execution_count": 70,
   "id": "18d6f3cf",
   "metadata": {},
   "outputs": [],
   "source": [
    "valid_x = torch.cat([valid_3_tens, valid_7_tens]).view(-1, 28*28)\n",
    "valid_y = tensor([1]*len(valid_3_tens) + [0]*len(valid_7_tens)).unsqueeze(1)\n",
    "valid_dset = list(zip(valid_x, valid_y))"
   ]
  },
  {
   "cell_type": "code",
   "execution_count": 71,
   "id": "59b61973",
   "metadata": {},
   "outputs": [],
   "source": [
    "def init_params(size, std=1.0): \n",
    "    return (torch.randn(size)*std).requires_grad_()\n",
    "weights = init_params((28*28, 1))"
   ]
  },
  {
   "cell_type": "code",
   "execution_count": 72,
   "id": "c466975c",
   "metadata": {},
   "outputs": [],
   "source": [
    "bias = init_params(1)"
   ]
  },
  {
   "cell_type": "code",
   "execution_count": 73,
   "id": "06df5aef",
   "metadata": {},
   "outputs": [
    {
     "data": {
      "text/plain": [
       "tensor([0.7909], grad_fn=<AddBackward0>)"
      ]
     },
     "execution_count": 73,
     "metadata": {},
     "output_type": "execute_result"
    }
   ],
   "source": [
    "(train_x[0]*weights.T).sum() + bias"
   ]
  },
  {
   "cell_type": "code",
   "execution_count": 74,
   "id": "167f5c8d",
   "metadata": {},
   "outputs": [
    {
     "data": {
      "text/plain": [
       "tensor([[  0.7909],\n",
       "        [ 12.1135],\n",
       "        [ -3.4066],\n",
       "        ...,\n",
       "        [-10.1971],\n",
       "        [-20.3365],\n",
       "        [ -8.0680]], grad_fn=<AddBackward0>)"
      ]
     },
     "execution_count": 74,
     "metadata": {},
     "output_type": "execute_result"
    }
   ],
   "source": [
    "def linear1(xb): \n",
    "    return xb@weights + bias\n",
    "preds = linear1(train_x)\n",
    "preds"
   ]
  },
  {
   "cell_type": "code",
   "execution_count": 75,
   "id": "3bc460d0",
   "metadata": {},
   "outputs": [
    {
     "data": {
      "text/plain": [
       "tensor([[ True],\n",
       "        [ True],\n",
       "        [False],\n",
       "        ...,\n",
       "        [ True],\n",
       "        [ True],\n",
       "        [ True]])"
      ]
     },
     "execution_count": 75,
     "metadata": {},
     "output_type": "execute_result"
    }
   ],
   "source": [
    "corrects = (preds>0.5).float() == train_y\n",
    "corrects"
   ]
  },
  {
   "cell_type": "code",
   "execution_count": 76,
   "id": "fe457200",
   "metadata": {},
   "outputs": [
    {
     "data": {
      "text/plain": [
       "0.6728783249855042"
      ]
     },
     "execution_count": 76,
     "metadata": {},
     "output_type": "execute_result"
    }
   ],
   "source": [
    "corrects.float().mean().item()"
   ]
  },
  {
   "cell_type": "code",
   "execution_count": 77,
   "id": "21cd7593",
   "metadata": {},
   "outputs": [],
   "source": [
    "with torch.no_grad():\n",
    "    weights[0] *= 1.001"
   ]
  },
  {
   "cell_type": "code",
   "execution_count": 78,
   "id": "d5e496ab",
   "metadata": {},
   "outputs": [
    {
     "data": {
      "text/plain": [
       "0.6728783249855042"
      ]
     },
     "execution_count": 78,
     "metadata": {},
     "output_type": "execute_result"
    }
   ],
   "source": [
    "preds = linear1(train_x)\n",
    "((preds>0.5).float() == train_y).float().mean().item()"
   ]
  },
  {
   "cell_type": "code",
   "execution_count": 79,
   "id": "e8d199a9",
   "metadata": {},
   "outputs": [],
   "source": [
    "trgts = tensor([1, 0, 1])"
   ]
  },
  {
   "cell_type": "code",
   "execution_count": 80,
   "id": "aa45231c",
   "metadata": {},
   "outputs": [],
   "source": [
    "prds = tensor([0.9, 0.4, 0.2])"
   ]
  },
  {
   "cell_type": "code",
   "execution_count": 81,
   "id": "d7722c55",
   "metadata": {},
   "outputs": [],
   "source": [
    "def mnist_loss(predictions, targets):\n",
    "    return torch.where(targets==1, 1-predictions, predictions).mean()"
   ]
  },
  {
   "cell_type": "code",
   "execution_count": 82,
   "id": "b109e6f2",
   "metadata": {},
   "outputs": [
    {
     "data": {
      "text/plain": [
       "tensor([0.1000, 0.4000, 0.8000])"
      ]
     },
     "execution_count": 82,
     "metadata": {},
     "output_type": "execute_result"
    }
   ],
   "source": [
    "torch.where(trgts==1, 1-prds, prds)"
   ]
  },
  {
   "cell_type": "code",
   "execution_count": 83,
   "id": "9034252d",
   "metadata": {},
   "outputs": [
    {
     "data": {
      "text/plain": [
       "tensor(0.4333)"
      ]
     },
     "execution_count": 83,
     "metadata": {},
     "output_type": "execute_result"
    }
   ],
   "source": [
    "mnist_loss(prds, trgts)"
   ]
  },
  {
   "cell_type": "code",
   "execution_count": 84,
   "id": "d3cded4f",
   "metadata": {},
   "outputs": [
    {
     "data": {
      "text/plain": [
       "tensor(0.2333)"
      ]
     },
     "execution_count": 84,
     "metadata": {},
     "output_type": "execute_result"
    }
   ],
   "source": [
    "mnist_loss(tensor([0.9, 0.4, 0.8]), trgts)"
   ]
  },
  {
   "cell_type": "code",
   "execution_count": 85,
   "id": "1689eac8",
   "metadata": {},
   "outputs": [],
   "source": [
    "def sigmoid(x):\n",
    "    return 1/(1+torch.exp(-x))"
   ]
  },
  {
   "cell_type": "code",
   "execution_count": 86,
   "id": "3a4dfc57",
   "metadata": {},
   "outputs": [
    {
     "name": "stdout",
     "output_type": "stream",
     "text": [
      "Requirement already satisfied: fastbook in c:\\users\\yes\\anaconda3\\lib\\site-packages (0.0.29)\n",
      "Requirement already satisfied: graphviz in c:\\users\\yes\\anaconda3\\lib\\site-packages (from fastbook) (0.20.1)\n",
      "Requirement already satisfied: sentencepiece in c:\\users\\yes\\anaconda3\\lib\\site-packages (from fastbook) (0.1.99)\n",
      "Requirement already satisfied: pandas in c:\\users\\yes\\anaconda3\\lib\\site-packages (from fastbook) (1.5.3)\n",
      "Requirement already satisfied: datasets in c:\\users\\yes\\anaconda3\\lib\\site-packages (from fastbook) (2.12.0)\n",
      "Requirement already satisfied: ipywidgets<8 in c:\\users\\yes\\anaconda3\\lib\\site-packages (from fastbook) (7.6.5)\n",
      "Requirement already satisfied: requests in c:\\users\\yes\\anaconda3\\lib\\site-packages (from fastbook) (2.28.1)\n",
      "Requirement already satisfied: transformers in c:\\users\\yes\\anaconda3\\lib\\site-packages (from fastbook) (4.24.0)\n",
      "Requirement already satisfied: pip in c:\\users\\yes\\anaconda3\\lib\\site-packages (from fastbook) (22.3.1)\n",
      "Requirement already satisfied: packaging in c:\\users\\yes\\anaconda3\\lib\\site-packages (from fastbook) (22.0)\n",
      "Requirement already satisfied: fastai>=2.6 in c:\\users\\yes\\anaconda3\\lib\\site-packages (from fastbook) (2.7.12)\n",
      "Requirement already satisfied: scikit-learn in c:\\users\\yes\\anaconda3\\lib\\site-packages (from fastai>=2.6->fastbook) (1.2.1)\n",
      "Requirement already satisfied: fastprogress>=0.2.4 in c:\\users\\yes\\anaconda3\\lib\\site-packages (from fastai>=2.6->fastbook) (1.0.3)\n",
      "Requirement already satisfied: pyyaml in c:\\users\\yes\\anaconda3\\lib\\site-packages (from fastai>=2.6->fastbook) (6.0)\n",
      "Requirement already satisfied: matplotlib in c:\\users\\yes\\anaconda3\\lib\\site-packages (from fastai>=2.6->fastbook) (3.7.0)\n",
      "Requirement already satisfied: scipy in c:\\users\\yes\\anaconda3\\lib\\site-packages (from fastai>=2.6->fastbook) (1.10.0)\n",
      "Requirement already satisfied: fastdownload<2,>=0.0.5 in c:\\users\\yes\\anaconda3\\lib\\site-packages (from fastai>=2.6->fastbook) (0.0.7)\n",
      "Requirement already satisfied: pillow>6.0.0 in c:\\users\\yes\\anaconda3\\lib\\site-packages (from fastai>=2.6->fastbook) (9.4.0)\n",
      "Requirement already satisfied: spacy<4 in c:\\users\\yes\\anaconda3\\lib\\site-packages (from fastai>=2.6->fastbook) (3.5.2)\n",
      "Requirement already satisfied: fastcore<1.6,>=1.5.29 in c:\\users\\yes\\anaconda3\\lib\\site-packages (from fastai>=2.6->fastbook) (1.5.29)\n",
      "Requirement already satisfied: torchvision>=0.8.2 in c:\\users\\yes\\anaconda3\\lib\\site-packages (from fastai>=2.6->fastbook) (0.15.1)\n",
      "Requirement already satisfied: torch<2.1,>=1.7 in c:\\users\\yes\\anaconda3\\lib\\site-packages (from fastai>=2.6->fastbook) (2.0.0)\n",
      "Requirement already satisfied: ipython-genutils~=0.2.0 in c:\\users\\yes\\anaconda3\\lib\\site-packages (from ipywidgets<8->fastbook) (0.2.0)\n",
      "Requirement already satisfied: widgetsnbextension~=3.5.0 in c:\\users\\yes\\anaconda3\\lib\\site-packages (from ipywidgets<8->fastbook) (3.5.2)\n",
      "Requirement already satisfied: jupyterlab-widgets>=1.0.0 in c:\\users\\yes\\anaconda3\\lib\\site-packages (from ipywidgets<8->fastbook) (1.0.0)\n",
      "Requirement already satisfied: traitlets>=4.3.1 in c:\\users\\yes\\anaconda3\\lib\\site-packages (from ipywidgets<8->fastbook) (5.7.1)\n",
      "Requirement already satisfied: ipython>=4.0.0 in c:\\users\\yes\\anaconda3\\lib\\site-packages (from ipywidgets<8->fastbook) (8.10.0)\n",
      "Requirement already satisfied: nbformat>=4.2.0 in c:\\users\\yes\\anaconda3\\lib\\site-packages (from ipywidgets<8->fastbook) (5.7.0)\n",
      "Requirement already satisfied: ipykernel>=4.5.1 in c:\\users\\yes\\anaconda3\\lib\\site-packages (from ipywidgets<8->fastbook) (6.19.2)\n",
      "Requirement already satisfied: pyarrow>=8.0.0 in c:\\users\\yes\\anaconda3\\lib\\site-packages (from datasets->fastbook) (12.0.0)\n",
      "Requirement already satisfied: xxhash in c:\\users\\yes\\anaconda3\\lib\\site-packages (from datasets->fastbook) (3.2.0)\n",
      "Requirement already satisfied: numpy>=1.17 in c:\\users\\yes\\anaconda3\\lib\\site-packages (from datasets->fastbook) (1.23.5)\n",
      "Requirement already satisfied: tqdm>=4.62.1 in c:\\users\\yes\\anaconda3\\lib\\site-packages (from datasets->fastbook) (4.64.1)\n",
      "Requirement already satisfied: multiprocess in c:\\users\\yes\\anaconda3\\lib\\site-packages (from datasets->fastbook) (0.70.14)\n",
      "Requirement already satisfied: responses<0.19 in c:\\users\\yes\\anaconda3\\lib\\site-packages (from datasets->fastbook) (0.18.0)\n",
      "Requirement already satisfied: huggingface-hub<1.0.0,>=0.11.0 in c:\\users\\yes\\anaconda3\\lib\\site-packages (from datasets->fastbook) (0.14.1)\n",
      "Requirement already satisfied: dill<0.3.7,>=0.3.0 in c:\\users\\yes\\anaconda3\\lib\\site-packages (from datasets->fastbook) (0.3.6)\n",
      "Requirement already satisfied: fsspec[http]>=2021.11.1 in c:\\users\\yes\\anaconda3\\lib\\site-packages (from datasets->fastbook) (2022.11.0)\n",
      "Requirement already satisfied: aiohttp in c:\\users\\yes\\anaconda3\\lib\\site-packages (from datasets->fastbook) (3.8.4)\n",
      "Requirement already satisfied: certifi>=2017.4.17 in c:\\users\\yes\\anaconda3\\lib\\site-packages (from requests->fastbook) (2022.12.7)\n",
      "Requirement already satisfied: idna<4,>=2.5 in c:\\users\\yes\\anaconda3\\lib\\site-packages (from requests->fastbook) (3.4)\n",
      "Requirement already satisfied: charset-normalizer<3,>=2 in c:\\users\\yes\\anaconda3\\lib\\site-packages (from requests->fastbook) (2.0.4)\n",
      "Requirement already satisfied: urllib3<1.27,>=1.21.1 in c:\\users\\yes\\anaconda3\\lib\\site-packages (from requests->fastbook) (1.26.14)\n",
      "Requirement already satisfied: pytz>=2020.1 in c:\\users\\yes\\anaconda3\\lib\\site-packages (from pandas->fastbook) (2022.7)\n",
      "Requirement already satisfied: python-dateutil>=2.8.1 in c:\\users\\yes\\anaconda3\\lib\\site-packages (from pandas->fastbook) (2.8.2)\n",
      "Requirement already satisfied: tokenizers!=0.11.3,<0.14,>=0.11.1 in c:\\users\\yes\\anaconda3\\lib\\site-packages (from transformers->fastbook) (0.11.4)\n",
      "Requirement already satisfied: regex!=2019.12.17 in c:\\users\\yes\\anaconda3\\lib\\site-packages (from transformers->fastbook) (2022.7.9)\n",
      "Requirement already satisfied: filelock in c:\\users\\yes\\anaconda3\\lib\\site-packages (from transformers->fastbook) (3.9.0)\n",
      "Requirement already satisfied: yarl<2.0,>=1.0 in c:\\users\\yes\\anaconda3\\lib\\site-packages (from aiohttp->datasets->fastbook) (1.9.2)\n",
      "Requirement already satisfied: frozenlist>=1.1.1 in c:\\users\\yes\\anaconda3\\lib\\site-packages (from aiohttp->datasets->fastbook) (1.3.3)\n",
      "Requirement already satisfied: multidict<7.0,>=4.5 in c:\\users\\yes\\anaconda3\\lib\\site-packages (from aiohttp->datasets->fastbook) (6.0.4)\n",
      "Requirement already satisfied: async-timeout<5.0,>=4.0.0a3 in c:\\users\\yes\\anaconda3\\lib\\site-packages (from aiohttp->datasets->fastbook) (4.0.2)\n",
      "Requirement already satisfied: attrs>=17.3.0 in c:\\users\\yes\\anaconda3\\lib\\site-packages (from aiohttp->datasets->fastbook) (22.1.0)\n",
      "Requirement already satisfied: aiosignal>=1.1.2 in c:\\users\\yes\\anaconda3\\lib\\site-packages (from aiohttp->datasets->fastbook) (1.3.1)\n",
      "Requirement already satisfied: typing-extensions>=3.7.4.3 in c:\\users\\yes\\anaconda3\\lib\\site-packages (from huggingface-hub<1.0.0,>=0.11.0->datasets->fastbook) (4.4.0)\n",
      "Requirement already satisfied: comm>=0.1.1 in c:\\users\\yes\\anaconda3\\lib\\site-packages (from ipykernel>=4.5.1->ipywidgets<8->fastbook) (0.1.2)\n",
      "Requirement already satisfied: matplotlib-inline>=0.1 in c:\\users\\yes\\anaconda3\\lib\\site-packages (from ipykernel>=4.5.1->ipywidgets<8->fastbook) (0.1.6)\n",
      "Requirement already satisfied: tornado>=6.1 in c:\\users\\yes\\anaconda3\\lib\\site-packages (from ipykernel>=4.5.1->ipywidgets<8->fastbook) (6.1)\n",
      "Requirement already satisfied: psutil in c:\\users\\yes\\anaconda3\\lib\\site-packages (from ipykernel>=4.5.1->ipywidgets<8->fastbook) (5.9.0)\n",
      "Requirement already satisfied: nest-asyncio in c:\\users\\yes\\anaconda3\\lib\\site-packages (from ipykernel>=4.5.1->ipywidgets<8->fastbook) (1.5.6)\n",
      "Requirement already satisfied: jupyter-client>=6.1.12 in c:\\users\\yes\\anaconda3\\lib\\site-packages (from ipykernel>=4.5.1->ipywidgets<8->fastbook) (7.3.4)\n",
      "Requirement already satisfied: debugpy>=1.0 in c:\\users\\yes\\anaconda3\\lib\\site-packages (from ipykernel>=4.5.1->ipywidgets<8->fastbook) (1.5.1)\n",
      "Requirement already satisfied: pyzmq>=17 in c:\\users\\yes\\anaconda3\\lib\\site-packages (from ipykernel>=4.5.1->ipywidgets<8->fastbook) (23.2.0)\n",
      "Requirement already satisfied: jedi>=0.16 in c:\\users\\yes\\anaconda3\\lib\\site-packages (from ipython>=4.0.0->ipywidgets<8->fastbook) (0.18.1)\n",
      "Requirement already satisfied: backcall in c:\\users\\yes\\anaconda3\\lib\\site-packages (from ipython>=4.0.0->ipywidgets<8->fastbook) (0.2.0)\n",
      "Requirement already satisfied: stack-data in c:\\users\\yes\\anaconda3\\lib\\site-packages (from ipython>=4.0.0->ipywidgets<8->fastbook) (0.2.0)\n",
      "Requirement already satisfied: pygments>=2.4.0 in c:\\users\\yes\\anaconda3\\lib\\site-packages (from ipython>=4.0.0->ipywidgets<8->fastbook) (2.11.2)\n",
      "Requirement already satisfied: decorator in c:\\users\\yes\\anaconda3\\lib\\site-packages (from ipython>=4.0.0->ipywidgets<8->fastbook) (5.1.1)\n",
      "Requirement already satisfied: prompt-toolkit<3.1.0,>=3.0.30 in c:\\users\\yes\\anaconda3\\lib\\site-packages (from ipython>=4.0.0->ipywidgets<8->fastbook) (3.0.36)\n",
      "Requirement already satisfied: pickleshare in c:\\users\\yes\\anaconda3\\lib\\site-packages (from ipython>=4.0.0->ipywidgets<8->fastbook) (0.7.5)\n",
      "Requirement already satisfied: colorama in c:\\users\\yes\\anaconda3\\lib\\site-packages (from ipython>=4.0.0->ipywidgets<8->fastbook) (0.4.6)\n",
      "Requirement already satisfied: jupyter-core in c:\\users\\yes\\anaconda3\\lib\\site-packages (from nbformat>=4.2.0->ipywidgets<8->fastbook) (5.2.0)\n",
      "Requirement already satisfied: jsonschema>=2.6 in c:\\users\\yes\\anaconda3\\lib\\site-packages (from nbformat>=4.2.0->ipywidgets<8->fastbook) (4.17.3)\n",
      "Requirement already satisfied: fastjsonschema in c:\\users\\yes\\anaconda3\\lib\\site-packages (from nbformat>=4.2.0->ipywidgets<8->fastbook) (2.16.2)\n",
      "Requirement already satisfied: six>=1.5 in c:\\users\\yes\\anaconda3\\lib\\site-packages (from python-dateutil>=2.8.1->pandas->fastbook) (1.16.0)\n",
      "Requirement already satisfied: smart-open<7.0.0,>=5.2.1 in c:\\users\\yes\\anaconda3\\lib\\site-packages (from spacy<4->fastai>=2.6->fastbook) (5.2.1)\n",
      "Requirement already satisfied: pydantic!=1.8,!=1.8.1,<1.11.0,>=1.7.4 in c:\\users\\yes\\anaconda3\\lib\\site-packages (from spacy<4->fastai>=2.6->fastbook) (1.10.7)\n",
      "Requirement already satisfied: murmurhash<1.1.0,>=0.28.0 in c:\\users\\yes\\anaconda3\\lib\\site-packages (from spacy<4->fastai>=2.6->fastbook) (1.0.9)\n",
      "Requirement already satisfied: srsly<3.0.0,>=2.4.3 in c:\\users\\yes\\anaconda3\\lib\\site-packages (from spacy<4->fastai>=2.6->fastbook) (2.4.6)\n",
      "Requirement already satisfied: pathy>=0.10.0 in c:\\users\\yes\\anaconda3\\lib\\site-packages (from spacy<4->fastai>=2.6->fastbook) (0.10.1)\n",
      "Requirement already satisfied: thinc<8.2.0,>=8.1.8 in c:\\users\\yes\\anaconda3\\lib\\site-packages (from spacy<4->fastai>=2.6->fastbook) (8.1.9)\n",
      "Requirement already satisfied: typer<0.8.0,>=0.3.0 in c:\\users\\yes\\anaconda3\\lib\\site-packages (from spacy<4->fastai>=2.6->fastbook) (0.7.0)\n",
      "Requirement already satisfied: jinja2 in c:\\users\\yes\\anaconda3\\lib\\site-packages (from spacy<4->fastai>=2.6->fastbook) (3.1.2)\n",
      "Requirement already satisfied: setuptools in c:\\users\\yes\\anaconda3\\lib\\site-packages (from spacy<4->fastai>=2.6->fastbook) (65.6.3)\n",
      "Requirement already satisfied: spacy-loggers<2.0.0,>=1.0.0 in c:\\users\\yes\\anaconda3\\lib\\site-packages (from spacy<4->fastai>=2.6->fastbook) (1.0.4)\n",
      "Requirement already satisfied: catalogue<2.1.0,>=2.0.6 in c:\\users\\yes\\anaconda3\\lib\\site-packages (from spacy<4->fastai>=2.6->fastbook) (2.0.8)\n",
      "Requirement already satisfied: spacy-legacy<3.1.0,>=3.0.11 in c:\\users\\yes\\anaconda3\\lib\\site-packages (from spacy<4->fastai>=2.6->fastbook) (3.0.12)\n",
      "Requirement already satisfied: preshed<3.1.0,>=3.0.2 in c:\\users\\yes\\anaconda3\\lib\\site-packages (from spacy<4->fastai>=2.6->fastbook) (3.0.8)\n",
      "Requirement already satisfied: cymem<2.1.0,>=2.0.2 in c:\\users\\yes\\anaconda3\\lib\\site-packages (from spacy<4->fastai>=2.6->fastbook) (2.0.7)\n",
      "Requirement already satisfied: wasabi<1.2.0,>=0.9.1 in c:\\users\\yes\\anaconda3\\lib\\site-packages (from spacy<4->fastai>=2.6->fastbook) (1.1.1)\n",
      "Requirement already satisfied: langcodes<4.0.0,>=3.2.0 in c:\\users\\yes\\anaconda3\\lib\\site-packages (from spacy<4->fastai>=2.6->fastbook) (3.3.0)\n",
      "Requirement already satisfied: networkx in c:\\users\\yes\\anaconda3\\lib\\site-packages (from torch<2.1,>=1.7->fastai>=2.6->fastbook) (2.8.4)\n",
      "Requirement already satisfied: sympy in c:\\users\\yes\\anaconda3\\lib\\site-packages (from torch<2.1,>=1.7->fastai>=2.6->fastbook) (1.11.1)\n",
      "Requirement already satisfied: notebook>=4.4.1 in c:\\users\\yes\\anaconda3\\lib\\site-packages (from widgetsnbextension~=3.5.0->ipywidgets<8->fastbook) (6.5.2)\n",
      "Requirement already satisfied: cycler>=0.10 in c:\\users\\yes\\anaconda3\\lib\\site-packages (from matplotlib->fastai>=2.6->fastbook) (0.11.0)\n",
      "Requirement already satisfied: pyparsing>=2.3.1 in c:\\users\\yes\\anaconda3\\lib\\site-packages (from matplotlib->fastai>=2.6->fastbook) (3.0.9)\n",
      "Requirement already satisfied: contourpy>=1.0.1 in c:\\users\\yes\\anaconda3\\lib\\site-packages (from matplotlib->fastai>=2.6->fastbook) (1.0.5)\n",
      "Requirement already satisfied: kiwisolver>=1.0.1 in c:\\users\\yes\\anaconda3\\lib\\site-packages (from matplotlib->fastai>=2.6->fastbook) (1.4.4)\n",
      "Requirement already satisfied: fonttools>=4.22.0 in c:\\users\\yes\\anaconda3\\lib\\site-packages (from matplotlib->fastai>=2.6->fastbook) (4.25.0)\n",
      "Requirement already satisfied: threadpoolctl>=2.0.0 in c:\\users\\yes\\anaconda3\\lib\\site-packages (from scikit-learn->fastai>=2.6->fastbook) (2.2.0)\n",
      "Requirement already satisfied: joblib>=1.1.1 in c:\\users\\yes\\anaconda3\\lib\\site-packages (from scikit-learn->fastai>=2.6->fastbook) (1.1.1)\n",
      "Requirement already satisfied: parso<0.9.0,>=0.8.0 in c:\\users\\yes\\anaconda3\\lib\\site-packages (from jedi>=0.16->ipython>=4.0.0->ipywidgets<8->fastbook) (0.8.3)\n",
      "Requirement already satisfied: pyrsistent!=0.17.0,!=0.17.1,!=0.17.2,>=0.14.0 in c:\\users\\yes\\anaconda3\\lib\\site-packages (from jsonschema>=2.6->nbformat>=4.2.0->ipywidgets<8->fastbook) (0.18.0)\n",
      "Requirement already satisfied: entrypoints in c:\\users\\yes\\anaconda3\\lib\\site-packages (from jupyter-client>=6.1.12->ipykernel>=4.5.1->ipywidgets<8->fastbook) (0.4)\n",
      "Requirement already satisfied: platformdirs>=2.5 in c:\\users\\yes\\anaconda3\\lib\\site-packages (from jupyter-core->nbformat>=4.2.0->ipywidgets<8->fastbook) (2.5.2)\n",
      "Requirement already satisfied: pywin32>=1.0 in c:\\users\\yes\\anaconda3\\lib\\site-packages (from jupyter-core->nbformat>=4.2.0->ipywidgets<8->fastbook) (305.1)\n",
      "Requirement already satisfied: nbconvert>=5 in c:\\users\\yes\\anaconda3\\lib\\site-packages (from notebook>=4.4.1->widgetsnbextension~=3.5.0->ipywidgets<8->fastbook) (6.5.4)\n",
      "Requirement already satisfied: argon2-cffi in c:\\users\\yes\\anaconda3\\lib\\site-packages (from notebook>=4.4.1->widgetsnbextension~=3.5.0->ipywidgets<8->fastbook) (21.3.0)\n",
      "Requirement already satisfied: Send2Trash>=1.8.0 in c:\\users\\yes\\anaconda3\\lib\\site-packages (from notebook>=4.4.1->widgetsnbextension~=3.5.0->ipywidgets<8->fastbook) (1.8.0)\n",
      "Requirement already satisfied: terminado>=0.8.3 in c:\\users\\yes\\anaconda3\\lib\\site-packages (from notebook>=4.4.1->widgetsnbextension~=3.5.0->ipywidgets<8->fastbook) (0.17.1)\n",
      "Requirement already satisfied: prometheus-client in c:\\users\\yes\\anaconda3\\lib\\site-packages (from notebook>=4.4.1->widgetsnbextension~=3.5.0->ipywidgets<8->fastbook) (0.14.1)\n",
      "Requirement already satisfied: nbclassic>=0.4.7 in c:\\users\\yes\\anaconda3\\lib\\site-packages (from notebook>=4.4.1->widgetsnbextension~=3.5.0->ipywidgets<8->fastbook) (0.5.2)\n",
      "Requirement already satisfied: wcwidth in c:\\users\\yes\\anaconda3\\lib\\site-packages (from prompt-toolkit<3.1.0,>=3.0.30->ipython>=4.0.0->ipywidgets<8->fastbook) (0.2.5)\n",
      "Requirement already satisfied: confection<1.0.0,>=0.0.1 in c:\\users\\yes\\anaconda3\\lib\\site-packages (from thinc<8.2.0,>=8.1.8->spacy<4->fastai>=2.6->fastbook) (0.0.4)\n",
      "Requirement already satisfied: blis<0.8.0,>=0.7.8 in c:\\users\\yes\\anaconda3\\lib\\site-packages (from thinc<8.2.0,>=8.1.8->spacy<4->fastai>=2.6->fastbook) (0.7.9)\n",
      "Requirement already satisfied: click<9.0.0,>=7.1.1 in c:\\users\\yes\\anaconda3\\lib\\site-packages (from typer<0.8.0,>=0.3.0->spacy<4->fastai>=2.6->fastbook) (8.0.4)\n",
      "Requirement already satisfied: MarkupSafe>=2.0 in c:\\users\\yes\\anaconda3\\lib\\site-packages (from jinja2->spacy<4->fastai>=2.6->fastbook) (2.1.1)\n",
      "Requirement already satisfied: pure-eval in c:\\users\\yes\\anaconda3\\lib\\site-packages (from stack-data->ipython>=4.0.0->ipywidgets<8->fastbook) (0.2.2)\n",
      "Requirement already satisfied: executing in c:\\users\\yes\\anaconda3\\lib\\site-packages (from stack-data->ipython>=4.0.0->ipywidgets<8->fastbook) (0.8.3)\n",
      "Requirement already satisfied: asttokens in c:\\users\\yes\\anaconda3\\lib\\site-packages (from stack-data->ipython>=4.0.0->ipywidgets<8->fastbook) (2.0.5)\n",
      "Requirement already satisfied: mpmath>=0.19 in c:\\users\\yes\\anaconda3\\lib\\site-packages (from sympy->torch<2.1,>=1.7->fastai>=2.6->fastbook) (1.2.1)\n",
      "Requirement already satisfied: notebook-shim>=0.1.0 in c:\\users\\yes\\anaconda3\\lib\\site-packages (from nbclassic>=0.4.7->notebook>=4.4.1->widgetsnbextension~=3.5.0->ipywidgets<8->fastbook) (0.2.2)\n",
      "Requirement already satisfied: jupyter-server>=1.8 in c:\\users\\yes\\anaconda3\\lib\\site-packages (from nbclassic>=0.4.7->notebook>=4.4.1->widgetsnbextension~=3.5.0->ipywidgets<8->fastbook) (1.23.4)\n",
      "Requirement already satisfied: nbclient>=0.5.0 in c:\\users\\yes\\anaconda3\\lib\\site-packages (from nbconvert>=5->notebook>=4.4.1->widgetsnbextension~=3.5.0->ipywidgets<8->fastbook) (0.5.13)\n",
      "Requirement already satisfied: tinycss2 in c:\\users\\yes\\anaconda3\\lib\\site-packages (from nbconvert>=5->notebook>=4.4.1->widgetsnbextension~=3.5.0->ipywidgets<8->fastbook) (1.2.1)\n",
      "Requirement already satisfied: pandocfilters>=1.4.1 in c:\\users\\yes\\anaconda3\\lib\\site-packages (from nbconvert>=5->notebook>=4.4.1->widgetsnbextension~=3.5.0->ipywidgets<8->fastbook) (1.5.0)\n",
      "Requirement already satisfied: jupyterlab-pygments in c:\\users\\yes\\anaconda3\\lib\\site-packages (from nbconvert>=5->notebook>=4.4.1->widgetsnbextension~=3.5.0->ipywidgets<8->fastbook) (0.1.2)\n",
      "Requirement already satisfied: defusedxml in c:\\users\\yes\\anaconda3\\lib\\site-packages (from nbconvert>=5->notebook>=4.4.1->widgetsnbextension~=3.5.0->ipywidgets<8->fastbook) (0.7.1)\n",
      "Requirement already satisfied: bleach in c:\\users\\yes\\anaconda3\\lib\\site-packages (from nbconvert>=5->notebook>=4.4.1->widgetsnbextension~=3.5.0->ipywidgets<8->fastbook) (4.1.0)\n",
      "Requirement already satisfied: lxml in c:\\users\\yes\\anaconda3\\lib\\site-packages (from nbconvert>=5->notebook>=4.4.1->widgetsnbextension~=3.5.0->ipywidgets<8->fastbook) (4.9.1)\n",
      "Requirement already satisfied: mistune<2,>=0.8.1 in c:\\users\\yes\\anaconda3\\lib\\site-packages (from nbconvert>=5->notebook>=4.4.1->widgetsnbextension~=3.5.0->ipywidgets<8->fastbook) (0.8.4)\n",
      "Requirement already satisfied: beautifulsoup4 in c:\\users\\yes\\anaconda3\\lib\\site-packages (from nbconvert>=5->notebook>=4.4.1->widgetsnbextension~=3.5.0->ipywidgets<8->fastbook) (4.11.1)\n",
      "Requirement already satisfied: pywinpty>=1.1.0 in c:\\users\\yes\\anaconda3\\lib\\site-packages (from terminado>=0.8.3->notebook>=4.4.1->widgetsnbextension~=3.5.0->ipywidgets<8->fastbook) (2.0.10)\n",
      "Requirement already satisfied: argon2-cffi-bindings in c:\\users\\yes\\anaconda3\\lib\\site-packages (from argon2-cffi->notebook>=4.4.1->widgetsnbextension~=3.5.0->ipywidgets<8->fastbook) (21.2.0)\n",
      "Requirement already satisfied: websocket-client in c:\\users\\yes\\anaconda3\\lib\\site-packages (from jupyter-server>=1.8->nbclassic>=0.4.7->notebook>=4.4.1->widgetsnbextension~=3.5.0->ipywidgets<8->fastbook) (0.58.0)\n",
      "Requirement already satisfied: anyio<4,>=3.1.0 in c:\\users\\yes\\anaconda3\\lib\\site-packages (from jupyter-server>=1.8->nbclassic>=0.4.7->notebook>=4.4.1->widgetsnbextension~=3.5.0->ipywidgets<8->fastbook) (3.5.0)\n",
      "Requirement already satisfied: cffi>=1.0.1 in c:\\users\\yes\\anaconda3\\lib\\site-packages (from argon2-cffi-bindings->argon2-cffi->notebook>=4.4.1->widgetsnbextension~=3.5.0->ipywidgets<8->fastbook) (1.15.1)\n",
      "Requirement already satisfied: soupsieve>1.2 in c:\\users\\yes\\anaconda3\\lib\\site-packages (from beautifulsoup4->nbconvert>=5->notebook>=4.4.1->widgetsnbextension~=3.5.0->ipywidgets<8->fastbook) (2.3.2.post1)\n",
      "Requirement already satisfied: webencodings in c:\\users\\yes\\anaconda3\\lib\\site-packages (from bleach->nbconvert>=5->notebook>=4.4.1->widgetsnbextension~=3.5.0->ipywidgets<8->fastbook) (0.5.1)\n",
      "Requirement already satisfied: sniffio>=1.1 in c:\\users\\yes\\anaconda3\\lib\\site-packages (from anyio<4,>=3.1.0->jupyter-server>=1.8->nbclassic>=0.4.7->notebook>=4.4.1->widgetsnbextension~=3.5.0->ipywidgets<8->fastbook) (1.2.0)\n",
      "Requirement already satisfied: pycparser in c:\\users\\yes\\anaconda3\\lib\\site-packages (from cffi>=1.0.1->argon2-cffi-bindings->argon2-cffi->notebook>=4.4.1->widgetsnbextension~=3.5.0->ipywidgets<8->fastbook) (2.21)\n"
     ]
    }
   ],
   "source": [
    "!pip install fastbook"
   ]
  },
  {
   "cell_type": "code",
   "execution_count": 87,
   "id": "35e73edf",
   "metadata": {},
   "outputs": [],
   "source": [
    "import fastbook\n",
    "fastbook.setup_book()\n",
    "from fastbook import *"
   ]
  },
  {
   "cell_type": "code",
   "execution_count": 88,
   "id": "f787ee45",
   "metadata": {},
   "outputs": [
    {
     "data": {
      "image/png": "[encoded data removed]",
      "text/plain": [
       "<Figure size 600x400 with 1 Axes>"
      ]
     },
     "metadata": {},
     "output_type": "display_data"
    }
   ],
   "source": [
    "plot_function(torch.sigmoid, title=\"Sigmoid\", min=-4, max=4)"
   ]
  },
  {
   "cell_type": "code",
   "execution_count": 89,
   "id": "844b1cea",
   "metadata": {},
   "outputs": [],
   "source": [
    "def mnist_loss(predictions, targets):\n",
    "    predictions = predictions.sigmoid()\n",
    "    return torch.where(targets==1, 1-predictions, predictions).mean()"
   ]
  },
  {
   "cell_type": "code",
   "execution_count": 90,
   "id": "93e091fb",
   "metadata": {},
   "outputs": [
    {
     "data": {
      "text/plain": [
       "[tensor([ 3, 12,  8, 10,  2]),\n",
       " tensor([ 9,  4,  7, 14,  5]),\n",
       " tensor([ 1, 13,  0,  6, 11])]"
      ]
     },
     "execution_count": 90,
     "metadata": {},
     "output_type": "execute_result"
    }
   ],
   "source": [
    "coll = range(15) \n",
    "dl = DataLoader(coll, batch_size=5, shuffle=True)\n",
    "list(dl)"
   ]
  },
  {
   "cell_type": "code",
   "execution_count": 91,
   "id": "d4d9846e",
   "metadata": {},
   "outputs": [
    {
     "data": {
      "text/plain": [
       "(#26) [(0, 'a'),(1, 'b'),(2, 'c'),(3, 'd'),(4, 'e'),(5, 'f'),(6, 'g'),(7, 'h'),(8, 'i'),(9, 'j')...]"
      ]
     },
     "execution_count": 91,
     "metadata": {},
     "output_type": "execute_result"
    }
   ],
   "source": [
    "ds = L(enumerate(string.ascii_lowercase))\n",
    "ds"
   ]
  },
  {
   "cell_type": "code",
   "execution_count": 92,
   "id": "209fba3e",
   "metadata": {},
   "outputs": [],
   "source": [
    "dl = DataLoader(ds, batch_size=6, shuffle=True)"
   ]
  },
  {
   "cell_type": "code",
   "execution_count": 93,
   "id": "2cdc9e42",
   "metadata": {},
   "outputs": [
    {
     "data": {
      "text/plain": [
       "[(tensor([17, 18, 10, 22,  8, 14]), ('r', 's', 'k', 'w', 'i', 'o')),\n",
       " (tensor([20, 15,  9, 13, 21, 12]), ('u', 'p', 'j', 'n', 'v', 'm')),\n",
       " (tensor([ 7, 25,  6,  5, 11, 23]), ('h', 'z', 'g', 'f', 'l', 'x')),\n",
       " (tensor([ 1,  3,  0, 24, 19, 16]), ('b', 'd', 'a', 'y', 't', 'q')),\n",
       " (tensor([2, 4]), ('c', 'e'))]"
      ]
     },
     "execution_count": 93,
     "metadata": {},
     "output_type": "execute_result"
    }
   ],
   "source": [
    "list(dl)"
   ]
  },
  {
   "cell_type": "code",
   "execution_count": 94,
   "id": "02961fba",
   "metadata": {},
   "outputs": [],
   "source": [
    "weights = init_params((28*28, 1))\n",
    "bias = init_params(1)"
   ]
  },
  {
   "cell_type": "code",
   "execution_count": 95,
   "id": "a8cfc045",
   "metadata": {},
   "outputs": [
    {
     "data": {
      "text/plain": [
       "(torch.Size([256, 784]), torch.Size([256, 1]))"
      ]
     },
     "execution_count": 95,
     "metadata": {},
     "output_type": "execute_result"
    }
   ],
   "source": [
    "dl = DataLoader(dset, batch_size = 256)\n",
    "xb, yb = first(dl)\n",
    "xb.shape, yb.shape"
   ]
  },
  {
   "cell_type": "code",
   "execution_count": 96,
   "id": "facc2a09",
   "metadata": {},
   "outputs": [],
   "source": [
    "valid_dl = DataLoader(valid_dset, batch_size = 256)"
   ]
  },
  {
   "cell_type": "code",
   "execution_count": 97,
   "id": "5f0a52d0",
   "metadata": {},
   "outputs": [
    {
     "data": {
      "text/plain": [
       "torch.Size([4, 784])"
      ]
     },
     "execution_count": 97,
     "metadata": {},
     "output_type": "execute_result"
    }
   ],
   "source": [
    "batch = train_x[:4]\n",
    "batch.shape"
   ]
  },
  {
   "cell_type": "code",
   "execution_count": 98,
   "id": "ee9000d9",
   "metadata": {},
   "outputs": [
    {
     "data": {
      "text/plain": [
       "tensor([[-2.8015],\n",
       "        [-2.9294],\n",
       "        [ 1.3709],\n",
       "        [-1.8300]], grad_fn=<AddBackward0>)"
      ]
     },
     "execution_count": 98,
     "metadata": {},
     "output_type": "execute_result"
    }
   ],
   "source": [
    "preds = linear1(batch)\n",
    "preds"
   ]
  },
  {
   "cell_type": "code",
   "execution_count": 99,
   "id": "e8752295",
   "metadata": {},
   "outputs": [
    {
     "data": {
      "text/plain": [
       "tensor(0.7391, grad_fn=<MeanBackward0>)"
      ]
     },
     "execution_count": 99,
     "metadata": {},
     "output_type": "execute_result"
    }
   ],
   "source": [
    "loss = mnist_loss(preds, train_y[:4])\n",
    "loss"
   ]
  },
  {
   "cell_type": "code",
   "execution_count": 100,
   "id": "eaea97f4",
   "metadata": {},
   "outputs": [
    {
     "data": {
      "text/plain": [
       "(torch.Size([784, 1]), tensor(-0.0147), tensor([-0.0957]))"
      ]
     },
     "execution_count": 100,
     "metadata": {},
     "output_type": "execute_result"
    }
   ],
   "source": [
    "loss.backward()\n",
    "weights.grad.shape, weights.grad.mean(), bias.grad"
   ]
  },
  {
   "cell_type": "code",
   "execution_count": 101,
   "id": "32be466c",
   "metadata": {},
   "outputs": [],
   "source": [
    "def calc_grad(xb, yb, model):\n",
    "    preds = model(xb)\n",
    "    loss = mnist_loss(preds, yb)\n",
    "    loss.backward()"
   ]
  },
  {
   "cell_type": "code",
   "execution_count": 102,
   "id": "8399f71c",
   "metadata": {},
   "outputs": [
    {
     "data": {
      "text/plain": [
       "(tensor(-0.0293), tensor([-0.1914]))"
      ]
     },
     "execution_count": 102,
     "metadata": {},
     "output_type": "execute_result"
    }
   ],
   "source": [
    "calc_grad(batch, train_y[:4], linear1)\n",
    "weights.grad.mean(), bias.grad"
   ]
  },
  {
   "cell_type": "code",
   "execution_count": 103,
   "id": "e68eb335",
   "metadata": {},
   "outputs": [
    {
     "data": {
      "text/plain": [
       "(tensor(-0.0440), tensor([-0.2870]))"
      ]
     },
     "execution_count": 103,
     "metadata": {},
     "output_type": "execute_result"
    }
   ],
   "source": [
    "calc_grad(batch, train_y[:4], linear1)\n",
    "weights.grad.mean(), bias.grad"
   ]
  },
  {
   "cell_type": "code",
   "execution_count": 104,
   "id": "f87ec136",
   "metadata": {},
   "outputs": [
    {
     "data": {
      "text/plain": [
       "tensor([0.])"
      ]
     },
     "execution_count": 104,
     "metadata": {},
     "output_type": "execute_result"
    }
   ],
   "source": [
    "weights.grad.zero_()\n",
    "bias.grad.zero_()"
   ]
  },
  {
   "cell_type": "code",
   "execution_count": 118,
   "id": "d842d7bb",
   "metadata": {},
   "outputs": [],
   "source": [
    "def train_epoch(model, lr, params):\n",
    "    for xb,yb in dl:\n",
    "        calc_grad(xb, yb, model)\n",
    "        for p in params:\n",
    "            p.data -= p.grad*lr\n",
    "            p.grad.zero_()"
   ]
  },
  {
   "cell_type": "code",
   "execution_count": 106,
   "id": "c2bfbce3",
   "metadata": {},
   "outputs": [
    {
     "data": {
      "text/plain": [
       "tensor([[False],\n",
       "        [False],\n",
       "        [ True],\n",
       "        [False]])"
      ]
     },
     "execution_count": 106,
     "metadata": {},
     "output_type": "execute_result"
    }
   ],
   "source": [
    "(preds>0.5).float() == train_y[:4]"
   ]
  },
  {
   "cell_type": "code",
   "execution_count": 107,
   "id": "ce508a22",
   "metadata": {},
   "outputs": [],
   "source": [
    "def batch_accuracy(xb, yb):\n",
    "    preds = xb.sigmoid()\n",
    "    correct = (preds>0.5) == yb\n",
    "    return correct.float().mean()"
   ]
  },
  {
   "cell_type": "code",
   "execution_count": 108,
   "id": "c4f92c5e",
   "metadata": {},
   "outputs": [],
   "source": [
    "def linear1(xb):\n",
    "    return xb@weights + bias"
   ]
  },
  {
   "cell_type": "code",
   "execution_count": 109,
   "id": "acdc508d",
   "metadata": {},
   "outputs": [
    {
     "data": {
      "text/plain": [
       "tensor(0.2500)"
      ]
     },
     "execution_count": 109,
     "metadata": {},
     "output_type": "execute_result"
    }
   ],
   "source": [
    "batch_accuracy(linear1(batch), train_y[:4])"
   ]
  },
  {
   "cell_type": "code",
   "execution_count": 114,
   "id": "cccc91c9",
   "metadata": {},
   "outputs": [],
   "source": [
    "def validate_epoch(model):\n",
    "    accs = [batch_accuracy(model(xb), yb) for xb,yb in valid_dl]\n",
    "    return round(torch.stack(accs).mean().item(), 4)"
   ]
  },
  {
   "cell_type": "code",
   "execution_count": 116,
   "id": "e1477f09",
   "metadata": {},
   "outputs": [
    {
     "data": {
      "text/plain": [
       "0.3029"
      ]
     },
     "execution_count": 116,
     "metadata": {},
     "output_type": "execute_result"
    }
   ],
   "source": [
    "validate_epoch(linear1)"
   ]
  },
  {
   "cell_type": "code",
   "execution_count": 119,
   "id": "c9768f89",
   "metadata": {},
   "outputs": [
    {
     "data": {
      "text/plain": [
       "0.4961"
      ]
     },
     "execution_count": 119,
     "metadata": {},
     "output_type": "execute_result"
    }
   ],
   "source": [
    "lr = 1.\n",
    "params = weights, bias\n",
    "train_epoch(linear1, lr, params)\n",
    "validate_epoch(linear1)"
   ]
  },
  {
   "cell_type": "code",
   "execution_count": 120,
   "id": "c43ecdaf",
   "metadata": {},
   "outputs": [
    {
     "name": "stdout",
     "output_type": "stream",
     "text": [
      "0.499 0.5715 0.6006 0.8525 0.9233 0.9414 0.9472 0.9531 0.9575 0.9609 0.9619 0.9653 0.9668 0.9702 0.9726 0.9726 0.9741 0.9746 0.9751 0.9756 "
     ]
    }
   ],
   "source": [
    "for i in range(20):\n",
    "    train_epoch(linear1, lr, params)\n",
    "    print(validate_epoch(linear1), end=' ')"
   ]
  },
  {
   "cell_type": "code",
   "execution_count": 122,
   "id": "a2943246",
   "metadata": {},
   "outputs": [],
   "source": [
    "linear_model = nn.Linear(28*28, 1)"
   ]
  },
  {
   "cell_type": "code",
   "execution_count": 123,
   "id": "fa117a41",
   "metadata": {},
   "outputs": [
    {
     "data": {
      "text/plain": [
       "(torch.Size([1, 784]), torch.Size([1]))"
      ]
     },
     "execution_count": 123,
     "metadata": {},
     "output_type": "execute_result"
    }
   ],
   "source": [
    "w, b = linear_model.parameters()\n",
    "w.shape, b.shape"
   ]
  },
  {
   "cell_type": "code",
   "execution_count": 126,
   "id": "e12a09c1",
   "metadata": {},
   "outputs": [],
   "source": [
    "class BasicOptim:\n",
    "    def __init__(self, params, lr):\n",
    "        self.params, self.lr = list(params), lr\n",
    "    def step(self, *args, **kwargs):\n",
    "        for p in self.params:\n",
    "            p.data -= p.grad.data * self.lr\n",
    "    def zero_grad(self, *args, **kwargs):\n",
    "        for p in self.params:\n",
    "            p.grad = None"
   ]
  },
  {
   "cell_type": "code",
   "execution_count": 127,
   "id": "c63284b0",
   "metadata": {},
   "outputs": [],
   "source": [
    "opt = BasicOptim(linear_model.parameters(), lr)"
   ]
  },
  {
   "cell_type": "code",
   "execution_count": 132,
   "id": "f1f94720",
   "metadata": {},
   "outputs": [],
   "source": [
    "def train_epoch(model):\n",
    "    for xb, yb in dl:\n",
    "        calc_grad(xb, yb, model)\n",
    "        opt.step()\n",
    "        opt.zero_grad()"
   ]
  },
  {
   "cell_type": "code",
   "execution_count": 129,
   "id": "d7c1c4a2",
   "metadata": {},
   "outputs": [
    {
     "data": {
      "text/plain": [
       "0.5535"
      ]
     },
     "execution_count": 129,
     "metadata": {},
     "output_type": "execute_result"
    }
   ],
   "source": [
    "validate_epoch(linear_model)    "
   ]
  },
  {
   "cell_type": "code",
   "execution_count": 133,
   "id": "97618fe2",
   "metadata": {},
   "outputs": [],
   "source": [
    "def train_model(model, epochs):\n",
    "    for i in range(epochs):\n",
    "        train_epoch(model)\n",
    "        print(validate_epoch(model), end=\" \")"
   ]
  },
  {
   "cell_type": "code",
   "execution_count": 134,
   "id": "8c6f8e7a",
   "metadata": {},
   "outputs": [
    {
     "name": "stdout",
     "output_type": "stream",
     "text": [
      "0.4932 0.814 0.8472 0.9165 0.9355 0.9497 0.957 0.9634 0.9658 0.9673 0.9697 0.9721 0.9741 0.9751 0.9756 0.977 0.9775 0.9775 0.9785 0.9785 "
     ]
    }
   ],
   "source": [
    "train_model(linear_model, 20)"
   ]
  },
  {
   "cell_type": "code",
   "execution_count": 135,
   "id": "58377527",
   "metadata": {},
   "outputs": [
    {
     "name": "stdout",
     "output_type": "stream",
     "text": [
      "0.4932 0.7144 0.8604 0.918 0.936 0.9512 0.957 0.9634 0.9663 0.9682 0.9702 0.9726 0.9746 0.9751 0.9761 0.9765 0.9775 0.978 0.978 0.979 "
     ]
    }
   ],
   "source": [
    "linear_model = nn.Linear(28*28, 1)\n",
    "opt = SGD(linear_model.parameters(), lr)\n",
    "train_model(linear_model, 20)"
   ]
  },
  {
   "cell_type": "code",
   "execution_count": 136,
   "id": "6ea7bc60",
   "metadata": {},
   "outputs": [],
   "source": [
    "dls = DataLoaders(dl, valid_dl)"
   ]
  },
  {
   "cell_type": "code",
   "execution_count": 137,
   "id": "c76b2d02",
   "metadata": {},
   "outputs": [],
   "source": [
    "learn = Learner(dls, nn.Linear(28*28, 1), opt_func=SGD, loss_func=mnist_loss, metrics = batch_accuracy)"
   ]
  },
  {
   "cell_type": "code",
   "execution_count": 138,
   "id": "10e8c138",
   "metadata": {},
   "outputs": [
    {
     "data": {
      "text/html": [
       "\n",
       "<style>\n",
       "    /* Turns off some styling */\n",
       "    progress {\n",
       "        /* gets rid of default border in Firefox and Opera. */\n",
       "        border: none;\n",
       "        /* Needs to be in here for Safari polyfill so background images work as expected. */\n",
       "        background-size: auto;\n",
       "    }\n",
       "    progress:not([value]), progress:not([value])::-webkit-progress-bar {\n",
       "        background: repeating-linear-gradient(45deg, #7e7e7e, #7e7e7e 10px, #5c5c5c 10px, #5c5c5c 20px);\n",
       "    }\n",
       "    .progress-bar-interrupted, .progress-bar-interrupted::-webkit-progress-bar {\n",
       "        background: #F44336;\n",
       "    }\n",
       "</style>\n"
      ],
      "text/plain": [
       "<IPython.core.display.HTML object>"
      ]
     },
     "metadata": {},
     "output_type": "display_data"
    },
    {
     "data": {
      "text/html": [
       "<table border=\"1\" class=\"dataframe\">\n",
       "  <thead>\n",
       "    <tr style=\"text-align: left;\">\n",
       "      <th>epoch</th>\n",
       "      <th>train_loss</th>\n",
       "      <th>valid_loss</th>\n",
       "      <th>batch_accuracy</th>\n",
       "      <th>time</th>\n",
       "    </tr>\n",
       "  </thead>\n",
       "  <tbody>\n",
       "    <tr>\n",
       "      <td>0</td>\n",
       "      <td>0.637013</td>\n",
       "      <td>0.503269</td>\n",
       "      <td>0.495584</td>\n",
       "      <td>00:00</td>\n",
       "    </tr>\n",
       "    <tr>\n",
       "      <td>1</td>\n",
       "      <td>0.459917</td>\n",
       "      <td>0.221218</td>\n",
       "      <td>0.802257</td>\n",
       "      <td>00:00</td>\n",
       "    </tr>\n",
       "    <tr>\n",
       "      <td>2</td>\n",
       "      <td>0.171154</td>\n",
       "      <td>0.169032</td>\n",
       "      <td>0.847890</td>\n",
       "      <td>00:00</td>\n",
       "    </tr>\n",
       "    <tr>\n",
       "      <td>3</td>\n",
       "      <td>0.076321</td>\n",
       "      <td>0.102888</td>\n",
       "      <td>0.915113</td>\n",
       "      <td>00:00</td>\n",
       "    </tr>\n",
       "    <tr>\n",
       "      <td>4</td>\n",
       "      <td>0.041344</td>\n",
       "      <td>0.075946</td>\n",
       "      <td>0.933759</td>\n",
       "      <td>00:00</td>\n",
       "    </tr>\n",
       "    <tr>\n",
       "      <td>5</td>\n",
       "      <td>0.027635</td>\n",
       "      <td>0.061170</td>\n",
       "      <td>0.948479</td>\n",
       "      <td>00:00</td>\n",
       "    </tr>\n",
       "    <tr>\n",
       "      <td>6</td>\n",
       "      <td>0.021963</td>\n",
       "      <td>0.051871</td>\n",
       "      <td>0.956820</td>\n",
       "      <td>00:00</td>\n",
       "    </tr>\n",
       "    <tr>\n",
       "      <td>7</td>\n",
       "      <td>0.019412</td>\n",
       "      <td>0.045663</td>\n",
       "      <td>0.963690</td>\n",
       "      <td>00:00</td>\n",
       "    </tr>\n",
       "    <tr>\n",
       "      <td>8</td>\n",
       "      <td>0.018099</td>\n",
       "      <td>0.041299</td>\n",
       "      <td>0.966143</td>\n",
       "      <td>00:00</td>\n",
       "    </tr>\n",
       "    <tr>\n",
       "      <td>9</td>\n",
       "      <td>0.017299</td>\n",
       "      <td>0.038083</td>\n",
       "      <td>0.968597</td>\n",
       "      <td>00:00</td>\n",
       "    </tr>\n",
       "  </tbody>\n",
       "</table>"
      ],
      "text/plain": [
       "<IPython.core.display.HTML object>"
      ]
     },
     "metadata": {},
     "output_type": "display_data"
    }
   ],
   "source": [
    "learn.fit(10, lr = lr)"
   ]
  },
  {
   "cell_type": "code",
   "execution_count": 139,
   "id": "8be3cadc",
   "metadata": {},
   "outputs": [],
   "source": [
    "def simple_net(xb):\n",
    "    res = xb@w1 + b1\n",
    "    res = res.max(tensor(0.0))\n",
    "    res = res@w2 + b2\n",
    "    return res"
   ]
  },
  {
   "cell_type": "code",
   "execution_count": 140,
   "id": "7c37c4ab",
   "metadata": {},
   "outputs": [],
   "source": [
    "w1 = init_params((28*28, 30))\n",
    "b1 = init_params(30)\n",
    "w2 = init_params((30, 1))\n",
    "b2 = init_params(1)"
   ]
  },
  {
   "cell_type": "code",
   "execution_count": 141,
   "id": "f91880b3",
   "metadata": {},
   "outputs": [
    {
     "data": {
      "image/png": "[encoded data removed]",
      "text/plain": [
       "<Figure size 600x400 with 1 Axes>"
      ]
     },
     "metadata": {},
     "output_type": "display_data"
    }
   ],
   "source": [
    "plot_function(F.relu)"
   ]
  },
  {
   "cell_type": "code",
   "execution_count": 142,
   "id": "fb27d018",
   "metadata": {},
   "outputs": [],
   "source": [
    "simple_net = nn.Sequential(\n",
    "nn.Linear(28*28, 30),\n",
    "nn.ReLU(),\n",
    "nn.Linear(30, 1))"
   ]
  },
  {
   "cell_type": "code",
   "execution_count": 143,
   "id": "5b432b06",
   "metadata": {},
   "outputs": [
    {
     "data": {
      "text/html": [
       "\n",
       "<style>\n",
       "    /* Turns off some styling */\n",
       "    progress {\n",
       "        /* gets rid of default border in Firefox and Opera. */\n",
       "        border: none;\n",
       "        /* Needs to be in here for Safari polyfill so background images work as expected. */\n",
       "        background-size: auto;\n",
       "    }\n",
       "    progress:not([value]), progress:not([value])::-webkit-progress-bar {\n",
       "        background: repeating-linear-gradient(45deg, #7e7e7e, #7e7e7e 10px, #5c5c5c 10px, #5c5c5c 20px);\n",
       "    }\n",
       "    .progress-bar-interrupted, .progress-bar-interrupted::-webkit-progress-bar {\n",
       "        background: #F44336;\n",
       "    }\n",
       "</style>\n"
      ],
      "text/plain": [
       "<IPython.core.display.HTML object>"
      ]
     },
     "metadata": {},
     "output_type": "display_data"
    },
    {
     "data": {
      "text/html": [
       "<table border=\"1\" class=\"dataframe\">\n",
       "  <thead>\n",
       "    <tr style=\"text-align: left;\">\n",
       "      <th>epoch</th>\n",
       "      <th>train_loss</th>\n",
       "      <th>valid_loss</th>\n",
       "      <th>batch_accuracy</th>\n",
       "      <th>time</th>\n",
       "    </tr>\n",
       "  </thead>\n",
       "  <tbody>\n",
       "    <tr>\n",
       "      <td>0</td>\n",
       "      <td>0.346986</td>\n",
       "      <td>0.400900</td>\n",
       "      <td>0.506379</td>\n",
       "      <td>00:00</td>\n",
       "    </tr>\n",
       "    <tr>\n",
       "      <td>1</td>\n",
       "      <td>0.158852</td>\n",
       "      <td>0.242067</td>\n",
       "      <td>0.786065</td>\n",
       "      <td>00:00</td>\n",
       "    </tr>\n",
       "    <tr>\n",
       "      <td>2</td>\n",
       "      <td>0.086163</td>\n",
       "      <td>0.119705</td>\n",
       "      <td>0.914622</td>\n",
       "      <td>00:00</td>\n",
       "    </tr>\n",
       "    <tr>\n",
       "      <td>3</td>\n",
       "      <td>0.055347</td>\n",
       "      <td>0.079660</td>\n",
       "      <td>0.939647</td>\n",
       "      <td>00:00</td>\n",
       "    </tr>\n",
       "    <tr>\n",
       "      <td>4</td>\n",
       "      <td>0.041230</td>\n",
       "      <td>0.061701</td>\n",
       "      <td>0.955348</td>\n",
       "      <td>00:00</td>\n",
       "    </tr>\n",
       "    <tr>\n",
       "      <td>5</td>\n",
       "      <td>0.034129</td>\n",
       "      <td>0.051723</td>\n",
       "      <td>0.962709</td>\n",
       "      <td>00:00</td>\n",
       "    </tr>\n",
       "    <tr>\n",
       "      <td>6</td>\n",
       "      <td>0.030128</td>\n",
       "      <td>0.045470</td>\n",
       "      <td>0.966143</td>\n",
       "      <td>00:00</td>\n",
       "    </tr>\n",
       "    <tr>\n",
       "      <td>7</td>\n",
       "      <td>0.027574</td>\n",
       "      <td>0.041229</td>\n",
       "      <td>0.968106</td>\n",
       "      <td>00:00</td>\n",
       "    </tr>\n",
       "    <tr>\n",
       "      <td>8</td>\n",
       "      <td>0.025767</td>\n",
       "      <td>0.038159</td>\n",
       "      <td>0.969578</td>\n",
       "      <td>00:00</td>\n",
       "    </tr>\n",
       "    <tr>\n",
       "      <td>9</td>\n",
       "      <td>0.024385</td>\n",
       "      <td>0.035827</td>\n",
       "      <td>0.970559</td>\n",
       "      <td>00:00</td>\n",
       "    </tr>\n",
       "    <tr>\n",
       "      <td>10</td>\n",
       "      <td>0.023272</td>\n",
       "      <td>0.033986</td>\n",
       "      <td>0.972031</td>\n",
       "      <td>00:00</td>\n",
       "    </tr>\n",
       "    <tr>\n",
       "      <td>11</td>\n",
       "      <td>0.022347</td>\n",
       "      <td>0.032484</td>\n",
       "      <td>0.972522</td>\n",
       "      <td>00:00</td>\n",
       "    </tr>\n",
       "    <tr>\n",
       "      <td>12</td>\n",
       "      <td>0.021563</td>\n",
       "      <td>0.031223</td>\n",
       "      <td>0.973503</td>\n",
       "      <td>00:00</td>\n",
       "    </tr>\n",
       "    <tr>\n",
       "      <td>13</td>\n",
       "      <td>0.020884</td>\n",
       "      <td>0.030144</td>\n",
       "      <td>0.975466</td>\n",
       "      <td>00:00</td>\n",
       "    </tr>\n",
       "    <tr>\n",
       "      <td>14</td>\n",
       "      <td>0.020290</td>\n",
       "      <td>0.029205</td>\n",
       "      <td>0.974975</td>\n",
       "      <td>00:00</td>\n",
       "    </tr>\n",
       "    <tr>\n",
       "      <td>15</td>\n",
       "      <td>0.019764</td>\n",
       "      <td>0.028377</td>\n",
       "      <td>0.976448</td>\n",
       "      <td>00:00</td>\n",
       "    </tr>\n",
       "    <tr>\n",
       "      <td>16</td>\n",
       "      <td>0.019293</td>\n",
       "      <td>0.027640</td>\n",
       "      <td>0.976448</td>\n",
       "      <td>00:00</td>\n",
       "    </tr>\n",
       "    <tr>\n",
       "      <td>17</td>\n",
       "      <td>0.018868</td>\n",
       "      <td>0.026980</td>\n",
       "      <td>0.977429</td>\n",
       "      <td>00:00</td>\n",
       "    </tr>\n",
       "    <tr>\n",
       "      <td>18</td>\n",
       "      <td>0.018482</td>\n",
       "      <td>0.026384</td>\n",
       "      <td>0.977429</td>\n",
       "      <td>00:00</td>\n",
       "    </tr>\n",
       "    <tr>\n",
       "      <td>19</td>\n",
       "      <td>0.018129</td>\n",
       "      <td>0.025843</td>\n",
       "      <td>0.978901</td>\n",
       "      <td>00:00</td>\n",
       "    </tr>\n",
       "    <tr>\n",
       "      <td>20</td>\n",
       "      <td>0.017805</td>\n",
       "      <td>0.025351</td>\n",
       "      <td>0.978901</td>\n",
       "      <td>00:00</td>\n",
       "    </tr>\n",
       "    <tr>\n",
       "      <td>21</td>\n",
       "      <td>0.017504</td>\n",
       "      <td>0.024900</td>\n",
       "      <td>0.978901</td>\n",
       "      <td>00:00</td>\n",
       "    </tr>\n",
       "    <tr>\n",
       "      <td>22</td>\n",
       "      <td>0.017225</td>\n",
       "      <td>0.024486</td>\n",
       "      <td>0.979392</td>\n",
       "      <td>00:00</td>\n",
       "    </tr>\n",
       "    <tr>\n",
       "      <td>23</td>\n",
       "      <td>0.016964</td>\n",
       "      <td>0.024105</td>\n",
       "      <td>0.979882</td>\n",
       "      <td>00:00</td>\n",
       "    </tr>\n",
       "    <tr>\n",
       "      <td>24</td>\n",
       "      <td>0.016720</td>\n",
       "      <td>0.023752</td>\n",
       "      <td>0.980373</td>\n",
       "      <td>00:00</td>\n",
       "    </tr>\n",
       "    <tr>\n",
       "      <td>25</td>\n",
       "      <td>0.016490</td>\n",
       "      <td>0.023425</td>\n",
       "      <td>0.980373</td>\n",
       "      <td>00:00</td>\n",
       "    </tr>\n",
       "    <tr>\n",
       "      <td>26</td>\n",
       "      <td>0.016273</td>\n",
       "      <td>0.023121</td>\n",
       "      <td>0.980373</td>\n",
       "      <td>00:00</td>\n",
       "    </tr>\n",
       "    <tr>\n",
       "      <td>27</td>\n",
       "      <td>0.016068</td>\n",
       "      <td>0.022838</td>\n",
       "      <td>0.981354</td>\n",
       "      <td>00:00</td>\n",
       "    </tr>\n",
       "    <tr>\n",
       "      <td>28</td>\n",
       "      <td>0.015873</td>\n",
       "      <td>0.022574</td>\n",
       "      <td>0.981845</td>\n",
       "      <td>00:00</td>\n",
       "    </tr>\n",
       "    <tr>\n",
       "      <td>29</td>\n",
       "      <td>0.015688</td>\n",
       "      <td>0.022327</td>\n",
       "      <td>0.981845</td>\n",
       "      <td>00:00</td>\n",
       "    </tr>\n",
       "    <tr>\n",
       "      <td>30</td>\n",
       "      <td>0.015512</td>\n",
       "      <td>0.022096</td>\n",
       "      <td>0.982336</td>\n",
       "      <td>00:00</td>\n",
       "    </tr>\n",
       "    <tr>\n",
       "      <td>31</td>\n",
       "      <td>0.015344</td>\n",
       "      <td>0.021880</td>\n",
       "      <td>0.981845</td>\n",
       "      <td>00:00</td>\n",
       "    </tr>\n",
       "    <tr>\n",
       "      <td>32</td>\n",
       "      <td>0.015184</td>\n",
       "      <td>0.021677</td>\n",
       "      <td>0.982826</td>\n",
       "      <td>00:00</td>\n",
       "    </tr>\n",
       "    <tr>\n",
       "      <td>33</td>\n",
       "      <td>0.015031</td>\n",
       "      <td>0.021486</td>\n",
       "      <td>0.982826</td>\n",
       "      <td>00:00</td>\n",
       "    </tr>\n",
       "    <tr>\n",
       "      <td>34</td>\n",
       "      <td>0.014884</td>\n",
       "      <td>0.021306</td>\n",
       "      <td>0.982826</td>\n",
       "      <td>00:00</td>\n",
       "    </tr>\n",
       "    <tr>\n",
       "      <td>35</td>\n",
       "      <td>0.014743</td>\n",
       "      <td>0.021136</td>\n",
       "      <td>0.982826</td>\n",
       "      <td>00:00</td>\n",
       "    </tr>\n",
       "    <tr>\n",
       "      <td>36</td>\n",
       "      <td>0.014608</td>\n",
       "      <td>0.020976</td>\n",
       "      <td>0.982826</td>\n",
       "      <td>00:00</td>\n",
       "    </tr>\n",
       "    <tr>\n",
       "      <td>37</td>\n",
       "      <td>0.014478</td>\n",
       "      <td>0.020824</td>\n",
       "      <td>0.982826</td>\n",
       "      <td>00:00</td>\n",
       "    </tr>\n",
       "    <tr>\n",
       "      <td>38</td>\n",
       "      <td>0.014352</td>\n",
       "      <td>0.020681</td>\n",
       "      <td>0.982826</td>\n",
       "      <td>00:00</td>\n",
       "    </tr>\n",
       "    <tr>\n",
       "      <td>39</td>\n",
       "      <td>0.014231</td>\n",
       "      <td>0.020545</td>\n",
       "      <td>0.982826</td>\n",
       "      <td>00:00</td>\n",
       "    </tr>\n",
       "  </tbody>\n",
       "</table>"
      ],
      "text/plain": [
       "<IPython.core.display.HTML object>"
      ]
     },
     "metadata": {},
     "output_type": "display_data"
    }
   ],
   "source": [
    "learn = Learner(dls, simple_net, opt_func = SGD, loss_func = mnist_loss, metrics = batch_accuracy)\n",
    "learn.fit(40, 0.1)"
   ]
  },
  {
   "cell_type": "code",
   "execution_count": 144,
   "id": "c489737d",
   "metadata": {},
   "outputs": [
    {
     "data": {
      "text/plain": [
       "[<matplotlib.lines.Line2D at 0x20727672830>]"
      ]
     },
     "execution_count": 144,
     "metadata": {},
     "output_type": "execute_result"
    },
    {
     "data": {
      "image/png": "[encoded data removed]",
      "text/plain": [
       "<Figure size 640x480 with 1 Axes>"
      ]
     },
     "metadata": {},
     "output_type": "display_data"
    }
   ],
   "source": [
    "plt.plot(L(learn.recorder.values).itemgot(2))"
   ]
  },
  {
   "cell_type": "code",
   "execution_count": 145,
   "id": "ee95086b",
   "metadata": {},
   "outputs": [
    {
     "data": {
      "text/plain": [
       "0.982826292514801"
      ]
     },
     "execution_count": 145,
     "metadata": {},
     "output_type": "execute_result"
    }
   ],
   "source": [
    "learn.recorder.values[-1][2]"
   ]
  },
  {
   "cell_type": "code",
   "execution_count": 146,
   "id": "67b24a0a",
   "metadata": {},
   "outputs": [
    {
     "name": "stderr",
     "output_type": "stream",
     "text": [
      "C:\\Users\\YES\\anaconda3\\lib\\site-packages\\fastai\\vision\\learner.py:288: UserWarning: `cnn_learner` has been renamed to `vision_learner` -- please update your code\n",
      "  warn(\"`cnn_learner` has been renamed to `vision_learner` -- please update your code\")\n",
      "C:\\Users\\YES\\anaconda3\\lib\\site-packages\\torchvision\\models\\_utils.py:208: UserWarning: The parameter 'pretrained' is deprecated since 0.13 and may be removed in the future, please use 'weights' instead.\n",
      "  warnings.warn(\n",
      "C:\\Users\\YES\\anaconda3\\lib\\site-packages\\torchvision\\models\\_utils.py:223: UserWarning: Arguments other than a weight enum or `None` for 'weights' are deprecated since 0.13 and may be removed in the future. The current behavior is equivalent to passing `weights=None`.\n",
      "  warnings.warn(msg)\n"
     ]
    },
    {
     "data": {
      "text/html": [
       "\n",
       "<style>\n",
       "    /* Turns off some styling */\n",
       "    progress {\n",
       "        /* gets rid of default border in Firefox and Opera. */\n",
       "        border: none;\n",
       "        /* Needs to be in here for Safari polyfill so background images work as expected. */\n",
       "        background-size: auto;\n",
       "    }\n",
       "    progress:not([value]), progress:not([value])::-webkit-progress-bar {\n",
       "        background: repeating-linear-gradient(45deg, #7e7e7e, #7e7e7e 10px, #5c5c5c 10px, #5c5c5c 20px);\n",
       "    }\n",
       "    .progress-bar-interrupted, .progress-bar-interrupted::-webkit-progress-bar {\n",
       "        background: #F44336;\n",
       "    }\n",
       "</style>\n"
      ],
      "text/plain": [
       "<IPython.core.display.HTML object>"
      ]
     },
     "metadata": {},
     "output_type": "display_data"
    },
    {
     "data": {
      "text/html": [
       "<table border=\"1\" class=\"dataframe\">\n",
       "  <thead>\n",
       "    <tr style=\"text-align: left;\">\n",
       "      <th>epoch</th>\n",
       "      <th>train_loss</th>\n",
       "      <th>valid_loss</th>\n",
       "      <th>accuracy</th>\n",
       "      <th>time</th>\n",
       "    </tr>\n",
       "  </thead>\n",
       "  <tbody>\n",
       "    <tr>\n",
       "      <td>0</td>\n",
       "      <td>0.133116</td>\n",
       "      <td>0.014236</td>\n",
       "      <td>0.997547</td>\n",
       "      <td>00:52</td>\n",
       "    </tr>\n",
       "  </tbody>\n",
       "</table>"
      ],
      "text/plain": [
       "<IPython.core.display.HTML object>"
      ]
     },
     "metadata": {},
     "output_type": "display_data"
    }
   ],
   "source": [
    "dls = ImageDataLoaders.from_folder(path)\n",
    "learn = vision_learner(dls, resnet18, pretrained = False,\n",
    "                   loss_func=F.cross_entropy, metrics = accuracy)\n",
    "learn.fit_one_cycle(1, 0.1)"
   ]
  },
  {
   "cell_type": "code",
   "execution_count": null,
   "id": "b985628e",
   "metadata": {},
   "outputs": [],
   "source": []
  }
 ],
 "metadata": {
  "kernelspec": {
   "display_name": "Python 3 (ipykernel)",
   "language": "python",
   "name": "python3"
  },
  "language_info": {
   "codemirror_mode": {
    "name": "ipython",
    "version": 3
   },
   "file_extension": ".py",
   "mimetype": "text/x-python",
   "name": "python",
   "nbconvert_exporter": "python",
   "pygments_lexer": "ipython3",
   "version": "3.10.9"
  }
 },
 "nbformat": 4,
 "nbformat_minor": 5
}
