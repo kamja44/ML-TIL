{
 "cells": [
  {
   "cell_type": "code",
   "execution_count": 1,
   "id": "8d6b9722",
   "metadata": {},
   "outputs": [],
   "source": [
    "from fastai.vision.all import *"
   ]
  },
  {
   "cell_type": "code",
   "execution_count": 2,
   "id": "71d10679",
   "metadata": {},
   "outputs": [
    {
     "data": {
      "text/html": [
       "\n",
       "<style>\n",
       "    /* Turns off some styling */\n",
       "    progress {\n",
       "        /* gets rid of default border in Firefox and Opera. */\n",
       "        border: none;\n",
       "        /* Needs to be in here for Safari polyfill so background images work as expected. */\n",
       "        background-size: auto;\n",
       "    }\n",
       "    progress:not([value]), progress:not([value])::-webkit-progress-bar {\n",
       "        background: repeating-linear-gradient(45deg, #7e7e7e, #7e7e7e 10px, #5c5c5c 10px, #5c5c5c 20px);\n",
       "    }\n",
       "    .progress-bar-interrupted, .progress-bar-interrupted::-webkit-progress-bar {\n",
       "        background: #F44336;\n",
       "    }\n",
       "</style>\n"
      ],
      "text/plain": [
       "<IPython.core.display.HTML object>"
      ]
     },
     "metadata": {},
     "output_type": "display_data"
    },
    {
     "data": {
      "text/html": [
       "\n",
       "    <div>\n",
       "      <progress value='3219456' class='' max='3214948' style='width:300px; height:20px; vertical-align: middle;'></progress>\n",
       "      100.14% [3219456/3214948 00:08&lt;00:00]\n",
       "    </div>\n",
       "    "
      ],
      "text/plain": [
       "<IPython.core.display.HTML object>"
      ]
     },
     "metadata": {},
     "output_type": "display_data"
    }
   ],
   "source": [
    "path = untar_data(URLs.MNIST_SAMPLE)"
   ]
  },
  {
   "cell_type": "code",
   "execution_count": 4,
   "id": "99713468",
   "metadata": {},
   "outputs": [
    {
     "data": {
      "text/plain": [
       "(#3) [Path('C:/Users/YES/.fastai/data/mnist_sample/labels.csv'),Path('C:/Users/YES/.fastai/data/mnist_sample/train'),Path('C:/Users/YES/.fastai/data/mnist_sample/valid')]"
      ]
     },
     "execution_count": 4,
     "metadata": {},
     "output_type": "execute_result"
    }
   ],
   "source": [
    "path.ls()"
   ]
  },
  {
   "cell_type": "code",
   "execution_count": 5,
   "id": "bc4c8a0b",
   "metadata": {},
   "outputs": [
    {
     "data": {
      "text/plain": [
       "(#2) [Path('C:/Users/YES/.fastai/data/mnist_sample/train/3'),Path('C:/Users/YES/.fastai/data/mnist_sample/train/7')]"
      ]
     },
     "execution_count": 5,
     "metadata": {},
     "output_type": "execute_result"
    }
   ],
   "source": [
    "(path/\"train\").ls()"
   ]
  },
  {
   "cell_type": "code",
   "execution_count": 6,
   "id": "091577a3",
   "metadata": {},
   "outputs": [],
   "source": [
    "threes = (path/\"train\"/\"3\").ls().sorted()"
   ]
  },
  {
   "cell_type": "code",
   "execution_count": 7,
   "id": "d73c209e",
   "metadata": {},
   "outputs": [],
   "source": [
    "sevens = (path/\"train\"/\"7\").ls().sorted()"
   ]
  },
  {
   "cell_type": "code",
   "execution_count": 9,
   "id": "97d700d7",
   "metadata": {},
   "outputs": [
    {
     "data": {
      "text/plain": [
       "(#6131) [Path('C:/Users/YES/.fastai/data/mnist_sample/train/3/10.png'),Path('C:/Users/YES/.fastai/data/mnist_sample/train/3/10000.png'),Path('C:/Users/YES/.fastai/data/mnist_sample/train/3/10011.png'),Path('C:/Users/YES/.fastai/data/mnist_sample/train/3/10031.png'),Path('C:/Users/YES/.fastai/data/mnist_sample/train/3/10034.png'),Path('C:/Users/YES/.fastai/data/mnist_sample/train/3/10042.png'),Path('C:/Users/YES/.fastai/data/mnist_sample/train/3/10052.png'),Path('C:/Users/YES/.fastai/data/mnist_sample/train/3/1007.png'),Path('C:/Users/YES/.fastai/data/mnist_sample/train/3/10074.png'),Path('C:/Users/YES/.fastai/data/mnist_sample/train/3/10091.png')...]"
      ]
     },
     "execution_count": 9,
     "metadata": {},
     "output_type": "execute_result"
    }
   ],
   "source": [
    "threes"
   ]
  },
  {
   "cell_type": "code",
   "execution_count": 10,
   "id": "a07548b8",
   "metadata": {},
   "outputs": [
    {
     "data": {
      "image/png": "[encoded data removed]",
      "text/plain": [
       "<PIL.PngImagePlugin.PngImageFile image mode=L size=28x28>"
      ]
     },
     "execution_count": 10,
     "metadata": {},
     "output_type": "execute_result"
    }
   ],
   "source": [
    "im3_path = threes[1]\n",
    "im3 = Image.open(im3_path)\n",
    "im3"
   ]
  },
  {
   "cell_type": "code",
   "execution_count": 11,
   "id": "26c61afc",
   "metadata": {},
   "outputs": [
    {
     "data": {
      "text/plain": [
       "array([[  0,   0,   0,   0,   0,   0],\n",
       "       [  0,   0,   0,   0,   0,  29],\n",
       "       [  0,   0,   0,  48, 166, 224],\n",
       "       [  0,  93, 244, 249, 253, 187],\n",
       "       [  0, 107, 253, 253, 230,  48],\n",
       "       [  0,   3,  20,  20,  15,   0]], dtype=uint8)"
      ]
     },
     "execution_count": 11,
     "metadata": {},
     "output_type": "execute_result"
    }
   ],
   "source": [
    "array(im3)[4:10, 4:10] # numpy"
   ]
  },
  {
   "cell_type": "code",
   "execution_count": 12,
   "id": "4c402658",
   "metadata": {},
   "outputs": [
    {
     "data": {
      "text/plain": [
       "tensor([[  0,   0,   0,   0,   0,   0],\n",
       "        [  0,   0,   0,   0,   0,  29],\n",
       "        [  0,   0,   0,  48, 166, 224],\n",
       "        [  0,  93, 244, 249, 253, 187],\n",
       "        [  0, 107, 253, 253, 230,  48],\n",
       "        [  0,   3,  20,  20,  15,   0]], dtype=torch.uint8)"
      ]
     },
     "execution_count": 12,
     "metadata": {},
     "output_type": "execute_result"
    }
   ],
   "source": [
    "tensor(im3)[4:10, 4:10] # tensor"
   ]
  },
  {
   "cell_type": "code",
   "execution_count": 13,
   "id": "0de980f0",
   "metadata": {},
   "outputs": [
    {
     "data": {
      "text/html": [
       "<style type=\"text/css\">\n",
       "#T_2530d_row0_col0, #T_2530d_row0_col1, #T_2530d_row0_col2, #T_2530d_row0_col3, #T_2530d_row0_col4, #T_2530d_row0_col5, #T_2530d_row0_col6, #T_2530d_row0_col7, #T_2530d_row0_col8, #T_2530d_row0_col9, #T_2530d_row0_col10, #T_2530d_row0_col11, #T_2530d_row0_col12, #T_2530d_row0_col13, #T_2530d_row0_col14, #T_2530d_row0_col15, #T_2530d_row0_col16, #T_2530d_row0_col17, #T_2530d_row1_col0, #T_2530d_row1_col1, #T_2530d_row1_col2, #T_2530d_row1_col3, #T_2530d_row1_col4, #T_2530d_row1_col15, #T_2530d_row1_col16, #T_2530d_row1_col17, #T_2530d_row2_col0, #T_2530d_row2_col1, #T_2530d_row2_col2, #T_2530d_row2_col15, #T_2530d_row2_col16, #T_2530d_row2_col17, #T_2530d_row3_col0, #T_2530d_row3_col15, #T_2530d_row3_col16, #T_2530d_row3_col17, #T_2530d_row4_col0, #T_2530d_row4_col6, #T_2530d_row4_col7, #T_2530d_row4_col8, #T_2530d_row4_col9, #T_2530d_row4_col10, #T_2530d_row4_col15, #T_2530d_row4_col16, #T_2530d_row4_col17, #T_2530d_row5_col0, #T_2530d_row5_col5, #T_2530d_row5_col6, #T_2530d_row5_col7, #T_2530d_row5_col8, #T_2530d_row5_col9, #T_2530d_row5_col15, #T_2530d_row5_col16, #T_2530d_row5_col17, #T_2530d_row6_col0, #T_2530d_row6_col1, #T_2530d_row6_col2, #T_2530d_row6_col3, #T_2530d_row6_col4, #T_2530d_row6_col5, #T_2530d_row6_col6, #T_2530d_row6_col7, #T_2530d_row6_col8, #T_2530d_row6_col9, #T_2530d_row6_col14, #T_2530d_row6_col15, #T_2530d_row6_col16, #T_2530d_row6_col17, #T_2530d_row7_col0, #T_2530d_row7_col1, #T_2530d_row7_col2, #T_2530d_row7_col3, #T_2530d_row7_col4, #T_2530d_row7_col5, #T_2530d_row7_col6, #T_2530d_row7_col13, #T_2530d_row7_col14, #T_2530d_row7_col15, #T_2530d_row7_col16, #T_2530d_row7_col17, #T_2530d_row8_col0, #T_2530d_row8_col1, #T_2530d_row8_col2, #T_2530d_row8_col3, #T_2530d_row8_col4, #T_2530d_row8_col13, #T_2530d_row8_col14, #T_2530d_row8_col15, #T_2530d_row8_col16, #T_2530d_row8_col17, #T_2530d_row9_col0, #T_2530d_row9_col1, #T_2530d_row9_col2, #T_2530d_row9_col3, #T_2530d_row9_col4, #T_2530d_row9_col16, #T_2530d_row9_col17, #T_2530d_row10_col0, #T_2530d_row10_col1, #T_2530d_row10_col2, #T_2530d_row10_col3, #T_2530d_row10_col4, #T_2530d_row10_col5, #T_2530d_row10_col6, #T_2530d_row10_col17 {\n",
       "  font-size: 6pt;\n",
       "  background-color: #ffffff;\n",
       "  color: #000000;\n",
       "}\n",
       "#T_2530d_row1_col5 {\n",
       "  font-size: 6pt;\n",
       "  background-color: #efefef;\n",
       "  color: #000000;\n",
       "}\n",
       "#T_2530d_row1_col6, #T_2530d_row1_col13 {\n",
       "  font-size: 6pt;\n",
       "  background-color: #7c7c7c;\n",
       "  color: #f1f1f1;\n",
       "}\n",
       "#T_2530d_row1_col7 {\n",
       "  font-size: 6pt;\n",
       "  background-color: #4a4a4a;\n",
       "  color: #f1f1f1;\n",
       "}\n",
       "#T_2530d_row1_col8, #T_2530d_row1_col9, #T_2530d_row1_col10, #T_2530d_row2_col5, #T_2530d_row2_col6, #T_2530d_row2_col7, #T_2530d_row2_col11, #T_2530d_row2_col12, #T_2530d_row2_col13, #T_2530d_row3_col4, #T_2530d_row3_col12, #T_2530d_row3_col13, #T_2530d_row4_col1, #T_2530d_row4_col2, #T_2530d_row4_col3, #T_2530d_row4_col12, #T_2530d_row4_col13, #T_2530d_row5_col12, #T_2530d_row6_col11, #T_2530d_row9_col11, #T_2530d_row10_col11, #T_2530d_row10_col12, #T_2530d_row10_col13, #T_2530d_row10_col14, #T_2530d_row10_col15, #T_2530d_row10_col16 {\n",
       "  font-size: 6pt;\n",
       "  background-color: #000000;\n",
       "  color: #f1f1f1;\n",
       "}\n",
       "#T_2530d_row1_col11 {\n",
       "  font-size: 6pt;\n",
       "  background-color: #606060;\n",
       "  color: #f1f1f1;\n",
       "}\n",
       "#T_2530d_row1_col12 {\n",
       "  font-size: 6pt;\n",
       "  background-color: #4d4d4d;\n",
       "  color: #f1f1f1;\n",
       "}\n",
       "#T_2530d_row1_col14 {\n",
       "  font-size: 6pt;\n",
       "  background-color: #bbbbbb;\n",
       "  color: #000000;\n",
       "}\n",
       "#T_2530d_row2_col3 {\n",
       "  font-size: 6pt;\n",
       "  background-color: #e4e4e4;\n",
       "  color: #000000;\n",
       "}\n",
       "#T_2530d_row2_col4, #T_2530d_row8_col6 {\n",
       "  font-size: 6pt;\n",
       "  background-color: #6b6b6b;\n",
       "  color: #f1f1f1;\n",
       "}\n",
       "#T_2530d_row2_col8, #T_2530d_row2_col14, #T_2530d_row3_col14 {\n",
       "  font-size: 6pt;\n",
       "  background-color: #171717;\n",
       "  color: #f1f1f1;\n",
       "}\n",
       "#T_2530d_row2_col9, #T_2530d_row3_col11 {\n",
       "  font-size: 6pt;\n",
       "  background-color: #4b4b4b;\n",
       "  color: #f1f1f1;\n",
       "}\n",
       "#T_2530d_row2_col10, #T_2530d_row7_col10, #T_2530d_row8_col8, #T_2530d_row8_col10, #T_2530d_row9_col8, #T_2530d_row9_col10 {\n",
       "  font-size: 6pt;\n",
       "  background-color: #010101;\n",
       "  color: #f1f1f1;\n",
       "}\n",
       "#T_2530d_row3_col1 {\n",
       "  font-size: 6pt;\n",
       "  background-color: #272727;\n",
       "  color: #f1f1f1;\n",
       "}\n",
       "#T_2530d_row3_col2 {\n",
       "  font-size: 6pt;\n",
       "  background-color: #0a0a0a;\n",
       "  color: #f1f1f1;\n",
       "}\n",
       "#T_2530d_row3_col3 {\n",
       "  font-size: 6pt;\n",
       "  background-color: #050505;\n",
       "  color: #f1f1f1;\n",
       "}\n",
       "#T_2530d_row3_col5 {\n",
       "  font-size: 6pt;\n",
       "  background-color: #333333;\n",
       "  color: #f1f1f1;\n",
       "}\n",
       "#T_2530d_row3_col6 {\n",
       "  font-size: 6pt;\n",
       "  background-color: #e6e6e6;\n",
       "  color: #000000;\n",
       "}\n",
       "#T_2530d_row3_col7, #T_2530d_row3_col10 {\n",
       "  font-size: 6pt;\n",
       "  background-color: #fafafa;\n",
       "  color: #000000;\n",
       "}\n",
       "#T_2530d_row3_col8 {\n",
       "  font-size: 6pt;\n",
       "  background-color: #fbfbfb;\n",
       "  color: #000000;\n",
       "}\n",
       "#T_2530d_row3_col9 {\n",
       "  font-size: 6pt;\n",
       "  background-color: #fdfdfd;\n",
       "  color: #000000;\n",
       "}\n",
       "#T_2530d_row4_col4 {\n",
       "  font-size: 6pt;\n",
       "  background-color: #1b1b1b;\n",
       "  color: #f1f1f1;\n",
       "}\n",
       "#T_2530d_row4_col5 {\n",
       "  font-size: 6pt;\n",
       "  background-color: #e0e0e0;\n",
       "  color: #000000;\n",
       "}\n",
       "#T_2530d_row4_col11 {\n",
       "  font-size: 6pt;\n",
       "  background-color: #4e4e4e;\n",
       "  color: #f1f1f1;\n",
       "}\n",
       "#T_2530d_row4_col14 {\n",
       "  font-size: 6pt;\n",
       "  background-color: #767676;\n",
       "  color: #f1f1f1;\n",
       "}\n",
       "#T_2530d_row5_col1 {\n",
       "  font-size: 6pt;\n",
       "  background-color: #fcfcfc;\n",
       "  color: #000000;\n",
       "}\n",
       "#T_2530d_row5_col2, #T_2530d_row5_col3 {\n",
       "  font-size: 6pt;\n",
       "  background-color: #f6f6f6;\n",
       "  color: #000000;\n",
       "}\n",
       "#T_2530d_row5_col4, #T_2530d_row7_col7 {\n",
       "  font-size: 6pt;\n",
       "  background-color: #f8f8f8;\n",
       "  color: #000000;\n",
       "}\n",
       "#T_2530d_row5_col10, #T_2530d_row10_col7 {\n",
       "  font-size: 6pt;\n",
       "  background-color: #e8e8e8;\n",
       "  color: #000000;\n",
       "}\n",
       "#T_2530d_row5_col11 {\n",
       "  font-size: 6pt;\n",
       "  background-color: #222222;\n",
       "  color: #f1f1f1;\n",
       "}\n",
       "#T_2530d_row5_col13, #T_2530d_row6_col12 {\n",
       "  font-size: 6pt;\n",
       "  background-color: #090909;\n",
       "  color: #f1f1f1;\n",
       "}\n",
       "#T_2530d_row5_col14 {\n",
       "  font-size: 6pt;\n",
       "  background-color: #d0d0d0;\n",
       "  color: #000000;\n",
       "}\n",
       "#T_2530d_row6_col10, #T_2530d_row7_col11, #T_2530d_row9_col6 {\n",
       "  font-size: 6pt;\n",
       "  background-color: #060606;\n",
       "  color: #f1f1f1;\n",
       "}\n",
       "#T_2530d_row6_col13 {\n",
       "  font-size: 6pt;\n",
       "  background-color: #979797;\n",
       "  color: #f1f1f1;\n",
       "}\n",
       "#T_2530d_row7_col8 {\n",
       "  font-size: 6pt;\n",
       "  background-color: #b6b6b6;\n",
       "  color: #000000;\n",
       "}\n",
       "#T_2530d_row7_col9 {\n",
       "  font-size: 6pt;\n",
       "  background-color: #252525;\n",
       "  color: #f1f1f1;\n",
       "}\n",
       "#T_2530d_row7_col12 {\n",
       "  font-size: 6pt;\n",
       "  background-color: #999999;\n",
       "  color: #f1f1f1;\n",
       "}\n",
       "#T_2530d_row8_col5 {\n",
       "  font-size: 6pt;\n",
       "  background-color: #f9f9f9;\n",
       "  color: #000000;\n",
       "}\n",
       "#T_2530d_row8_col7 {\n",
       "  font-size: 6pt;\n",
       "  background-color: #101010;\n",
       "  color: #f1f1f1;\n",
       "}\n",
       "#T_2530d_row8_col9, #T_2530d_row9_col9 {\n",
       "  font-size: 6pt;\n",
       "  background-color: #020202;\n",
       "  color: #f1f1f1;\n",
       "}\n",
       "#T_2530d_row8_col11 {\n",
       "  font-size: 6pt;\n",
       "  background-color: #545454;\n",
       "  color: #f1f1f1;\n",
       "}\n",
       "#T_2530d_row8_col12 {\n",
       "  font-size: 6pt;\n",
       "  background-color: #f1f1f1;\n",
       "  color: #000000;\n",
       "}\n",
       "#T_2530d_row9_col5 {\n",
       "  font-size: 6pt;\n",
       "  background-color: #f7f7f7;\n",
       "  color: #000000;\n",
       "}\n",
       "#T_2530d_row9_col7 {\n",
       "  font-size: 6pt;\n",
       "  background-color: #030303;\n",
       "  color: #f1f1f1;\n",
       "}\n",
       "#T_2530d_row9_col12 {\n",
       "  font-size: 6pt;\n",
       "  background-color: #181818;\n",
       "  color: #f1f1f1;\n",
       "}\n",
       "#T_2530d_row9_col13 {\n",
       "  font-size: 6pt;\n",
       "  background-color: #303030;\n",
       "  color: #f1f1f1;\n",
       "}\n",
       "#T_2530d_row9_col14 {\n",
       "  font-size: 6pt;\n",
       "  background-color: #a9a9a9;\n",
       "  color: #f1f1f1;\n",
       "}\n",
       "#T_2530d_row9_col15 {\n",
       "  font-size: 6pt;\n",
       "  background-color: #fefefe;\n",
       "  color: #000000;\n",
       "}\n",
       "#T_2530d_row10_col8, #T_2530d_row10_col9 {\n",
       "  font-size: 6pt;\n",
       "  background-color: #bababa;\n",
       "  color: #000000;\n",
       "}\n",
       "#T_2530d_row10_col10 {\n",
       "  font-size: 6pt;\n",
       "  background-color: #393939;\n",
       "  color: #f1f1f1;\n",
       "}\n",
       "</style>\n",
       "<table id=\"T_2530d\">\n",
       "  <thead>\n",
       "    <tr>\n",
       "      <th class=\"blank level0\" >&nbsp;</th>\n",
       "      <th id=\"T_2530d_level0_col0\" class=\"col_heading level0 col0\" >0</th>\n",
       "      <th id=\"T_2530d_level0_col1\" class=\"col_heading level0 col1\" >1</th>\n",
       "      <th id=\"T_2530d_level0_col2\" class=\"col_heading level0 col2\" >2</th>\n",
       "      <th id=\"T_2530d_level0_col3\" class=\"col_heading level0 col3\" >3</th>\n",
       "      <th id=\"T_2530d_level0_col4\" class=\"col_heading level0 col4\" >4</th>\n",
       "      <th id=\"T_2530d_level0_col5\" class=\"col_heading level0 col5\" >5</th>\n",
       "      <th id=\"T_2530d_level0_col6\" class=\"col_heading level0 col6\" >6</th>\n",
       "      <th id=\"T_2530d_level0_col7\" class=\"col_heading level0 col7\" >7</th>\n",
       "      <th id=\"T_2530d_level0_col8\" class=\"col_heading level0 col8\" >8</th>\n",
       "      <th id=\"T_2530d_level0_col9\" class=\"col_heading level0 col9\" >9</th>\n",
       "      <th id=\"T_2530d_level0_col10\" class=\"col_heading level0 col10\" >10</th>\n",
       "      <th id=\"T_2530d_level0_col11\" class=\"col_heading level0 col11\" >11</th>\n",
       "      <th id=\"T_2530d_level0_col12\" class=\"col_heading level0 col12\" >12</th>\n",
       "      <th id=\"T_2530d_level0_col13\" class=\"col_heading level0 col13\" >13</th>\n",
       "      <th id=\"T_2530d_level0_col14\" class=\"col_heading level0 col14\" >14</th>\n",
       "      <th id=\"T_2530d_level0_col15\" class=\"col_heading level0 col15\" >15</th>\n",
       "      <th id=\"T_2530d_level0_col16\" class=\"col_heading level0 col16\" >16</th>\n",
       "      <th id=\"T_2530d_level0_col17\" class=\"col_heading level0 col17\" >17</th>\n",
       "    </tr>\n",
       "  </thead>\n",
       "  <tbody>\n",
       "    <tr>\n",
       "      <th id=\"T_2530d_level0_row0\" class=\"row_heading level0 row0\" >0</th>\n",
       "      <td id=\"T_2530d_row0_col0\" class=\"data row0 col0\" >0</td>\n",
       "      <td id=\"T_2530d_row0_col1\" class=\"data row0 col1\" >0</td>\n",
       "      <td id=\"T_2530d_row0_col2\" class=\"data row0 col2\" >0</td>\n",
       "      <td id=\"T_2530d_row0_col3\" class=\"data row0 col3\" >0</td>\n",
       "      <td id=\"T_2530d_row0_col4\" class=\"data row0 col4\" >0</td>\n",
       "      <td id=\"T_2530d_row0_col5\" class=\"data row0 col5\" >0</td>\n",
       "      <td id=\"T_2530d_row0_col6\" class=\"data row0 col6\" >0</td>\n",
       "      <td id=\"T_2530d_row0_col7\" class=\"data row0 col7\" >0</td>\n",
       "      <td id=\"T_2530d_row0_col8\" class=\"data row0 col8\" >0</td>\n",
       "      <td id=\"T_2530d_row0_col9\" class=\"data row0 col9\" >0</td>\n",
       "      <td id=\"T_2530d_row0_col10\" class=\"data row0 col10\" >0</td>\n",
       "      <td id=\"T_2530d_row0_col11\" class=\"data row0 col11\" >0</td>\n",
       "      <td id=\"T_2530d_row0_col12\" class=\"data row0 col12\" >0</td>\n",
       "      <td id=\"T_2530d_row0_col13\" class=\"data row0 col13\" >0</td>\n",
       "      <td id=\"T_2530d_row0_col14\" class=\"data row0 col14\" >0</td>\n",
       "      <td id=\"T_2530d_row0_col15\" class=\"data row0 col15\" >0</td>\n",
       "      <td id=\"T_2530d_row0_col16\" class=\"data row0 col16\" >0</td>\n",
       "      <td id=\"T_2530d_row0_col17\" class=\"data row0 col17\" >0</td>\n",
       "    </tr>\n",
       "    <tr>\n",
       "      <th id=\"T_2530d_level0_row1\" class=\"row_heading level0 row1\" >1</th>\n",
       "      <td id=\"T_2530d_row1_col0\" class=\"data row1 col0\" >0</td>\n",
       "      <td id=\"T_2530d_row1_col1\" class=\"data row1 col1\" >0</td>\n",
       "      <td id=\"T_2530d_row1_col2\" class=\"data row1 col2\" >0</td>\n",
       "      <td id=\"T_2530d_row1_col3\" class=\"data row1 col3\" >0</td>\n",
       "      <td id=\"T_2530d_row1_col4\" class=\"data row1 col4\" >0</td>\n",
       "      <td id=\"T_2530d_row1_col5\" class=\"data row1 col5\" >29</td>\n",
       "      <td id=\"T_2530d_row1_col6\" class=\"data row1 col6\" >150</td>\n",
       "      <td id=\"T_2530d_row1_col7\" class=\"data row1 col7\" >195</td>\n",
       "      <td id=\"T_2530d_row1_col8\" class=\"data row1 col8\" >254</td>\n",
       "      <td id=\"T_2530d_row1_col9\" class=\"data row1 col9\" >255</td>\n",
       "      <td id=\"T_2530d_row1_col10\" class=\"data row1 col10\" >254</td>\n",
       "      <td id=\"T_2530d_row1_col11\" class=\"data row1 col11\" >176</td>\n",
       "      <td id=\"T_2530d_row1_col12\" class=\"data row1 col12\" >193</td>\n",
       "      <td id=\"T_2530d_row1_col13\" class=\"data row1 col13\" >150</td>\n",
       "      <td id=\"T_2530d_row1_col14\" class=\"data row1 col14\" >96</td>\n",
       "      <td id=\"T_2530d_row1_col15\" class=\"data row1 col15\" >0</td>\n",
       "      <td id=\"T_2530d_row1_col16\" class=\"data row1 col16\" >0</td>\n",
       "      <td id=\"T_2530d_row1_col17\" class=\"data row1 col17\" >0</td>\n",
       "    </tr>\n",
       "    <tr>\n",
       "      <th id=\"T_2530d_level0_row2\" class=\"row_heading level0 row2\" >2</th>\n",
       "      <td id=\"T_2530d_row2_col0\" class=\"data row2 col0\" >0</td>\n",
       "      <td id=\"T_2530d_row2_col1\" class=\"data row2 col1\" >0</td>\n",
       "      <td id=\"T_2530d_row2_col2\" class=\"data row2 col2\" >0</td>\n",
       "      <td id=\"T_2530d_row2_col3\" class=\"data row2 col3\" >48</td>\n",
       "      <td id=\"T_2530d_row2_col4\" class=\"data row2 col4\" >166</td>\n",
       "      <td id=\"T_2530d_row2_col5\" class=\"data row2 col5\" >224</td>\n",
       "      <td id=\"T_2530d_row2_col6\" class=\"data row2 col6\" >253</td>\n",
       "      <td id=\"T_2530d_row2_col7\" class=\"data row2 col7\" >253</td>\n",
       "      <td id=\"T_2530d_row2_col8\" class=\"data row2 col8\" >234</td>\n",
       "      <td id=\"T_2530d_row2_col9\" class=\"data row2 col9\" >196</td>\n",
       "      <td id=\"T_2530d_row2_col10\" class=\"data row2 col10\" >253</td>\n",
       "      <td id=\"T_2530d_row2_col11\" class=\"data row2 col11\" >253</td>\n",
       "      <td id=\"T_2530d_row2_col12\" class=\"data row2 col12\" >253</td>\n",
       "      <td id=\"T_2530d_row2_col13\" class=\"data row2 col13\" >253</td>\n",
       "      <td id=\"T_2530d_row2_col14\" class=\"data row2 col14\" >233</td>\n",
       "      <td id=\"T_2530d_row2_col15\" class=\"data row2 col15\" >0</td>\n",
       "      <td id=\"T_2530d_row2_col16\" class=\"data row2 col16\" >0</td>\n",
       "      <td id=\"T_2530d_row2_col17\" class=\"data row2 col17\" >0</td>\n",
       "    </tr>\n",
       "    <tr>\n",
       "      <th id=\"T_2530d_level0_row3\" class=\"row_heading level0 row3\" >3</th>\n",
       "      <td id=\"T_2530d_row3_col0\" class=\"data row3 col0\" >0</td>\n",
       "      <td id=\"T_2530d_row3_col1\" class=\"data row3 col1\" >93</td>\n",
       "      <td id=\"T_2530d_row3_col2\" class=\"data row3 col2\" >244</td>\n",
       "      <td id=\"T_2530d_row3_col3\" class=\"data row3 col3\" >249</td>\n",
       "      <td id=\"T_2530d_row3_col4\" class=\"data row3 col4\" >253</td>\n",
       "      <td id=\"T_2530d_row3_col5\" class=\"data row3 col5\" >187</td>\n",
       "      <td id=\"T_2530d_row3_col6\" class=\"data row3 col6\" >46</td>\n",
       "      <td id=\"T_2530d_row3_col7\" class=\"data row3 col7\" >10</td>\n",
       "      <td id=\"T_2530d_row3_col8\" class=\"data row3 col8\" >8</td>\n",
       "      <td id=\"T_2530d_row3_col9\" class=\"data row3 col9\" >4</td>\n",
       "      <td id=\"T_2530d_row3_col10\" class=\"data row3 col10\" >10</td>\n",
       "      <td id=\"T_2530d_row3_col11\" class=\"data row3 col11\" >194</td>\n",
       "      <td id=\"T_2530d_row3_col12\" class=\"data row3 col12\" >253</td>\n",
       "      <td id=\"T_2530d_row3_col13\" class=\"data row3 col13\" >253</td>\n",
       "      <td id=\"T_2530d_row3_col14\" class=\"data row3 col14\" >233</td>\n",
       "      <td id=\"T_2530d_row3_col15\" class=\"data row3 col15\" >0</td>\n",
       "      <td id=\"T_2530d_row3_col16\" class=\"data row3 col16\" >0</td>\n",
       "      <td id=\"T_2530d_row3_col17\" class=\"data row3 col17\" >0</td>\n",
       "    </tr>\n",
       "    <tr>\n",
       "      <th id=\"T_2530d_level0_row4\" class=\"row_heading level0 row4\" >4</th>\n",
       "      <td id=\"T_2530d_row4_col0\" class=\"data row4 col0\" >0</td>\n",
       "      <td id=\"T_2530d_row4_col1\" class=\"data row4 col1\" >107</td>\n",
       "      <td id=\"T_2530d_row4_col2\" class=\"data row4 col2\" >253</td>\n",
       "      <td id=\"T_2530d_row4_col3\" class=\"data row4 col3\" >253</td>\n",
       "      <td id=\"T_2530d_row4_col4\" class=\"data row4 col4\" >230</td>\n",
       "      <td id=\"T_2530d_row4_col5\" class=\"data row4 col5\" >48</td>\n",
       "      <td id=\"T_2530d_row4_col6\" class=\"data row4 col6\" >0</td>\n",
       "      <td id=\"T_2530d_row4_col7\" class=\"data row4 col7\" >0</td>\n",
       "      <td id=\"T_2530d_row4_col8\" class=\"data row4 col8\" >0</td>\n",
       "      <td id=\"T_2530d_row4_col9\" class=\"data row4 col9\" >0</td>\n",
       "      <td id=\"T_2530d_row4_col10\" class=\"data row4 col10\" >0</td>\n",
       "      <td id=\"T_2530d_row4_col11\" class=\"data row4 col11\" >192</td>\n",
       "      <td id=\"T_2530d_row4_col12\" class=\"data row4 col12\" >253</td>\n",
       "      <td id=\"T_2530d_row4_col13\" class=\"data row4 col13\" >253</td>\n",
       "      <td id=\"T_2530d_row4_col14\" class=\"data row4 col14\" >156</td>\n",
       "      <td id=\"T_2530d_row4_col15\" class=\"data row4 col15\" >0</td>\n",
       "      <td id=\"T_2530d_row4_col16\" class=\"data row4 col16\" >0</td>\n",
       "      <td id=\"T_2530d_row4_col17\" class=\"data row4 col17\" >0</td>\n",
       "    </tr>\n",
       "    <tr>\n",
       "      <th id=\"T_2530d_level0_row5\" class=\"row_heading level0 row5\" >5</th>\n",
       "      <td id=\"T_2530d_row5_col0\" class=\"data row5 col0\" >0</td>\n",
       "      <td id=\"T_2530d_row5_col1\" class=\"data row5 col1\" >3</td>\n",
       "      <td id=\"T_2530d_row5_col2\" class=\"data row5 col2\" >20</td>\n",
       "      <td id=\"T_2530d_row5_col3\" class=\"data row5 col3\" >20</td>\n",
       "      <td id=\"T_2530d_row5_col4\" class=\"data row5 col4\" >15</td>\n",
       "      <td id=\"T_2530d_row5_col5\" class=\"data row5 col5\" >0</td>\n",
       "      <td id=\"T_2530d_row5_col6\" class=\"data row5 col6\" >0</td>\n",
       "      <td id=\"T_2530d_row5_col7\" class=\"data row5 col7\" >0</td>\n",
       "      <td id=\"T_2530d_row5_col8\" class=\"data row5 col8\" >0</td>\n",
       "      <td id=\"T_2530d_row5_col9\" class=\"data row5 col9\" >0</td>\n",
       "      <td id=\"T_2530d_row5_col10\" class=\"data row5 col10\" >43</td>\n",
       "      <td id=\"T_2530d_row5_col11\" class=\"data row5 col11\" >224</td>\n",
       "      <td id=\"T_2530d_row5_col12\" class=\"data row5 col12\" >253</td>\n",
       "      <td id=\"T_2530d_row5_col13\" class=\"data row5 col13\" >245</td>\n",
       "      <td id=\"T_2530d_row5_col14\" class=\"data row5 col14\" >74</td>\n",
       "      <td id=\"T_2530d_row5_col15\" class=\"data row5 col15\" >0</td>\n",
       "      <td id=\"T_2530d_row5_col16\" class=\"data row5 col16\" >0</td>\n",
       "      <td id=\"T_2530d_row5_col17\" class=\"data row5 col17\" >0</td>\n",
       "    </tr>\n",
       "    <tr>\n",
       "      <th id=\"T_2530d_level0_row6\" class=\"row_heading level0 row6\" >6</th>\n",
       "      <td id=\"T_2530d_row6_col0\" class=\"data row6 col0\" >0</td>\n",
       "      <td id=\"T_2530d_row6_col1\" class=\"data row6 col1\" >0</td>\n",
       "      <td id=\"T_2530d_row6_col2\" class=\"data row6 col2\" >0</td>\n",
       "      <td id=\"T_2530d_row6_col3\" class=\"data row6 col3\" >0</td>\n",
       "      <td id=\"T_2530d_row6_col4\" class=\"data row6 col4\" >0</td>\n",
       "      <td id=\"T_2530d_row6_col5\" class=\"data row6 col5\" >0</td>\n",
       "      <td id=\"T_2530d_row6_col6\" class=\"data row6 col6\" >0</td>\n",
       "      <td id=\"T_2530d_row6_col7\" class=\"data row6 col7\" >0</td>\n",
       "      <td id=\"T_2530d_row6_col8\" class=\"data row6 col8\" >0</td>\n",
       "      <td id=\"T_2530d_row6_col9\" class=\"data row6 col9\" >0</td>\n",
       "      <td id=\"T_2530d_row6_col10\" class=\"data row6 col10\" >249</td>\n",
       "      <td id=\"T_2530d_row6_col11\" class=\"data row6 col11\" >253</td>\n",
       "      <td id=\"T_2530d_row6_col12\" class=\"data row6 col12\" >245</td>\n",
       "      <td id=\"T_2530d_row6_col13\" class=\"data row6 col13\" >126</td>\n",
       "      <td id=\"T_2530d_row6_col14\" class=\"data row6 col14\" >0</td>\n",
       "      <td id=\"T_2530d_row6_col15\" class=\"data row6 col15\" >0</td>\n",
       "      <td id=\"T_2530d_row6_col16\" class=\"data row6 col16\" >0</td>\n",
       "      <td id=\"T_2530d_row6_col17\" class=\"data row6 col17\" >0</td>\n",
       "    </tr>\n",
       "    <tr>\n",
       "      <th id=\"T_2530d_level0_row7\" class=\"row_heading level0 row7\" >7</th>\n",
       "      <td id=\"T_2530d_row7_col0\" class=\"data row7 col0\" >0</td>\n",
       "      <td id=\"T_2530d_row7_col1\" class=\"data row7 col1\" >0</td>\n",
       "      <td id=\"T_2530d_row7_col2\" class=\"data row7 col2\" >0</td>\n",
       "      <td id=\"T_2530d_row7_col3\" class=\"data row7 col3\" >0</td>\n",
       "      <td id=\"T_2530d_row7_col4\" class=\"data row7 col4\" >0</td>\n",
       "      <td id=\"T_2530d_row7_col5\" class=\"data row7 col5\" >0</td>\n",
       "      <td id=\"T_2530d_row7_col6\" class=\"data row7 col6\" >0</td>\n",
       "      <td id=\"T_2530d_row7_col7\" class=\"data row7 col7\" >14</td>\n",
       "      <td id=\"T_2530d_row7_col8\" class=\"data row7 col8\" >101</td>\n",
       "      <td id=\"T_2530d_row7_col9\" class=\"data row7 col9\" >223</td>\n",
       "      <td id=\"T_2530d_row7_col10\" class=\"data row7 col10\" >253</td>\n",
       "      <td id=\"T_2530d_row7_col11\" class=\"data row7 col11\" >248</td>\n",
       "      <td id=\"T_2530d_row7_col12\" class=\"data row7 col12\" >124</td>\n",
       "      <td id=\"T_2530d_row7_col13\" class=\"data row7 col13\" >0</td>\n",
       "      <td id=\"T_2530d_row7_col14\" class=\"data row7 col14\" >0</td>\n",
       "      <td id=\"T_2530d_row7_col15\" class=\"data row7 col15\" >0</td>\n",
       "      <td id=\"T_2530d_row7_col16\" class=\"data row7 col16\" >0</td>\n",
       "      <td id=\"T_2530d_row7_col17\" class=\"data row7 col17\" >0</td>\n",
       "    </tr>\n",
       "    <tr>\n",
       "      <th id=\"T_2530d_level0_row8\" class=\"row_heading level0 row8\" >8</th>\n",
       "      <td id=\"T_2530d_row8_col0\" class=\"data row8 col0\" >0</td>\n",
       "      <td id=\"T_2530d_row8_col1\" class=\"data row8 col1\" >0</td>\n",
       "      <td id=\"T_2530d_row8_col2\" class=\"data row8 col2\" >0</td>\n",
       "      <td id=\"T_2530d_row8_col3\" class=\"data row8 col3\" >0</td>\n",
       "      <td id=\"T_2530d_row8_col4\" class=\"data row8 col4\" >0</td>\n",
       "      <td id=\"T_2530d_row8_col5\" class=\"data row8 col5\" >11</td>\n",
       "      <td id=\"T_2530d_row8_col6\" class=\"data row8 col6\" >166</td>\n",
       "      <td id=\"T_2530d_row8_col7\" class=\"data row8 col7\" >239</td>\n",
       "      <td id=\"T_2530d_row8_col8\" class=\"data row8 col8\" >253</td>\n",
       "      <td id=\"T_2530d_row8_col9\" class=\"data row8 col9\" >253</td>\n",
       "      <td id=\"T_2530d_row8_col10\" class=\"data row8 col10\" >253</td>\n",
       "      <td id=\"T_2530d_row8_col11\" class=\"data row8 col11\" >187</td>\n",
       "      <td id=\"T_2530d_row8_col12\" class=\"data row8 col12\" >30</td>\n",
       "      <td id=\"T_2530d_row8_col13\" class=\"data row8 col13\" >0</td>\n",
       "      <td id=\"T_2530d_row8_col14\" class=\"data row8 col14\" >0</td>\n",
       "      <td id=\"T_2530d_row8_col15\" class=\"data row8 col15\" >0</td>\n",
       "      <td id=\"T_2530d_row8_col16\" class=\"data row8 col16\" >0</td>\n",
       "      <td id=\"T_2530d_row8_col17\" class=\"data row8 col17\" >0</td>\n",
       "    </tr>\n",
       "    <tr>\n",
       "      <th id=\"T_2530d_level0_row9\" class=\"row_heading level0 row9\" >9</th>\n",
       "      <td id=\"T_2530d_row9_col0\" class=\"data row9 col0\" >0</td>\n",
       "      <td id=\"T_2530d_row9_col1\" class=\"data row9 col1\" >0</td>\n",
       "      <td id=\"T_2530d_row9_col2\" class=\"data row9 col2\" >0</td>\n",
       "      <td id=\"T_2530d_row9_col3\" class=\"data row9 col3\" >0</td>\n",
       "      <td id=\"T_2530d_row9_col4\" class=\"data row9 col4\" >0</td>\n",
       "      <td id=\"T_2530d_row9_col5\" class=\"data row9 col5\" >16</td>\n",
       "      <td id=\"T_2530d_row9_col6\" class=\"data row9 col6\" >248</td>\n",
       "      <td id=\"T_2530d_row9_col7\" class=\"data row9 col7\" >250</td>\n",
       "      <td id=\"T_2530d_row9_col8\" class=\"data row9 col8\" >253</td>\n",
       "      <td id=\"T_2530d_row9_col9\" class=\"data row9 col9\" >253</td>\n",
       "      <td id=\"T_2530d_row9_col10\" class=\"data row9 col10\" >253</td>\n",
       "      <td id=\"T_2530d_row9_col11\" class=\"data row9 col11\" >253</td>\n",
       "      <td id=\"T_2530d_row9_col12\" class=\"data row9 col12\" >232</td>\n",
       "      <td id=\"T_2530d_row9_col13\" class=\"data row9 col13\" >213</td>\n",
       "      <td id=\"T_2530d_row9_col14\" class=\"data row9 col14\" >111</td>\n",
       "      <td id=\"T_2530d_row9_col15\" class=\"data row9 col15\" >2</td>\n",
       "      <td id=\"T_2530d_row9_col16\" class=\"data row9 col16\" >0</td>\n",
       "      <td id=\"T_2530d_row9_col17\" class=\"data row9 col17\" >0</td>\n",
       "    </tr>\n",
       "    <tr>\n",
       "      <th id=\"T_2530d_level0_row10\" class=\"row_heading level0 row10\" >10</th>\n",
       "      <td id=\"T_2530d_row10_col0\" class=\"data row10 col0\" >0</td>\n",
       "      <td id=\"T_2530d_row10_col1\" class=\"data row10 col1\" >0</td>\n",
       "      <td id=\"T_2530d_row10_col2\" class=\"data row10 col2\" >0</td>\n",
       "      <td id=\"T_2530d_row10_col3\" class=\"data row10 col3\" >0</td>\n",
       "      <td id=\"T_2530d_row10_col4\" class=\"data row10 col4\" >0</td>\n",
       "      <td id=\"T_2530d_row10_col5\" class=\"data row10 col5\" >0</td>\n",
       "      <td id=\"T_2530d_row10_col6\" class=\"data row10 col6\" >0</td>\n",
       "      <td id=\"T_2530d_row10_col7\" class=\"data row10 col7\" >43</td>\n",
       "      <td id=\"T_2530d_row10_col8\" class=\"data row10 col8\" >98</td>\n",
       "      <td id=\"T_2530d_row10_col9\" class=\"data row10 col9\" >98</td>\n",
       "      <td id=\"T_2530d_row10_col10\" class=\"data row10 col10\" >208</td>\n",
       "      <td id=\"T_2530d_row10_col11\" class=\"data row10 col11\" >253</td>\n",
       "      <td id=\"T_2530d_row10_col12\" class=\"data row10 col12\" >253</td>\n",
       "      <td id=\"T_2530d_row10_col13\" class=\"data row10 col13\" >253</td>\n",
       "      <td id=\"T_2530d_row10_col14\" class=\"data row10 col14\" >253</td>\n",
       "      <td id=\"T_2530d_row10_col15\" class=\"data row10 col15\" >187</td>\n",
       "      <td id=\"T_2530d_row10_col16\" class=\"data row10 col16\" >22</td>\n",
       "      <td id=\"T_2530d_row10_col17\" class=\"data row10 col17\" >0</td>\n",
       "    </tr>\n",
       "  </tbody>\n",
       "</table>\n"
      ],
      "text/plain": [
       "<pandas.io.formats.style.Styler at 0x2028f6da1d0>"
      ]
     },
     "execution_count": 13,
     "metadata": {},
     "output_type": "execute_result"
    }
   ],
   "source": [
    "im3_t = tensor(im3)\n",
    "df = pd.DataFrame(im3_t[4:15, 4:22])\n",
    "df.style.set_properties(**{\"font-size\": \"6pt\"}).background_gradient(\"Greys\")"
   ]
  },
  {
   "cell_type": "code",
   "execution_count": 14,
   "id": "c2c948ee",
   "metadata": {},
   "outputs": [
    {
     "data": {
      "text/plain": [
       "(6131, 6265)"
      ]
     },
     "execution_count": 14,
     "metadata": {},
     "output_type": "execute_result"
    }
   ],
   "source": [
    "seven_tensors = [tensor(Image.open(o)) for o in sevens]\n",
    "three_tensors = [tensor(Image.open(o)) for o in threes]\n",
    "len(three_tensors), len(seven_tensors)"
   ]
  },
  {
   "cell_type": "code",
   "execution_count": 15,
   "id": "2aa5269d",
   "metadata": {},
   "outputs": [
    {
     "data": {
      "text/plain": [
       "<Axes: >"
      ]
     },
     "execution_count": 15,
     "metadata": {},
     "output_type": "execute_result"
    },
    {
     "data": {
      "image/png": "[encoded data removed]",
      "text/plain": [
       "<Figure size 100x100 with 1 Axes>"
      ]
     },
     "metadata": {},
     "output_type": "display_data"
    }
   ],
   "source": [
    "show_image(three_tensors[1])"
   ]
  },
  {
   "cell_type": "code",
   "execution_count": 16,
   "id": "a23ce975",
   "metadata": {},
   "outputs": [
    {
     "data": {
      "text/plain": [
       "torch.Size([6131, 28, 28])"
      ]
     },
     "execution_count": 16,
     "metadata": {},
     "output_type": "execute_result"
    }
   ],
   "source": [
    "stacked_sevens = torch.stack(seven_tensors).float()/255\n",
    "stacked_threes = torch.stack(three_tensors).float()/255\n",
    "stacked_threes.shape"
   ]
  },
  {
   "cell_type": "code",
   "execution_count": 17,
   "id": "6467b395",
   "metadata": {},
   "outputs": [
    {
     "data": {
      "text/plain": [
       "3"
      ]
     },
     "execution_count": 17,
     "metadata": {},
     "output_type": "execute_result"
    }
   ],
   "source": [
    "len(stacked_threes.shape)"
   ]
  },
  {
   "cell_type": "code",
   "execution_count": 18,
   "id": "8a9e16a2",
   "metadata": {},
   "outputs": [
    {
     "data": {
      "text/plain": [
       "3"
      ]
     },
     "execution_count": 18,
     "metadata": {},
     "output_type": "execute_result"
    }
   ],
   "source": [
    "stacked_threes.ndim"
   ]
  },
  {
   "cell_type": "code",
   "execution_count": 20,
   "id": "1426bae5",
   "metadata": {},
   "outputs": [
    {
     "data": {
      "image/png": "[encoded data removed]",
      "text/plain": [
       "<Figure size 100x100 with 1 Axes>"
      ]
     },
     "metadata": {},
     "output_type": "display_data"
    }
   ],
   "source": [
    "mean3 = stacked_threes.mean(0)\n",
    "show_image(mean3);"
   ]
  },
  {
   "cell_type": "code",
   "execution_count": 22,
   "id": "a48f53a1",
   "metadata": {},
   "outputs": [
    {
     "data": {
      "image/png": "[encoded data removed]",
      "text/plain": [
       "<Figure size 100x100 with 1 Axes>"
      ]
     },
     "metadata": {},
     "output_type": "display_data"
    }
   ],
   "source": [
    "mean7 = stacked_sevens.mean(0)\n",
    "show_image(mean7);"
   ]
  },
  {
   "cell_type": "code",
   "execution_count": 23,
   "id": "0efd992f",
   "metadata": {},
   "outputs": [
    {
     "data": {
      "image/png": "[encoded data removed]",
      "text/plain": [
       "<Figure size 100x100 with 1 Axes>"
      ]
     },
     "metadata": {},
     "output_type": "display_data"
    }
   ],
   "source": [
    "a_3 = stacked_threes[1]\n",
    "show_image(a_3);"
   ]
  },
  {
   "cell_type": "code",
   "execution_count": 24,
   "id": "3c3d11aa",
   "metadata": {},
   "outputs": [
    {
     "data": {
      "text/plain": [
       "(tensor(0.1114), tensor(0.2021))"
      ]
     },
     "execution_count": 24,
     "metadata": {},
     "output_type": "execute_result"
    }
   ],
   "source": [
    "dist_3_abs = (a_3 - mean3).abs().mean()\n",
    "dist_3_sqr = ((a_3 - mean3)**2).mean().sqrt()\n",
    "dist_3_abs, dist_3_sqr"
   ]
  },
  {
   "cell_type": "code",
   "execution_count": 25,
   "id": "aed8d14c",
   "metadata": {},
   "outputs": [
    {
     "data": {
      "text/plain": [
       "(tensor(0.1586), tensor(0.3021))"
      ]
     },
     "execution_count": 25,
     "metadata": {},
     "output_type": "execute_result"
    }
   ],
   "source": [
    "dist_7_abs = (a_3 - mean7).abs().mean()\n",
    "dist_7_sqr = ((a_3 - mean7)**2).mean().sqrt()\n",
    "dist_7_abs, dist_7_sqr"
   ]
  },
  {
   "cell_type": "code",
   "execution_count": 26,
   "id": "ae30d344",
   "metadata": {},
   "outputs": [
    {
     "data": {
      "text/plain": [
       "(tensor(0.1586), tensor(0.3021))"
      ]
     },
     "execution_count": 26,
     "metadata": {},
     "output_type": "execute_result"
    }
   ],
   "source": [
    "F.l1_loss(a_3.float(), mean7), F.mse_loss(a_3,mean7).sqrt()"
   ]
  },
  {
   "cell_type": "code",
   "execution_count": 27,
   "id": "b189e55d",
   "metadata": {},
   "outputs": [
    {
     "name": "stdout",
     "output_type": "stream",
     "text": [
      "[[1 2 3]\n",
      " [4 5 6]]\n",
      "tensor([[1, 2, 3],\n",
      "        [4, 5, 6]])\n"
     ]
    }
   ],
   "source": [
    "data = [[1, 2, 3], [4, 5, 6]]\n",
    "arr = array(data)\n",
    "tns = tensor(data)\n",
    "\n",
    "print(arr) # 넘파이\n",
    "print(tns) # 파이토치"
   ]
  },
  {
   "cell_type": "code",
   "execution_count": 28,
   "id": "11ab3f46",
   "metadata": {},
   "outputs": [
    {
     "data": {
      "text/plain": [
       "tensor([4, 5, 6])"
      ]
     },
     "execution_count": 28,
     "metadata": {},
     "output_type": "execute_result"
    }
   ],
   "source": [
    "tns[1]"
   ]
  },
  {
   "cell_type": "code",
   "execution_count": 29,
   "id": "f6d3f771",
   "metadata": {},
   "outputs": [
    {
     "data": {
      "text/plain": [
       "tensor([2, 5])"
      ]
     },
     "execution_count": 29,
     "metadata": {},
     "output_type": "execute_result"
    }
   ],
   "source": [
    "tns[:,1]"
   ]
  },
  {
   "cell_type": "code",
   "execution_count": 30,
   "id": "53f7b291",
   "metadata": {},
   "outputs": [
    {
     "data": {
      "text/plain": [
       "tensor([5, 6])"
      ]
     },
     "execution_count": 30,
     "metadata": {},
     "output_type": "execute_result"
    }
   ],
   "source": [
    "tns[1, 1:3]"
   ]
  },
  {
   "cell_type": "code",
   "execution_count": 31,
   "id": "1a5cf0ac",
   "metadata": {},
   "outputs": [
    {
     "data": {
      "text/plain": [
       "tensor([[1, 2, 3],\n",
       "        [4, 5, 6]])"
      ]
     },
     "execution_count": 31,
     "metadata": {},
     "output_type": "execute_result"
    }
   ],
   "source": [
    "tns"
   ]
  },
  {
   "cell_type": "code",
   "execution_count": 32,
   "id": "8158b536",
   "metadata": {},
   "outputs": [
    {
     "data": {
      "text/plain": [
       "tensor([[2, 3, 4],\n",
       "        [5, 6, 7]])"
      ]
     },
     "execution_count": 32,
     "metadata": {},
     "output_type": "execute_result"
    }
   ],
   "source": [
    "tns+1"
   ]
  },
  {
   "cell_type": "code",
   "execution_count": 33,
   "id": "36dddd2a",
   "metadata": {},
   "outputs": [
    {
     "data": {
      "text/plain": [
       "'torch.LongTensor'"
      ]
     },
     "execution_count": 33,
     "metadata": {},
     "output_type": "execute_result"
    }
   ],
   "source": [
    "tns.type()"
   ]
  },
  {
   "cell_type": "code",
   "execution_count": 34,
   "id": "ba3d21b3",
   "metadata": {},
   "outputs": [
    {
     "data": {
      "text/plain": [
       "tensor([[1.5000, 3.0000, 4.5000],\n",
       "        [6.0000, 7.5000, 9.0000]])"
      ]
     },
     "execution_count": 34,
     "metadata": {},
     "output_type": "execute_result"
    }
   ],
   "source": [
    "tns*1.5"
   ]
  },
  {
   "cell_type": "code",
   "execution_count": 35,
   "id": "e125567b",
   "metadata": {},
   "outputs": [
    {
     "data": {
      "text/plain": [
       "(torch.Size([1010, 28, 28]), torch.Size([1028, 28, 28]))"
      ]
     },
     "execution_count": 35,
     "metadata": {},
     "output_type": "execute_result"
    }
   ],
   "source": [
    "valid_3_tens = torch.stack([tensor(Image.open(o)) for o in (path/\"valid\"/\"3\").ls()])\n",
    "valid_3_tens = valid_3_tens.float()/255\n",
    "valid_7_tens = torch.stack([tensor(Image.open(o)) for o in (path/\"valid\"/\"7\").ls()])\n",
    "valid_7_tens = valid_7_tens.float()/255\n",
    "valid_3_tens.shape, valid_7_tens.shape"
   ]
  },
  {
   "cell_type": "code",
   "execution_count": 36,
   "id": "06a69b88",
   "metadata": {},
   "outputs": [
    {
     "data": {
      "text/plain": [
       "tensor(0.1114)"
      ]
     },
     "execution_count": 36,
     "metadata": {},
     "output_type": "execute_result"
    }
   ],
   "source": [
    "def mnist_distance(a,b) : return (a-b).abs().mean((-1, -2))\n",
    "mnist_distance(a_3, mean3)"
   ]
  },
  {
   "cell_type": "code",
   "execution_count": 37,
   "id": "023c8edf",
   "metadata": {},
   "outputs": [
    {
     "data": {
      "text/plain": [
       "(tensor([0.1280, 0.1623, 0.1242,  ..., 0.1508, 0.1263, 0.1260]),\n",
       " torch.Size([1010]))"
      ]
     },
     "execution_count": 37,
     "metadata": {},
     "output_type": "execute_result"
    }
   ],
   "source": [
    "valid_3_dist = mnist_distance(valid_3_tens, mean3)\n",
    "valid_3_dist, valid_3_dist.shape"
   ]
  },
  {
   "cell_type": "code",
   "execution_count": 38,
   "id": "bea98506",
   "metadata": {},
   "outputs": [
    {
     "data": {
      "text/plain": [
       "tensor([2, 3, 4])"
      ]
     },
     "execution_count": 38,
     "metadata": {},
     "output_type": "execute_result"
    }
   ],
   "source": [
    "tensor([1, 2, 3]) + tensor(1)"
   ]
  },
  {
   "cell_type": "code",
   "execution_count": 39,
   "id": "5dc0ea8c",
   "metadata": {},
   "outputs": [
    {
     "data": {
      "text/plain": [
       "torch.Size([1010, 28, 28])"
      ]
     },
     "execution_count": 39,
     "metadata": {},
     "output_type": "execute_result"
    }
   ],
   "source": [
    "(valid_3_tens-mean3).shape"
   ]
  },
  {
   "cell_type": "code",
   "execution_count": 40,
   "id": "eef7defc",
   "metadata": {},
   "outputs": [],
   "source": [
    "def is_3(x): return mnist_distance(x, mean3) < mnist_distance(x, mean7)"
   ]
  },
  {
   "cell_type": "code",
   "execution_count": 42,
   "id": "93717ad7",
   "metadata": {},
   "outputs": [
    {
     "data": {
      "text/plain": [
       "(tensor(True), tensor(1.))"
      ]
     },
     "execution_count": 42,
     "metadata": {},
     "output_type": "execute_result"
    }
   ],
   "source": [
    "is_3(a_3), is_3(a_3).float()"
   ]
  },
  {
   "cell_type": "code",
   "execution_count": 43,
   "id": "0c766c15",
   "metadata": {},
   "outputs": [
    {
     "data": {
      "text/plain": [
       "tensor([ True,  True,  True,  ..., False,  True,  True])"
      ]
     },
     "execution_count": 43,
     "metadata": {},
     "output_type": "execute_result"
    }
   ],
   "source": [
    "is_3(valid_3_tens)"
   ]
  },
  {
   "cell_type": "code",
   "execution_count": 44,
   "id": "925bdaed",
   "metadata": {},
   "outputs": [
    {
     "data": {
      "text/plain": [
       "(tensor(0.9168), tensor(0.9854), tensor(0.9511))"
      ]
     },
     "execution_count": 44,
     "metadata": {},
     "output_type": "execute_result"
    }
   ],
   "source": [
    "accuracy_3s = is_3(valid_3_tens).float().mean()\n",
    "accuracy_7s = (1-is_3(valid_7_tens).float()).mean()\n",
    "accuracy_3s, accuracy_7s, (accuracy_3s+accuracy_7s)/2"
   ]
  },
  {
   "cell_type": "code",
   "execution_count": 49,
   "id": "f7ab1014",
   "metadata": {},
   "outputs": [],
   "source": [
    "xt = tensor(3.).requires_grad_()"
   ]
  },
  {
   "cell_type": "code",
   "execution_count": 50,
   "id": "08a79220",
   "metadata": {},
   "outputs": [],
   "source": [
    "yt = f(xt)"
   ]
  },
  {
   "cell_type": "code",
   "execution_count": 51,
   "id": "fa5b0cc8",
   "metadata": {},
   "outputs": [
    {
     "data": {
      "text/plain": [
       "tensor(9., grad_fn=<PowBackward0>)"
      ]
     },
     "execution_count": 51,
     "metadata": {},
     "output_type": "execute_result"
    }
   ],
   "source": [
    "yt"
   ]
  },
  {
   "cell_type": "code",
   "execution_count": 52,
   "id": "8e36a01d",
   "metadata": {},
   "outputs": [],
   "source": [
    "yt.backward()"
   ]
  },
  {
   "cell_type": "code",
   "execution_count": 53,
   "id": "194051f2",
   "metadata": {},
   "outputs": [
    {
     "data": {
      "text/plain": [
       "tensor(6.)"
      ]
     },
     "execution_count": 53,
     "metadata": {},
     "output_type": "execute_result"
    }
   ],
   "source": [
    "xt.grad"
   ]
  },
  {
   "cell_type": "code",
   "execution_count": 54,
   "id": "ab81feae",
   "metadata": {},
   "outputs": [],
   "source": [
    "xt = tensor([3., 4., 10.]).requires_grad_()"
   ]
  },
  {
   "cell_type": "code",
   "execution_count": 55,
   "id": "3dc8343e",
   "metadata": {},
   "outputs": [
    {
     "data": {
      "text/plain": [
       "tensor([ 3.,  4., 10.], requires_grad=True)"
      ]
     },
     "execution_count": 55,
     "metadata": {},
     "output_type": "execute_result"
    }
   ],
   "source": [
    "xt"
   ]
  },
  {
   "cell_type": "code",
   "execution_count": 56,
   "id": "bdd4451c",
   "metadata": {},
   "outputs": [
    {
     "data": {
      "text/plain": [
       "tensor(125., grad_fn=<SumBackward0>)"
      ]
     },
     "execution_count": 56,
     "metadata": {},
     "output_type": "execute_result"
    }
   ],
   "source": [
    "def f(x) : return (x**2).sum()\n",
    "yt = f(xt)\n",
    "yt"
   ]
  },
  {
   "cell_type": "code",
   "execution_count": 57,
   "id": "a54ec8e1",
   "metadata": {},
   "outputs": [
    {
     "data": {
      "text/plain": [
       "tensor([ 6.,  8., 20.])"
      ]
     },
     "execution_count": 57,
     "metadata": {},
     "output_type": "execute_result"
    }
   ],
   "source": [
    "yt.backward()\n",
    "xt.grad"
   ]
  },
  {
   "cell_type": "code",
   "execution_count": 58,
   "id": "2e37bb2f",
   "metadata": {},
   "outputs": [
    {
     "data": {
      "text/plain": [
       "tensor([ 0.,  1.,  2.,  3.,  4.,  5.,  6.,  7.,  8.,  9., 10., 11., 12., 13.,\n",
       "        14., 15., 16., 17., 18., 19.])"
      ]
     },
     "execution_count": 58,
     "metadata": {},
     "output_type": "execute_result"
    }
   ],
   "source": [
    "time = torch.arange(0, 20).float();\n",
    "time"
   ]
  },
  {
   "cell_type": "code",
   "execution_count": 59,
   "id": "83e761cb",
   "metadata": {},
   "outputs": [
    {
     "data": {
      "image/png": "[encoded data removed]",
      "text/plain": [
       "<Figure size 640x480 with 1 Axes>"
      ]
     },
     "metadata": {},
     "output_type": "display_data"
    }
   ],
   "source": [
    "speed = torch.randn(20)*3 + 0.75*(time-9.5)**2 + 1\n",
    "plt.scatter(time, speed);"
   ]
  },
  {
   "cell_type": "code",
   "execution_count": 60,
   "id": "42eb75bb",
   "metadata": {},
   "outputs": [],
   "source": [
    "def f(t, params):\n",
    "    a, b, c = params\n",
    "    return a*(t**2) + (b*t)+c"
   ]
  },
  {
   "cell_type": "code",
   "execution_count": 79,
   "id": "85a471bf",
   "metadata": {},
   "outputs": [],
   "source": [
    "def mse(preds, targets):\n",
    "    return ((preds-targets)**2).mean().sqrt()"
   ]
  },
  {
   "cell_type": "code",
   "execution_count": 62,
   "id": "8d960d32",
   "metadata": {},
   "outputs": [],
   "source": [
    "params = torch.randn(3).requires_grad_()"
   ]
  },
  {
   "cell_type": "code",
   "execution_count": 63,
   "id": "7944a642",
   "metadata": {},
   "outputs": [],
   "source": [
    "preds = f(time, params)"
   ]
  },
  {
   "cell_type": "code",
   "execution_count": 64,
   "id": "2d4fc0a0",
   "metadata": {},
   "outputs": [],
   "source": [
    "def show_preds(preds, ax=None):\n",
    "    if ax is None: \n",
    "        ax=plt.subplots()[1]\n",
    "    ax.scatter(time, speed)\n",
    "    ax.scatter(time, to_np(preds), color=\"red\")\n",
    "    ax.set_ylim(-300, 100)"
   ]
  },
  {
   "cell_type": "code",
   "execution_count": 65,
   "id": "dca93ac6",
   "metadata": {},
   "outputs": [
    {
     "data": {
      "image/png": "[encoded data removed]",
      "text/plain": [
       "<Figure size 640x480 with 1 Axes>"
      ]
     },
     "metadata": {},
     "output_type": "display_data"
    }
   ],
   "source": [
    "show_preds(preds)"
   ]
  },
  {
   "cell_type": "code",
   "execution_count": 66,
   "id": "f51a43b8",
   "metadata": {},
   "outputs": [
    {
     "data": {
      "text/plain": [
       "tensor(245.2856, grad_fn=<SqrtBackward0>)"
      ]
     },
     "execution_count": 66,
     "metadata": {},
     "output_type": "execute_result"
    }
   ],
   "source": [
    "loss = mse(preds, speed)\n",
    "loss"
   ]
  },
  {
   "cell_type": "code",
   "execution_count": 68,
   "id": "434d98f5",
   "metadata": {},
   "outputs": [
    {
     "data": {
      "text/plain": [
       "tensor([-166.7122,  -10.7100,   -0.7748])"
      ]
     },
     "execution_count": 68,
     "metadata": {},
     "output_type": "execute_result"
    }
   ],
   "source": [
    "loss.backward()\n",
    "params.grad"
   ]
  },
  {
   "cell_type": "code",
   "execution_count": 69,
   "id": "c2e06b2d",
   "metadata": {},
   "outputs": [
    {
     "data": {
      "text/plain": [
       "tensor([-1.6671e-03, -1.0710e-04, -7.7481e-06])"
      ]
     },
     "execution_count": 69,
     "metadata": {},
     "output_type": "execute_result"
    }
   ],
   "source": [
    "params.grad*1e-5"
   ]
  },
  {
   "cell_type": "code",
   "execution_count": 70,
   "id": "7c9d4a8d",
   "metadata": {},
   "outputs": [
    {
     "data": {
      "text/plain": [
       "tensor([-1.3058, -0.0504, -2.4324], requires_grad=True)"
      ]
     },
     "execution_count": 70,
     "metadata": {},
     "output_type": "execute_result"
    }
   ],
   "source": [
    "params"
   ]
  },
  {
   "cell_type": "code",
   "execution_count": 71,
   "id": "596f5a48",
   "metadata": {},
   "outputs": [],
   "source": [
    "lr = 1e-5\n",
    "params.data -= lr * params.grad.data\n",
    "params.grad = None"
   ]
  },
  {
   "cell_type": "code",
   "execution_count": 72,
   "id": "c42cbfae",
   "metadata": {},
   "outputs": [
    {
     "data": {
      "text/plain": [
       "tensor(245.0066, grad_fn=<SqrtBackward0>)"
      ]
     },
     "execution_count": 72,
     "metadata": {},
     "output_type": "execute_result"
    }
   ],
   "source": [
    "preds = f(time, params)\n",
    "mse(preds, speed)"
   ]
  },
  {
   "cell_type": "code",
   "execution_count": 73,
   "id": "3e911ede",
   "metadata": {},
   "outputs": [
    {
     "data": {
      "image/png": "[encoded data removed]",
      "text/plain": [
       "<Figure size 640x480 with 1 Axes>"
      ]
     },
     "metadata": {},
     "output_type": "display_data"
    }
   ],
   "source": [
    "show_preds(preds)"
   ]
  },
  {
   "cell_type": "code",
   "execution_count": 74,
   "id": "62507944",
   "metadata": {},
   "outputs": [],
   "source": [
    "def apply_step(params, prn=True):\n",
    "    preds = f(time, params)\n",
    "    loss = mse(preds, speed)\n",
    "    loss.backward()\n",
    "    params.data -= lr * params.grad.data\n",
    "    params.grad = None\n",
    "    if prn: print(loss.item())\n",
    "    return preds"
   ]
  },
  {
   "cell_type": "code",
   "execution_count": 75,
   "id": "6e3e4e53",
   "metadata": {},
   "outputs": [
    {
     "name": "stdout",
     "output_type": "stream",
     "text": [
      "245.006591796875\n",
      "244.72750854492188\n",
      "244.4484405517578\n",
      "244.16940307617188\n",
      "243.8903350830078\n",
      "243.61129760742188\n",
      "243.33226013183594\n",
      "243.05325317382812\n",
      "242.7742156982422\n",
      "242.49520874023438\n"
     ]
    }
   ],
   "source": [
    "for i in range(10): apply_step(params)"
   ]
  },
  {
   "cell_type": "code",
   "execution_count": 80,
   "id": "d6438423",
   "metadata": {},
   "outputs": [
    {
     "data": {
      "image/png": "[encoded data removed]",
      "text/plain": [
       "<Figure size 1200x300 with 4 Axes>"
      ]
     },
     "metadata": {},
     "output_type": "display_data"
    }
   ],
   "source": [
    "_, axs = plt.subplots(1, 4, figsize=(12,3))\n",
    "for ax in axs: show_preds(apply_step(params, False), ax)\n",
    "plt.tight_layout()"
   ]
  },
  {
   "cell_type": "code",
   "execution_count": 81,
   "id": "dee919c7",
   "metadata": {},
   "outputs": [],
   "source": [
    "train_x = torch.cat([stacked_threes, stacked_sevens]).view(-1, 28*28)"
   ]
  },
  {
   "cell_type": "code",
   "execution_count": 82,
   "id": "1e194739",
   "metadata": {},
   "outputs": [
    {
     "data": {
      "text/plain": [
       "(torch.Size([12396, 784]), torch.Size([12396, 1]))"
      ]
     },
     "execution_count": 82,
     "metadata": {},
     "output_type": "execute_result"
    }
   ],
   "source": [
    "train_y = tensor([1]*len(threes) + [0]*len(sevens)).unsqueeze(1)\n",
    "train_x.shape, train_y.shape"
   ]
  },
  {
   "cell_type": "code",
   "execution_count": 83,
   "id": "389ecff8",
   "metadata": {},
   "outputs": [
    {
     "data": {
      "text/plain": [
       "(torch.Size([784]), tensor([1]))"
      ]
     },
     "execution_count": 83,
     "metadata": {},
     "output_type": "execute_result"
    }
   ],
   "source": [
    "dset = list(zip(train_x, train_y))\n",
    "x, y = dset[0]\n",
    "x.shape, y"
   ]
  },
  {
   "cell_type": "code",
   "execution_count": 84,
   "id": "18d6f3cf",
   "metadata": {},
   "outputs": [],
   "source": [
    "valid_x = torch.cat([valid_3_tens, valid_7_tens]).view(-1, 28*28)\n",
    "valid_y = tensor([1]*len(valid_3_tens) + [0]*len(valid_7_tens)).unsqueeze(1)\n",
    "valid_dset = list(zip(valid_x, valid_y))"
   ]
  },
  {
   "cell_type": "code",
   "execution_count": 85,
   "id": "59b61973",
   "metadata": {},
   "outputs": [],
   "source": [
    "def init_params(size, std=1.0): \n",
    "    return (torch.randn(size)*std).requires_grad_()\n",
    "weights = init_params((28*28, 1))"
   ]
  },
  {
   "cell_type": "code",
   "execution_count": 86,
   "id": "c466975c",
   "metadata": {},
   "outputs": [],
   "source": [
    "bias = init_params(1)"
   ]
  },
  {
   "cell_type": "code",
   "execution_count": 87,
   "id": "06df5aef",
   "metadata": {},
   "outputs": [
    {
     "data": {
      "text/plain": [
       "tensor([5.6680], grad_fn=<AddBackward0>)"
      ]
     },
     "execution_count": 87,
     "metadata": {},
     "output_type": "execute_result"
    }
   ],
   "source": [
    "(train_x[0]*weights.T).sum() + bias"
   ]
  },
  {
   "cell_type": "code",
   "execution_count": 88,
   "id": "167f5c8d",
   "metadata": {},
   "outputs": [
    {
     "data": {
      "text/plain": [
       "tensor([[ 5.6680],\n",
       "        [ 0.0943],\n",
       "        [-6.3598],\n",
       "        ...,\n",
       "        [ 5.4936],\n",
       "        [ 0.5956],\n",
       "        [ 9.0746]], grad_fn=<AddBackward0>)"
      ]
     },
     "execution_count": 88,
     "metadata": {},
     "output_type": "execute_result"
    }
   ],
   "source": [
    "def linear1(xb): \n",
    "    return xb@weights + bias\n",
    "preds = linear1(train_x)\n",
    "preds"
   ]
  },
  {
   "cell_type": "code",
   "execution_count": 89,
   "id": "3bc460d0",
   "metadata": {},
   "outputs": [
    {
     "data": {
      "text/plain": [
       "tensor([[ True],\n",
       "        [False],\n",
       "        [False],\n",
       "        ...,\n",
       "        [False],\n",
       "        [False],\n",
       "        [False]])"
      ]
     },
     "execution_count": 89,
     "metadata": {},
     "output_type": "execute_result"
    }
   ],
   "source": [
    "corrects = (preds>0.5).float() == train_y\n",
    "corrects"
   ]
  },
  {
   "cell_type": "code",
   "execution_count": 90,
   "id": "fe457200",
   "metadata": {},
   "outputs": [
    {
     "data": {
      "text/plain": [
       "0.4045659899711609"
      ]
     },
     "execution_count": 90,
     "metadata": {},
     "output_type": "execute_result"
    }
   ],
   "source": [
    "corrects.float().mean().item()"
   ]
  },
  {
   "cell_type": "code",
   "execution_count": 95,
   "id": "21cd7593",
   "metadata": {},
   "outputs": [
    {
     "ename": "RuntimeError",
     "evalue": "a view of a leaf Variable that requires grad is being used in an in-place operation.",
     "output_type": "error",
     "traceback": [
      "\u001b[1;31m---------------------------------------------------------------------------\u001b[0m",
      "\u001b[1;31mRuntimeError\u001b[0m                              Traceback (most recent call last)",
      "Cell \u001b[1;32mIn[95], line 1\u001b[0m\n\u001b[1;32m----> 1\u001b[0m weights[\u001b[38;5;241m0\u001b[39m] \u001b[38;5;241m=\u001b[39m weights[\u001b[38;5;241m0\u001b[39m] \u001b[38;5;241m*\u001b[39m \u001b[38;5;241m1.0001\u001b[39m\n",
      "\u001b[1;31mRuntimeError\u001b[0m: a view of a leaf Variable that requires grad is being used in an in-place operation."
     ]
    }
   ],
   "source": [
    "weights[0] = weights[0] * 1.0001"
   ]
  },
  {
   "cell_type": "code",
   "execution_count": 94,
   "id": "d5e496ab",
   "metadata": {},
   "outputs": [
    {
     "data": {
      "text/plain": [
       "0.4045659899711609"
      ]
     },
     "execution_count": 94,
     "metadata": {},
     "output_type": "execute_result"
    }
   ],
   "source": [
    "preds = linear1(train_x)\n",
    "((preds>0.5).float() == train_y).float().mean().item()"
   ]
  },
  {
   "cell_type": "code",
   "execution_count": 96,
   "id": "e8d199a9",
   "metadata": {},
   "outputs": [],
   "source": [
    "trgts = tensor([1, 0, 1])"
   ]
  },
  {
   "cell_type": "code",
   "execution_count": 97,
   "id": "aa45231c",
   "metadata": {},
   "outputs": [],
   "source": [
    "prds = tensor([0.9, 0.4, 0.2])"
   ]
  },
  {
   "cell_type": "code",
   "execution_count": 98,
   "id": "d7722c55",
   "metadata": {},
   "outputs": [],
   "source": [
    "def mnist_loss(predictions, targets):\n",
    "    return torch.where(targets==1, 1-predictions, predictions).mean()"
   ]
  },
  {
   "cell_type": "code",
   "execution_count": 99,
   "id": "b109e6f2",
   "metadata": {},
   "outputs": [
    {
     "data": {
      "text/plain": [
       "tensor([0.1000, 0.4000, 0.8000])"
      ]
     },
     "execution_count": 99,
     "metadata": {},
     "output_type": "execute_result"
    }
   ],
   "source": [
    "torch.where(trgts==1, 1-prds, prds)"
   ]
  },
  {
   "cell_type": "code",
   "execution_count": null,
   "id": "9034252d",
   "metadata": {},
   "outputs": [],
   "source": []
  }
 ],
 "metadata": {
  "kernelspec": {
   "display_name": "Python 3 (ipykernel)",
   "language": "python",
   "name": "python3"
  },
  "language_info": {
   "codemirror_mode": {
    "name": "ipython",
    "version": 3
   },
   "file_extension": ".py",
   "mimetype": "text/x-python",
   "name": "python",
   "nbconvert_exporter": "python",
   "pygments_lexer": "ipython3",
   "version": "3.10.9"
  }
 },
 "nbformat": 4,
 "nbformat_minor": 5
}
